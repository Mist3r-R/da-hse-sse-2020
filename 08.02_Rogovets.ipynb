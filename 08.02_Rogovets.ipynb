{
 "cells": [
  {
   "cell_type": "markdown",
   "metadata": {},
   "source": [
    "# 08.02.20\n",
    "\n",
    "**Author:** Miron Rogovets\n",
    "\n",
    "---\n",
    "\n",
    "### Task 1. Chi-square test. Use data_games.dta file.\n",
    "\n",
    "**1.1.** Analyze the relationship between **payment_type** and **payment_method** using Chi-square statistical test. Is the Chi-square test applicable for this pair of variables? If yes, formulate hypotheses, interpret the results of analysis and make conclusions. Create a suitable graph to demonstrate the relationship between these two variables."
   ]
  },
  {
   "cell_type": "code",
   "execution_count": 88,
   "metadata": {},
   "outputs": [],
   "source": [
    "import pandas as pd\n",
    "import numpy as np\n",
    "import matplotlib.pyplot as plt\n",
    "from scipy.stats import chi2_contingency\n",
    "from scipy.stats import kstest, ttest_ind, kruskal\n",
    "from scipy.stats import pearsonr, spearmanr, kendalltau\n",
    "import pingouin as pg"
   ]
  },
  {
   "cell_type": "code",
   "execution_count": 89,
   "metadata": {},
   "outputs": [
    {
     "data": {
      "text/html": [
       "<div>\n",
       "<style scoped>\n",
       "    .dataframe tbody tr th:only-of-type {\n",
       "        vertical-align: middle;\n",
       "    }\n",
       "\n",
       "    .dataframe tbody tr th {\n",
       "        vertical-align: top;\n",
       "    }\n",
       "\n",
       "    .dataframe thead th {\n",
       "        text-align: right;\n",
       "    }\n",
       "</style>\n",
       "<table border=\"1\" class=\"dataframe\">\n",
       "  <thead>\n",
       "    <tr style=\"text-align: right;\">\n",
       "      <th></th>\n",
       "      <th>id</th>\n",
       "      <th>pack_id</th>\n",
       "      <th>crystalls_balance_before_buy</th>\n",
       "      <th>crystalls_bought</th>\n",
       "      <th>country</th>\n",
       "      <th>payment</th>\n",
       "      <th>utc_timestamp</th>\n",
       "      <th>payment_type</th>\n",
       "      <th>payment_method</th>\n",
       "    </tr>\n",
       "  </thead>\n",
       "  <tbody>\n",
       "    <tr>\n",
       "      <th>0</th>\n",
       "      <td>2.052791e+09</td>\n",
       "      <td>3.0</td>\n",
       "      <td>0.0</td>\n",
       "      <td>41.0</td>\n",
       "      <td>GB</td>\n",
       "      <td>644.0</td>\n",
       "      <td>1.414842e+09</td>\n",
       "      <td>offer</td>\n",
       "      <td>general</td>\n",
       "    </tr>\n",
       "    <tr>\n",
       "      <th>1</th>\n",
       "      <td>1.275033e+09</td>\n",
       "      <td>1.0</td>\n",
       "      <td>10.0</td>\n",
       "      <td>7.0</td>\n",
       "      <td>US</td>\n",
       "      <td>205.0</td>\n",
       "      <td>1.414814e+09</td>\n",
       "      <td>offer</td>\n",
       "      <td>general</td>\n",
       "    </tr>\n",
       "    <tr>\n",
       "      <th>2</th>\n",
       "      <td>2.000015e+14</td>\n",
       "      <td>2.0</td>\n",
       "      <td>2.0</td>\n",
       "      <td>14.0</td>\n",
       "      <td>US</td>\n",
       "      <td>514.0</td>\n",
       "      <td>1.414866e+09</td>\n",
       "      <td>regular</td>\n",
       "      <td>general</td>\n",
       "    </tr>\n",
       "    <tr>\n",
       "      <th>3</th>\n",
       "      <td>1.119068e+09</td>\n",
       "      <td>4.0</td>\n",
       "      <td>0.0</td>\n",
       "      <td>70.0</td>\n",
       "      <td>GB</td>\n",
       "      <td>1289.0</td>\n",
       "      <td>1.414917e+09</td>\n",
       "      <td>regular</td>\n",
       "      <td>general</td>\n",
       "    </tr>\n",
       "    <tr>\n",
       "      <th>4</th>\n",
       "      <td>2.000028e+14</td>\n",
       "      <td>3.0</td>\n",
       "      <td>0.0</td>\n",
       "      <td>30.0</td>\n",
       "      <td>US</td>\n",
       "      <td>1029.0</td>\n",
       "      <td>1.414946e+09</td>\n",
       "      <td>regular</td>\n",
       "      <td>general</td>\n",
       "    </tr>\n",
       "  </tbody>\n",
       "</table>\n",
       "</div>"
      ],
      "text/plain": [
       "             id  pack_id  crystalls_balance_before_buy  crystalls_bought  \\\n",
       "0  2.052791e+09      3.0                           0.0              41.0   \n",
       "1  1.275033e+09      1.0                          10.0               7.0   \n",
       "2  2.000015e+14      2.0                           2.0              14.0   \n",
       "3  1.119068e+09      4.0                           0.0              70.0   \n",
       "4  2.000028e+14      3.0                           0.0              30.0   \n",
       "\n",
       "  country  payment  utc_timestamp payment_type payment_method  \n",
       "0      GB    644.0   1.414842e+09        offer        general  \n",
       "1      US    205.0   1.414814e+09        offer        general  \n",
       "2      US    514.0   1.414866e+09      regular        general  \n",
       "3      GB   1289.0   1.414917e+09      regular        general  \n",
       "4      US   1029.0   1.414946e+09      regular        general  "
      ]
     },
     "execution_count": 89,
     "metadata": {},
     "output_type": "execute_result"
    }
   ],
   "source": [
    "df = pd.read_stata('data/data_games.dta')\n",
    "df.head()"
   ]
  },
  {
   "cell_type": "markdown",
   "metadata": {},
   "source": [
    "To test whether variables _payment_type_ and _payment_method_ are associated we define the following hypothesis:\n",
    "\n",
    "**H0:** The variables _payment_type_ and _payment_method_ are **independent**\n",
    "\n",
    "**H1:** The variables _payment_type_ and _payment_method_ are **not independent**\n",
    "\n",
    "We also choose a significance level $\\alpha$ **= 0.05**"
   ]
  },
  {
   "cell_type": "code",
   "execution_count": 90,
   "metadata": {},
   "outputs": [
    {
     "data": {
      "text/html": [
       "<div>\n",
       "<style scoped>\n",
       "    .dataframe tbody tr th:only-of-type {\n",
       "        vertical-align: middle;\n",
       "    }\n",
       "\n",
       "    .dataframe tbody tr th {\n",
       "        vertical-align: top;\n",
       "    }\n",
       "\n",
       "    .dataframe thead th {\n",
       "        text-align: right;\n",
       "    }\n",
       "</style>\n",
       "<table border=\"1\" class=\"dataframe\">\n",
       "  <thead>\n",
       "    <tr style=\"text-align: right;\">\n",
       "      <th>payment_method</th>\n",
       "      <th>fb_promotion</th>\n",
       "      <th>general</th>\n",
       "      <th>giftcard</th>\n",
       "      <th>mobile</th>\n",
       "    </tr>\n",
       "    <tr>\n",
       "      <th>payment_type</th>\n",
       "      <th></th>\n",
       "      <th></th>\n",
       "      <th></th>\n",
       "      <th></th>\n",
       "    </tr>\n",
       "  </thead>\n",
       "  <tbody>\n",
       "    <tr>\n",
       "      <th>offer</th>\n",
       "      <td>0</td>\n",
       "      <td>13538</td>\n",
       "      <td>0</td>\n",
       "      <td>301</td>\n",
       "    </tr>\n",
       "    <tr>\n",
       "      <th>regular</th>\n",
       "      <td>498</td>\n",
       "      <td>89740</td>\n",
       "      <td>58</td>\n",
       "      <td>1372</td>\n",
       "    </tr>\n",
       "  </tbody>\n",
       "</table>\n",
       "</div>"
      ],
      "text/plain": [
       "payment_method  fb_promotion  general  giftcard  mobile\n",
       "payment_type                                           \n",
       "offer                      0    13538         0     301\n",
       "regular                  498    89740        58    1372"
      ]
     },
     "execution_count": 90,
     "metadata": {},
     "output_type": "execute_result"
    }
   ],
   "source": [
    "tab = pd.crosstab(df.payment_type, df.payment_method)\n",
    "tab"
   ]
  },
  {
   "cell_type": "code",
   "execution_count": 91,
   "metadata": {},
   "outputs": [],
   "source": [
    "alpha = 0.05\n",
    "stat, p, dof, expected = chi2_contingency(tab)"
   ]
  },
  {
   "cell_type": "code",
   "execution_count": 92,
   "metadata": {},
   "outputs": [
    {
     "name": "stdout",
     "output_type": "stream",
     "text": [
      "significance=0.050000, p=0.000000\n",
      "Variables are associated (reject H0)\n"
     ]
    }
   ],
   "source": [
    "print('significance=%f, p=%f' % (alpha, p))\n",
    "if p <= alpha:\n",
    "    print('Variables are associated (reject H0)')\n",
    "else:\n",
    "    print('Variables are not associated(fail to reject H0)')"
   ]
  },
  {
   "cell_type": "code",
   "execution_count": 93,
   "metadata": {},
   "outputs": [
    {
     "data": {
      "text/plain": [
       "<matplotlib.axes._subplots.AxesSubplot at 0x1235e8490>"
      ]
     },
     "execution_count": 93,
     "metadata": {},
     "output_type": "execute_result"
    },
    {
     "data": {
      "image/png": "[encoded data removed]",
      "text/plain": [
       "<Figure size 432x288 with 1 Axes>"
      ]
     },
     "metadata": {},
     "output_type": "display_data"
    }
   ],
   "source": [
    "tab.plot.bar()"
   ]
  },
  {
   "cell_type": "markdown",
   "metadata": {},
   "source": [
    "**1.2.** Analyze the relationship between **payment_type** and **crystalls_balance_before_buy** using Chi-square statistical test. Is the Chi-square test applicable for this pair of variables? If yes, formulate hypotheses, interpret the results of analysis and make conclusions. Create a suitable graph to demonstrate the relationship between these two variables."
   ]
  },
  {
   "cell_type": "markdown",
   "metadata": {},
   "source": [
    "The Chi-square cannot be applied since the variables are numeric and categorical."
   ]
  },
  {
   "cell_type": "markdown",
   "metadata": {},
   "source": [
    "---\n",
    "\n",
    "### Task 2. Scatterplot. Normality test. Correlation. Use data_games.dta file.\n",
    "\n",
    "**2.1.** Create a scatterplot between **crystalls_balance_before_buy** and **payment**. Copy the scatterplot into this file."
   ]
  },
  {
   "cell_type": "code",
   "execution_count": 94,
   "metadata": {},
   "outputs": [
    {
     "data": {
      "text/html": [
       "<div>\n",
       "<style scoped>\n",
       "    .dataframe tbody tr th:only-of-type {\n",
       "        vertical-align: middle;\n",
       "    }\n",
       "\n",
       "    .dataframe tbody tr th {\n",
       "        vertical-align: top;\n",
       "    }\n",
       "\n",
       "    .dataframe thead th {\n",
       "        text-align: right;\n",
       "    }\n",
       "</style>\n",
       "<table border=\"1\" class=\"dataframe\">\n",
       "  <thead>\n",
       "    <tr style=\"text-align: right;\">\n",
       "      <th></th>\n",
       "      <th>id</th>\n",
       "      <th>pack_id</th>\n",
       "      <th>crystalls_balance_before_buy</th>\n",
       "      <th>crystalls_bought</th>\n",
       "      <th>country</th>\n",
       "      <th>payment</th>\n",
       "      <th>utc_timestamp</th>\n",
       "      <th>payment_type</th>\n",
       "      <th>payment_method</th>\n",
       "    </tr>\n",
       "  </thead>\n",
       "  <tbody>\n",
       "    <tr>\n",
       "      <th>0</th>\n",
       "      <td>2.052791e+09</td>\n",
       "      <td>3.0</td>\n",
       "      <td>0.0</td>\n",
       "      <td>41.0</td>\n",
       "      <td>GB</td>\n",
       "      <td>644.0</td>\n",
       "      <td>1.414842e+09</td>\n",
       "      <td>offer</td>\n",
       "      <td>general</td>\n",
       "    </tr>\n",
       "    <tr>\n",
       "      <th>1</th>\n",
       "      <td>1.275033e+09</td>\n",
       "      <td>1.0</td>\n",
       "      <td>10.0</td>\n",
       "      <td>7.0</td>\n",
       "      <td>US</td>\n",
       "      <td>205.0</td>\n",
       "      <td>1.414814e+09</td>\n",
       "      <td>offer</td>\n",
       "      <td>general</td>\n",
       "    </tr>\n",
       "    <tr>\n",
       "      <th>2</th>\n",
       "      <td>2.000015e+14</td>\n",
       "      <td>2.0</td>\n",
       "      <td>2.0</td>\n",
       "      <td>14.0</td>\n",
       "      <td>US</td>\n",
       "      <td>514.0</td>\n",
       "      <td>1.414866e+09</td>\n",
       "      <td>regular</td>\n",
       "      <td>general</td>\n",
       "    </tr>\n",
       "    <tr>\n",
       "      <th>3</th>\n",
       "      <td>1.119068e+09</td>\n",
       "      <td>4.0</td>\n",
       "      <td>0.0</td>\n",
       "      <td>70.0</td>\n",
       "      <td>GB</td>\n",
       "      <td>1289.0</td>\n",
       "      <td>1.414917e+09</td>\n",
       "      <td>regular</td>\n",
       "      <td>general</td>\n",
       "    </tr>\n",
       "    <tr>\n",
       "      <th>4</th>\n",
       "      <td>2.000028e+14</td>\n",
       "      <td>3.0</td>\n",
       "      <td>0.0</td>\n",
       "      <td>30.0</td>\n",
       "      <td>US</td>\n",
       "      <td>1029.0</td>\n",
       "      <td>1.414946e+09</td>\n",
       "      <td>regular</td>\n",
       "      <td>general</td>\n",
       "    </tr>\n",
       "  </tbody>\n",
       "</table>\n",
       "</div>"
      ],
      "text/plain": [
       "             id  pack_id  crystalls_balance_before_buy  crystalls_bought  \\\n",
       "0  2.052791e+09      3.0                           0.0              41.0   \n",
       "1  1.275033e+09      1.0                          10.0               7.0   \n",
       "2  2.000015e+14      2.0                           2.0              14.0   \n",
       "3  1.119068e+09      4.0                           0.0              70.0   \n",
       "4  2.000028e+14      3.0                           0.0              30.0   \n",
       "\n",
       "  country  payment  utc_timestamp payment_type payment_method  \n",
       "0      GB    644.0   1.414842e+09        offer        general  \n",
       "1      US    205.0   1.414814e+09        offer        general  \n",
       "2      US    514.0   1.414866e+09      regular        general  \n",
       "3      GB   1289.0   1.414917e+09      regular        general  \n",
       "4      US   1029.0   1.414946e+09      regular        general  "
      ]
     },
     "execution_count": 94,
     "metadata": {},
     "output_type": "execute_result"
    }
   ],
   "source": [
    "df = pd.read_stata('data/data_games.dta')\n",
    "df.head()"
   ]
  },
  {
   "cell_type": "code",
   "execution_count": 95,
   "metadata": {},
   "outputs": [
    {
     "data": {
      "image/png": "[encoded data removed]",
      "text/plain": [
       "<Figure size 432x288 with 1 Axes>"
      ]
     },
     "metadata": {},
     "output_type": "display_data"
    }
   ],
   "source": [
    "plt.scatter(df.crystalls_balance_before_buy, df.payment, marker = \"o\", alpha = 0.5)\n",
    "plt.show()"
   ]
  },
  {
   "cell_type": "markdown",
   "metadata": {},
   "source": [
    "**2.2.** Run the suitable normality test to conclude whether the distribution of **payment** variable is significantly different from the normal. Formulate hypothesis. Make conclusions."
   ]
  },
  {
   "cell_type": "code",
   "execution_count": 96,
   "metadata": {},
   "outputs": [
    {
     "data": {
      "text/plain": [
       "105507"
      ]
     },
     "execution_count": 96,
     "metadata": {},
     "output_type": "execute_result"
    }
   ],
   "source": [
    "len(df.payment)"
   ]
  },
  {
   "cell_type": "markdown",
   "metadata": {},
   "source": [
    "Since the sample's size is much greater than 100, _Shapiro-Wilks test_ is not suitable. So we will use _Kolmogorov-Smirnov_ normality test\n",
    "\n",
    "We define the following hypothesis:\n",
    "\n",
    "H0: Distribution of variable _payment_ is **not significantly different** from normal distribution.\n",
    "\n",
    "H1: Distribution of variable _payment_ is **significantly different** from normal distribution."
   ]
  },
  {
   "cell_type": "code",
   "execution_count": 97,
   "metadata": {},
   "outputs": [
    {
     "name": "stdout",
     "output_type": "stream",
     "text": [
      "P-value:  0.0\n",
      "Reject H0\n"
     ]
    }
   ],
   "source": [
    "alpha = 0.05\n",
    "p = kstest(df.payment, 'norm').pvalue\n",
    "print('P-value: ', p)\n",
    "if p <= alpha:\n",
    "    print('Reject H0')\n",
    "else:\n",
    "    print('Accept H0')"
   ]
  },
  {
   "cell_type": "markdown",
   "metadata": {},
   "source": [
    "Calculate an appropriate correlation coefficient between three pairs of variables. Fill in the table below. Interpret the results.\n",
    "\n",
    "\n",
    "| Variables | Type of the appropriate correlation coefficient | Hypotheses | Strength of the relationship | Direction of the relationship | Significance of the relationship |\n",
    "|:---|:---:|:---:|:---:|:---:|:---:|\n",
    "| crystalls_balance_before_buy and payment | Spearman | H0: variables are independent | Very weak | Positive | 0.01 |\n",
    "| crystalls_balance_before_buy and crystalls_bought | Kendall | H0: variables are independent | Very weak | Positive | 0.01 |\n",
    "| crystalls_bought and payment | Pearson | H0: variables are independent | Strong | Positive | 0.01 |"
   ]
  },
  {
   "cell_type": "code",
   "execution_count": 98,
   "metadata": {},
   "outputs": [
    {
     "data": {
      "text/plain": [
       "<matplotlib.collections.PathCollection at 0x123e4c6d0>"
      ]
     },
     "execution_count": 98,
     "metadata": {},
     "output_type": "execute_result"
    },
    {
     "data": {
      "image/png": "[encoded data removed]",
      "text/plain": [
       "<Figure size 432x288 with 1 Axes>"
      ]
     },
     "metadata": {},
     "output_type": "display_data"
    }
   ],
   "source": [
    "plt.scatter(df.crystalls_balance_before_buy, df.crystalls_bought, marker = \"o\", alpha = 0.5)"
   ]
  },
  {
   "cell_type": "code",
   "execution_count": 99,
   "metadata": {},
   "outputs": [
    {
     "data": {
      "text/plain": [
       "<matplotlib.collections.PathCollection at 0x12400cfd0>"
      ]
     },
     "execution_count": 99,
     "metadata": {},
     "output_type": "execute_result"
    },
    {
     "data": {
      "image/png": "[encoded data removed]",
      "text/plain": [
       "<Figure size 432x288 with 1 Axes>"
      ]
     },
     "metadata": {},
     "output_type": "display_data"
    }
   ],
   "source": [
    "plt.scatter(df.crystalls_bought, df.payment, marker = \"o\", alpha = 0.5)"
   ]
  },
  {
   "cell_type": "markdown",
   "metadata": {},
   "source": [
    "From the plots above we can see:\n",
    "\n",
    "- _crystalls_balance_before_buy_ and _payment_ are distributed ordinarly and have significant number of ranks, so **Spearman's** correlation can be applied for this case\n",
    "- _crystalls_balance_before_buy_ and _crystalls_bought_ are distributed ordinarly and ranks are tied closely, so **Kendalls's** correlation can be applied for this case\n",
    "- _crystalls_bought_ and _payment_ are distributed ordinarly, but the number of ranks is quite the same, moreover, we can see some kind of linear relation, so the **Pearson's** correlation can be applied for this case"
   ]
  },
  {
   "cell_type": "code",
   "execution_count": 100,
   "metadata": {},
   "outputs": [],
   "source": [
    "spear = spearmanr(df.crystalls_balance_before_buy, df.payment)\n",
    "kendal = kendalltau(df.crystalls_balance_before_buy, df.crystalls_bought)\n",
    "pearson = pearsonr(df.crystalls_bought, df.payment)"
   ]
  },
  {
   "cell_type": "code",
   "execution_count": 101,
   "metadata": {},
   "outputs": [
    {
     "name": "stdout",
     "output_type": "stream",
     "text": [
      "Spearman corr = 0.1457859347733024, p-value = 0.0\n",
      "Kendal corr = 0.11117243493392964, p-value = 0.0\n",
      "Pearson corr = 0.8511458031730847, p-value = 0.0\n"
     ]
    }
   ],
   "source": [
    "print(\"Spearman corr = {}, p-value = {}\\nKendal corr = {}, p-value = {}\\nPearson corr = {}, p-value = {}\"\n",
    "      .format(spear[0], spear[1], kendal[0], kendal[1], pearson[0], pearson[1]))"
   ]
  },
  {
   "cell_type": "markdown",
   "metadata": {},
   "source": [
    "---\n",
    "\n",
    "### Task 3. Partial correlation. Use health_funding.dta file.\n",
    "\n",
    "Calculate paired correlation coefficient between **funding** and **disease** variables. Now calculate the correlation coefficient between the same pair of variables controlling for the number of visits (**visits** variable). Interpret the results of analysis."
   ]
  },
  {
   "cell_type": "code",
   "execution_count": 102,
   "metadata": {},
   "outputs": [
    {
     "data": {
      "text/html": [
       "<div>\n",
       "<style scoped>\n",
       "    .dataframe tbody tr th:only-of-type {\n",
       "        vertical-align: middle;\n",
       "    }\n",
       "\n",
       "    .dataframe tbody tr th {\n",
       "        vertical-align: top;\n",
       "    }\n",
       "\n",
       "    .dataframe thead th {\n",
       "        text-align: right;\n",
       "    }\n",
       "</style>\n",
       "<table border=\"1\" class=\"dataframe\">\n",
       "  <thead>\n",
       "    <tr style=\"text-align: right;\">\n",
       "      <th></th>\n",
       "      <th>funding</th>\n",
       "      <th>disease</th>\n",
       "      <th>visits</th>\n",
       "      <th>citycode</th>\n",
       "    </tr>\n",
       "  </thead>\n",
       "  <tbody>\n",
       "    <tr>\n",
       "      <th>0</th>\n",
       "      <td>155.330002</td>\n",
       "      <td>158.339996</td>\n",
       "      <td>152.130005</td>\n",
       "      <td>6.0</td>\n",
       "    </tr>\n",
       "    <tr>\n",
       "      <th>1</th>\n",
       "      <td>177.339996</td>\n",
       "      <td>157.229996</td>\n",
       "      <td>167.839996</td>\n",
       "      <td>27.0</td>\n",
       "    </tr>\n",
       "    <tr>\n",
       "      <th>2</th>\n",
       "      <td>165.089996</td>\n",
       "      <td>162.919998</td>\n",
       "      <td>162.210007</td>\n",
       "      <td>15.0</td>\n",
       "    </tr>\n",
       "    <tr>\n",
       "      <th>3</th>\n",
       "      <td>154.279999</td>\n",
       "      <td>130.589996</td>\n",
       "      <td>146.690002</td>\n",
       "      <td>4.0</td>\n",
       "    </tr>\n",
       "    <tr>\n",
       "      <th>4</th>\n",
       "      <td>185.559998</td>\n",
       "      <td>202.809998</td>\n",
       "      <td>186.929993</td>\n",
       "      <td>36.0</td>\n",
       "    </tr>\n",
       "  </tbody>\n",
       "</table>\n",
       "</div>"
      ],
      "text/plain": [
       "      funding     disease      visits  citycode\n",
       "0  155.330002  158.339996  152.130005       6.0\n",
       "1  177.339996  157.229996  167.839996      27.0\n",
       "2  165.089996  162.919998  162.210007      15.0\n",
       "3  154.279999  130.589996  146.690002       4.0\n",
       "4  185.559998  202.809998  186.929993      36.0"
      ]
     },
     "execution_count": 102,
     "metadata": {},
     "output_type": "execute_result"
    }
   ],
   "source": [
    "df = pd.read_stata('data/health_funding.dta')\n",
    "df.head()"
   ]
  },
  {
   "cell_type": "code",
   "execution_count": 103,
   "metadata": {},
   "outputs": [
    {
     "name": "stdout",
     "output_type": "stream",
     "text": [
      "Pearsons correlation: 0.737\n"
     ]
    }
   ],
   "source": [
    "corr, _ = pearsonr(df.funding, df.disease)\n",
    "print('Pearsons correlation: %.3f' % corr)"
   ]
  },
  {
   "cell_type": "code",
   "execution_count": 104,
   "metadata": {},
   "outputs": [
    {
     "data": {
      "text/plain": [
       "pearson    0.013\n",
       "Name: r, dtype: float64"
      ]
     },
     "execution_count": 104,
     "metadata": {},
     "output_type": "execute_result"
    }
   ],
   "source": [
    "part = pg.partial_corr(data=df, x='funding', y='disease', covar=['visits'])\n",
    "part.r"
   ]
  },
  {
   "cell_type": "markdown",
   "metadata": {},
   "source": [
    "---\n",
    "\n",
    "### Task 4. T-tests and Nonparametric tests.\n",
    "\n",
    "**4.1.** Use **auto.dta** file (example datasets). Select an appropriate test to check if there is a difference in the mean length of foreign and non-foreign cars. Explain you selection. Formulate the hypotheses. Interpret the results of analysis. "
   ]
  },
  {
   "cell_type": "code",
   "execution_count": 105,
   "metadata": {},
   "outputs": [
    {
     "data": {
      "text/html": [
       "<div>\n",
       "<style scoped>\n",
       "    .dataframe tbody tr th:only-of-type {\n",
       "        vertical-align: middle;\n",
       "    }\n",
       "\n",
       "    .dataframe tbody tr th {\n",
       "        vertical-align: top;\n",
       "    }\n",
       "\n",
       "    .dataframe thead th {\n",
       "        text-align: right;\n",
       "    }\n",
       "</style>\n",
       "<table border=\"1\" class=\"dataframe\">\n",
       "  <thead>\n",
       "    <tr style=\"text-align: right;\">\n",
       "      <th></th>\n",
       "      <th>make</th>\n",
       "      <th>price</th>\n",
       "      <th>mpg</th>\n",
       "      <th>rep78</th>\n",
       "      <th>headroom</th>\n",
       "      <th>trunk</th>\n",
       "      <th>weight</th>\n",
       "      <th>length</th>\n",
       "      <th>turn</th>\n",
       "      <th>displacement</th>\n",
       "      <th>gear_ratio</th>\n",
       "      <th>foreign</th>\n",
       "    </tr>\n",
       "  </thead>\n",
       "  <tbody>\n",
       "    <tr>\n",
       "      <th>0</th>\n",
       "      <td>AMC Concord</td>\n",
       "      <td>4099</td>\n",
       "      <td>22</td>\n",
       "      <td>3.0</td>\n",
       "      <td>2.5</td>\n",
       "      <td>11</td>\n",
       "      <td>2930</td>\n",
       "      <td>186</td>\n",
       "      <td>40</td>\n",
       "      <td>121</td>\n",
       "      <td>3.58</td>\n",
       "      <td>Domestic</td>\n",
       "    </tr>\n",
       "    <tr>\n",
       "      <th>1</th>\n",
       "      <td>AMC Pacer</td>\n",
       "      <td>4749</td>\n",
       "      <td>17</td>\n",
       "      <td>3.0</td>\n",
       "      <td>3.0</td>\n",
       "      <td>11</td>\n",
       "      <td>3350</td>\n",
       "      <td>173</td>\n",
       "      <td>40</td>\n",
       "      <td>258</td>\n",
       "      <td>2.53</td>\n",
       "      <td>Domestic</td>\n",
       "    </tr>\n",
       "    <tr>\n",
       "      <th>2</th>\n",
       "      <td>AMC Spirit</td>\n",
       "      <td>3799</td>\n",
       "      <td>22</td>\n",
       "      <td>NaN</td>\n",
       "      <td>3.0</td>\n",
       "      <td>12</td>\n",
       "      <td>2640</td>\n",
       "      <td>168</td>\n",
       "      <td>35</td>\n",
       "      <td>121</td>\n",
       "      <td>3.08</td>\n",
       "      <td>Domestic</td>\n",
       "    </tr>\n",
       "    <tr>\n",
       "      <th>3</th>\n",
       "      <td>Buick Century</td>\n",
       "      <td>4816</td>\n",
       "      <td>20</td>\n",
       "      <td>3.0</td>\n",
       "      <td>4.5</td>\n",
       "      <td>16</td>\n",
       "      <td>3250</td>\n",
       "      <td>196</td>\n",
       "      <td>40</td>\n",
       "      <td>196</td>\n",
       "      <td>2.93</td>\n",
       "      <td>Domestic</td>\n",
       "    </tr>\n",
       "    <tr>\n",
       "      <th>4</th>\n",
       "      <td>Buick Electra</td>\n",
       "      <td>7827</td>\n",
       "      <td>15</td>\n",
       "      <td>4.0</td>\n",
       "      <td>4.0</td>\n",
       "      <td>20</td>\n",
       "      <td>4080</td>\n",
       "      <td>222</td>\n",
       "      <td>43</td>\n",
       "      <td>350</td>\n",
       "      <td>2.41</td>\n",
       "      <td>Domestic</td>\n",
       "    </tr>\n",
       "  </tbody>\n",
       "</table>\n",
       "</div>"
      ],
      "text/plain": [
       "            make  price  mpg  rep78  headroom  trunk  weight  length  turn  \\\n",
       "0    AMC Concord   4099   22    3.0       2.5     11    2930     186    40   \n",
       "1      AMC Pacer   4749   17    3.0       3.0     11    3350     173    40   \n",
       "2     AMC Spirit   3799   22    NaN       3.0     12    2640     168    35   \n",
       "3  Buick Century   4816   20    3.0       4.5     16    3250     196    40   \n",
       "4  Buick Electra   7827   15    4.0       4.0     20    4080     222    43   \n",
       "\n",
       "   displacement  gear_ratio   foreign  \n",
       "0           121        3.58  Domestic  \n",
       "1           258        2.53  Domestic  \n",
       "2           121        3.08  Domestic  \n",
       "3           196        2.93  Domestic  \n",
       "4           350        2.41  Domestic  "
      ]
     },
     "execution_count": 105,
     "metadata": {},
     "output_type": "execute_result"
    }
   ],
   "source": [
    "df = pd.read_stata('data/auto.dta')\n",
    "df.head()"
   ]
  },
  {
   "cell_type": "code",
   "execution_count": 106,
   "metadata": {},
   "outputs": [
    {
     "data": {
      "text/plain": [
       "[Domestic, Foreign]\n",
       "Categories (2, object): [Domestic < Foreign]"
      ]
     },
     "execution_count": 106,
     "metadata": {},
     "output_type": "execute_result"
    }
   ],
   "source": [
    "df.foreign.unique()"
   ]
  },
  {
   "cell_type": "code",
   "execution_count": 107,
   "metadata": {},
   "outputs": [
    {
     "name": "stdout",
     "output_type": "stream",
     "text": [
      "P-value: 0.000000\n"
     ]
    }
   ],
   "source": [
    "stat, p = ttest_ind(df[df['foreign'] == 'Domestic'].length, df[df['foreign'] == 'Foreign'].length)\n",
    "print('P-value: %f' % p)"
   ]
  },
  {
   "cell_type": "markdown",
   "metadata": {},
   "source": [
    "There is no difference in the mean lengths of foreign and domestic cars"
   ]
  },
  {
   "cell_type": "markdown",
   "metadata": {},
   "source": [
    "**4.2.** Use **data_games.dta** file. Select an appropriate test to understand whether there is a difference in payments between the people who have used different payment types. Explain you selection. Formulate the hypotheses. Interpret the results of analysis. "
   ]
  },
  {
   "cell_type": "code",
   "execution_count": 108,
   "metadata": {},
   "outputs": [
    {
     "data": {
      "text/html": [
       "<div>\n",
       "<style scoped>\n",
       "    .dataframe tbody tr th:only-of-type {\n",
       "        vertical-align: middle;\n",
       "    }\n",
       "\n",
       "    .dataframe tbody tr th {\n",
       "        vertical-align: top;\n",
       "    }\n",
       "\n",
       "    .dataframe thead th {\n",
       "        text-align: right;\n",
       "    }\n",
       "</style>\n",
       "<table border=\"1\" class=\"dataframe\">\n",
       "  <thead>\n",
       "    <tr style=\"text-align: right;\">\n",
       "      <th></th>\n",
       "      <th>id</th>\n",
       "      <th>pack_id</th>\n",
       "      <th>crystalls_balance_before_buy</th>\n",
       "      <th>crystalls_bought</th>\n",
       "      <th>country</th>\n",
       "      <th>payment</th>\n",
       "      <th>utc_timestamp</th>\n",
       "      <th>payment_type</th>\n",
       "      <th>payment_method</th>\n",
       "    </tr>\n",
       "  </thead>\n",
       "  <tbody>\n",
       "    <tr>\n",
       "      <th>0</th>\n",
       "      <td>2.052791e+09</td>\n",
       "      <td>3.0</td>\n",
       "      <td>0.0</td>\n",
       "      <td>41.0</td>\n",
       "      <td>GB</td>\n",
       "      <td>644.0</td>\n",
       "      <td>1.414842e+09</td>\n",
       "      <td>offer</td>\n",
       "      <td>general</td>\n",
       "    </tr>\n",
       "    <tr>\n",
       "      <th>1</th>\n",
       "      <td>1.275033e+09</td>\n",
       "      <td>1.0</td>\n",
       "      <td>10.0</td>\n",
       "      <td>7.0</td>\n",
       "      <td>US</td>\n",
       "      <td>205.0</td>\n",
       "      <td>1.414814e+09</td>\n",
       "      <td>offer</td>\n",
       "      <td>general</td>\n",
       "    </tr>\n",
       "    <tr>\n",
       "      <th>2</th>\n",
       "      <td>2.000015e+14</td>\n",
       "      <td>2.0</td>\n",
       "      <td>2.0</td>\n",
       "      <td>14.0</td>\n",
       "      <td>US</td>\n",
       "      <td>514.0</td>\n",
       "      <td>1.414866e+09</td>\n",
       "      <td>regular</td>\n",
       "      <td>general</td>\n",
       "    </tr>\n",
       "    <tr>\n",
       "      <th>3</th>\n",
       "      <td>1.119068e+09</td>\n",
       "      <td>4.0</td>\n",
       "      <td>0.0</td>\n",
       "      <td>70.0</td>\n",
       "      <td>GB</td>\n",
       "      <td>1289.0</td>\n",
       "      <td>1.414917e+09</td>\n",
       "      <td>regular</td>\n",
       "      <td>general</td>\n",
       "    </tr>\n",
       "    <tr>\n",
       "      <th>4</th>\n",
       "      <td>2.000028e+14</td>\n",
       "      <td>3.0</td>\n",
       "      <td>0.0</td>\n",
       "      <td>30.0</td>\n",
       "      <td>US</td>\n",
       "      <td>1029.0</td>\n",
       "      <td>1.414946e+09</td>\n",
       "      <td>regular</td>\n",
       "      <td>general</td>\n",
       "    </tr>\n",
       "  </tbody>\n",
       "</table>\n",
       "</div>"
      ],
      "text/plain": [
       "             id  pack_id  crystalls_balance_before_buy  crystalls_bought  \\\n",
       "0  2.052791e+09      3.0                           0.0              41.0   \n",
       "1  1.275033e+09      1.0                          10.0               7.0   \n",
       "2  2.000015e+14      2.0                           2.0              14.0   \n",
       "3  1.119068e+09      4.0                           0.0              70.0   \n",
       "4  2.000028e+14      3.0                           0.0              30.0   \n",
       "\n",
       "  country  payment  utc_timestamp payment_type payment_method  \n",
       "0      GB    644.0   1.414842e+09        offer        general  \n",
       "1      US    205.0   1.414814e+09        offer        general  \n",
       "2      US    514.0   1.414866e+09      regular        general  \n",
       "3      GB   1289.0   1.414917e+09      regular        general  \n",
       "4      US   1029.0   1.414946e+09      regular        general  "
      ]
     },
     "execution_count": 108,
     "metadata": {},
     "output_type": "execute_result"
    }
   ],
   "source": [
    "df = pd.read_stata('data/data_games.dta')\n",
    "df.head()"
   ]
  },
  {
   "cell_type": "code",
   "execution_count": 109,
   "metadata": {},
   "outputs": [
    {
     "data": {
      "text/plain": [
       "[offer, regular]\n",
       "Categories (2, object): [offer < regular]"
      ]
     },
     "execution_count": 109,
     "metadata": {},
     "output_type": "execute_result"
    }
   ],
   "source": [
    "df['payment_type'].unique()"
   ]
  },
  {
   "cell_type": "code",
   "execution_count": 110,
   "metadata": {},
   "outputs": [
    {
     "name": "stdout",
     "output_type": "stream",
     "text": [
      "P-value: 0.003650\n"
     ]
    }
   ],
   "source": [
    "stat, p = ttest_ind(df[df['payment_type'] == 'offer'].payment, df[df['payment_type'] == 'regular'].payment)\n",
    "print('P-value: %f' % p)"
   ]
  },
  {
   "cell_type": "markdown",
   "metadata": {},
   "source": [
    "There is no difference in payments between the people who have used different payment types"
   ]
  },
  {
   "cell_type": "markdown",
   "metadata": {},
   "source": [
    "**4.3.** Use **data_games.dta** file. Select an appropriate test to understand whether there is a difference in payments between the people who have used different payment methods. Explain you selection. Formulate the hypotheses. Interpret the results of analysis."
   ]
  },
  {
   "cell_type": "code",
   "execution_count": 111,
   "metadata": {},
   "outputs": [
    {
     "data": {
      "text/html": [
       "<div>\n",
       "<style scoped>\n",
       "    .dataframe tbody tr th:only-of-type {\n",
       "        vertical-align: middle;\n",
       "    }\n",
       "\n",
       "    .dataframe tbody tr th {\n",
       "        vertical-align: top;\n",
       "    }\n",
       "\n",
       "    .dataframe thead th {\n",
       "        text-align: right;\n",
       "    }\n",
       "</style>\n",
       "<table border=\"1\" class=\"dataframe\">\n",
       "  <thead>\n",
       "    <tr style=\"text-align: right;\">\n",
       "      <th></th>\n",
       "      <th>id</th>\n",
       "      <th>pack_id</th>\n",
       "      <th>crystalls_balance_before_buy</th>\n",
       "      <th>crystalls_bought</th>\n",
       "      <th>country</th>\n",
       "      <th>payment</th>\n",
       "      <th>utc_timestamp</th>\n",
       "      <th>payment_type</th>\n",
       "      <th>payment_method</th>\n",
       "    </tr>\n",
       "  </thead>\n",
       "  <tbody>\n",
       "    <tr>\n",
       "      <th>0</th>\n",
       "      <td>2.052791e+09</td>\n",
       "      <td>3.0</td>\n",
       "      <td>0.0</td>\n",
       "      <td>41.0</td>\n",
       "      <td>GB</td>\n",
       "      <td>644.0</td>\n",
       "      <td>1.414842e+09</td>\n",
       "      <td>offer</td>\n",
       "      <td>general</td>\n",
       "    </tr>\n",
       "    <tr>\n",
       "      <th>1</th>\n",
       "      <td>1.275033e+09</td>\n",
       "      <td>1.0</td>\n",
       "      <td>10.0</td>\n",
       "      <td>7.0</td>\n",
       "      <td>US</td>\n",
       "      <td>205.0</td>\n",
       "      <td>1.414814e+09</td>\n",
       "      <td>offer</td>\n",
       "      <td>general</td>\n",
       "    </tr>\n",
       "    <tr>\n",
       "      <th>2</th>\n",
       "      <td>2.000015e+14</td>\n",
       "      <td>2.0</td>\n",
       "      <td>2.0</td>\n",
       "      <td>14.0</td>\n",
       "      <td>US</td>\n",
       "      <td>514.0</td>\n",
       "      <td>1.414866e+09</td>\n",
       "      <td>regular</td>\n",
       "      <td>general</td>\n",
       "    </tr>\n",
       "    <tr>\n",
       "      <th>3</th>\n",
       "      <td>1.119068e+09</td>\n",
       "      <td>4.0</td>\n",
       "      <td>0.0</td>\n",
       "      <td>70.0</td>\n",
       "      <td>GB</td>\n",
       "      <td>1289.0</td>\n",
       "      <td>1.414917e+09</td>\n",
       "      <td>regular</td>\n",
       "      <td>general</td>\n",
       "    </tr>\n",
       "    <tr>\n",
       "      <th>4</th>\n",
       "      <td>2.000028e+14</td>\n",
       "      <td>3.0</td>\n",
       "      <td>0.0</td>\n",
       "      <td>30.0</td>\n",
       "      <td>US</td>\n",
       "      <td>1029.0</td>\n",
       "      <td>1.414946e+09</td>\n",
       "      <td>regular</td>\n",
       "      <td>general</td>\n",
       "    </tr>\n",
       "  </tbody>\n",
       "</table>\n",
       "</div>"
      ],
      "text/plain": [
       "             id  pack_id  crystalls_balance_before_buy  crystalls_bought  \\\n",
       "0  2.052791e+09      3.0                           0.0              41.0   \n",
       "1  1.275033e+09      1.0                          10.0               7.0   \n",
       "2  2.000015e+14      2.0                           2.0              14.0   \n",
       "3  1.119068e+09      4.0                           0.0              70.0   \n",
       "4  2.000028e+14      3.0                           0.0              30.0   \n",
       "\n",
       "  country  payment  utc_timestamp payment_type payment_method  \n",
       "0      GB    644.0   1.414842e+09        offer        general  \n",
       "1      US    205.0   1.414814e+09        offer        general  \n",
       "2      US    514.0   1.414866e+09      regular        general  \n",
       "3      GB   1289.0   1.414917e+09      regular        general  \n",
       "4      US   1029.0   1.414946e+09      regular        general  "
      ]
     },
     "execution_count": 111,
     "metadata": {},
     "output_type": "execute_result"
    }
   ],
   "source": [
    "df = pd.read_stata('data/data_games.dta')\n",
    "df.head()"
   ]
  },
  {
   "cell_type": "code",
   "execution_count": 112,
   "metadata": {},
   "outputs": [
    {
     "data": {
      "text/plain": [
       "[general, mobile, fb_promotion, giftcard]\n",
       "Categories (4, object): [fb_promotion < general < giftcard < mobile]"
      ]
     },
     "execution_count": 112,
     "metadata": {},
     "output_type": "execute_result"
    }
   ],
   "source": [
    "df.payment_method.unique()"
   ]
  },
  {
   "cell_type": "code",
   "execution_count": 113,
   "metadata": {},
   "outputs": [
    {
     "name": "stdout",
     "output_type": "stream",
     "text": [
      "P-value: 0.000000\n"
     ]
    }
   ],
   "source": [
    "stat, p = kruskal(df[df['payment_method'] == 'fb_promotion'].payment,\n",
    "                  df[df['payment_method'] == 'general'].payment,\n",
    "                  df[df['payment_method'] == 'giftcard'].payment,\n",
    "                  df[df['payment_method'] == 'mobile'].payment)\n",
    "print('P-value: %f' % p)"
   ]
  },
  {
   "cell_type": "markdown",
   "metadata": {},
   "source": [
    "There is no difference in payments between the people who have used different payment methods"
   ]
  }
 ],
 "metadata": {
  "kernelspec": {
   "display_name": "Python 3",
   "language": "python",
   "name": "python3"
  },
  "language_info": {
   "codemirror_mode": {
    "name": "ipython",
    "version": 3
   },
   "file_extension": ".py",
   "mimetype": "text/x-python",
   "name": "python",
   "nbconvert_exporter": "python",
   "pygments_lexer": "ipython3",
   "version": "3.7.6"
  }
 },
 "nbformat": 4,
 "nbformat_minor": 4
}
