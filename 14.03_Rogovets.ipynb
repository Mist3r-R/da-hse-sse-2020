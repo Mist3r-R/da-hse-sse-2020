{
 "cells": [
  {
   "attachments": {},
   "cell_type": "markdown",
   "metadata": {},
   "source": [
    "# 14.03.20\n",
    "\n",
    "**Author:** Miron Rogovets\n",
    "\n",
    "---\n",
    "\n",
    "### Task 7.\n",
    "\n",
    "Open __Warranty.dta__ file. \n",
    "\n",
    "The aim of analysis is to find out what circumstances encourage customers to purchase extended warranties after a major appliance purchase. The response variable is an indicator of whether or not a warranty is purchased (Bought). The predictor variables are:\n",
    "* Customer’s gender (Gender)\n",
    "* Customer’s age (Age)\n",
    "* Whether a gift is offered with the warranty or not (Gift)\n",
    "* Price of the appliance (Price100)\n",
    "* Customer’s race (Race)\n",
    "\n",
    "Use the binary logistic regression to analyze the data. \n",
    "1. Specify the regression equation (the linear part of the formula). \n",
    "2. Assess the goodness-of-fit of the model and interpret the results of the analysis. \n",
    "3. Interpret the influence of any predictor variable on the dependent variable using Exp(b).\n",
    "4. Which gradients are statistically significant? \n",
    "5. What is the percentage of correctly predicted cases by the model?\n",
    "6. Do the diagnostics of the model. \n",
    "   - Are the residuals normally distributed? \n",
    "   - Are there any outliers? If yes, how many? \n",
    "   - Test the multicollinearity."
   ]
  },
  {
   "cell_type": "code",
   "execution_count": 1,
   "metadata": {},
   "outputs": [],
   "source": [
    "import pandas as pd\n",
    "import numpy as np\n",
    "import matplotlib.pyplot as plt\n",
    "import seaborn as sns\n",
    "import statsmodels.formula.api as sm\n",
    "import statsmodels.stats.api as sms"
   ]
  },
  {
   "cell_type": "code",
   "execution_count": 11,
   "metadata": {},
   "outputs": [
    {
     "name": "stdout",
     "output_type": "stream",
     "text": [
      "(50, 6)\n"
     ]
    },
    {
     "data": {
      "text/html": [
       "<div>\n",
       "<style scoped>\n",
       "    .dataframe tbody tr th:only-of-type {\n",
       "        vertical-align: middle;\n",
       "    }\n",
       "\n",
       "    .dataframe tbody tr th {\n",
       "        vertical-align: top;\n",
       "    }\n",
       "\n",
       "    .dataframe thead th {\n",
       "        text-align: right;\n",
       "    }\n",
       "</style>\n",
       "<table border=\"1\" class=\"dataframe\">\n",
       "  <thead>\n",
       "    <tr style=\"text-align: right;\">\n",
       "      <th></th>\n",
       "      <th>Bought</th>\n",
       "      <th>Gender</th>\n",
       "      <th>Gift</th>\n",
       "      <th>Age</th>\n",
       "      <th>Race</th>\n",
       "      <th>Price100</th>\n",
       "    </tr>\n",
       "  </thead>\n",
       "  <tbody>\n",
       "    <tr>\n",
       "      <th>0</th>\n",
       "      <td>Yes</td>\n",
       "      <td>Male</td>\n",
       "      <td>Yes</td>\n",
       "      <td>45.0</td>\n",
       "      <td>White</td>\n",
       "      <td>75.0</td>\n",
       "    </tr>\n",
       "    <tr>\n",
       "      <th>1</th>\n",
       "      <td>No</td>\n",
       "      <td>Male</td>\n",
       "      <td>No</td>\n",
       "      <td>34.0</td>\n",
       "      <td>African American</td>\n",
       "      <td>125.0</td>\n",
       "    </tr>\n",
       "    <tr>\n",
       "      <th>2</th>\n",
       "      <td>Yes</td>\n",
       "      <td>Male</td>\n",
       "      <td>Yes</td>\n",
       "      <td>26.0</td>\n",
       "      <td>Hispanic</td>\n",
       "      <td>150.0</td>\n",
       "    </tr>\n",
       "    <tr>\n",
       "      <th>3</th>\n",
       "      <td>Yes</td>\n",
       "      <td>Female</td>\n",
       "      <td>Yes</td>\n",
       "      <td>54.0</td>\n",
       "      <td>African American</td>\n",
       "      <td>38.5</td>\n",
       "    </tr>\n",
       "    <tr>\n",
       "      <th>4</th>\n",
       "      <td>No</td>\n",
       "      <td>Female</td>\n",
       "      <td>No</td>\n",
       "      <td>44.0</td>\n",
       "      <td>White</td>\n",
       "      <td>17.0</td>\n",
       "    </tr>\n",
       "  </tbody>\n",
       "</table>\n",
       "</div>"
      ],
      "text/plain": [
       "  Bought  Gender Gift   Age              Race  Price100\n",
       "0    Yes    Male  Yes  45.0             White      75.0\n",
       "1     No    Male   No  34.0  African American     125.0\n",
       "2    Yes    Male  Yes  26.0          Hispanic     150.0\n",
       "3    Yes  Female  Yes  54.0  African American      38.5\n",
       "4     No  Female   No  44.0             White      17.0"
      ]
     },
     "execution_count": 11,
     "metadata": {},
     "output_type": "execute_result"
    }
   ],
   "source": [
    "df = pd.read_stata('data/WARRANTY.dta')\n",
    "print(df.shape)\n",
    "df.head()"
   ]
  },
  {
   "cell_type": "markdown",
   "metadata": {},
   "source": [
    "Check if we have any missing values"
   ]
  },
  {
   "cell_type": "code",
   "execution_count": 12,
   "metadata": {},
   "outputs": [
    {
     "data": {
      "text/plain": [
       "Bought      0\n",
       "Gender      0\n",
       "Gift        0\n",
       "Age         0\n",
       "Race        0\n",
       "Price100    0\n",
       "dtype: int64"
      ]
     },
     "execution_count": 12,
     "metadata": {},
     "output_type": "execute_result"
    }
   ],
   "source": [
    "df.isna().sum()"
   ]
  },
  {
   "cell_type": "markdown",
   "metadata": {},
   "source": [
    "We should also get rid of spaces in <code>Race</code> values"
   ]
  },
  {
   "cell_type": "code",
   "execution_count": 13,
   "metadata": {},
   "outputs": [
    {
     "data": {
      "text/html": [
       "<div>\n",
       "<style scoped>\n",
       "    .dataframe tbody tr th:only-of-type {\n",
       "        vertical-align: middle;\n",
       "    }\n",
       "\n",
       "    .dataframe tbody tr th {\n",
       "        vertical-align: top;\n",
       "    }\n",
       "\n",
       "    .dataframe thead th {\n",
       "        text-align: right;\n",
       "    }\n",
       "</style>\n",
       "<table border=\"1\" class=\"dataframe\">\n",
       "  <thead>\n",
       "    <tr style=\"text-align: right;\">\n",
       "      <th></th>\n",
       "      <th>Bought</th>\n",
       "      <th>Gender</th>\n",
       "      <th>Gift</th>\n",
       "      <th>Age</th>\n",
       "      <th>Race</th>\n",
       "      <th>Price100</th>\n",
       "    </tr>\n",
       "  </thead>\n",
       "  <tbody>\n",
       "    <tr>\n",
       "      <th>0</th>\n",
       "      <td>Yes</td>\n",
       "      <td>Male</td>\n",
       "      <td>Yes</td>\n",
       "      <td>45.0</td>\n",
       "      <td>White</td>\n",
       "      <td>75.0</td>\n",
       "    </tr>\n",
       "    <tr>\n",
       "      <th>1</th>\n",
       "      <td>No</td>\n",
       "      <td>Male</td>\n",
       "      <td>No</td>\n",
       "      <td>34.0</td>\n",
       "      <td>AfricanAmerican</td>\n",
       "      <td>125.0</td>\n",
       "    </tr>\n",
       "    <tr>\n",
       "      <th>2</th>\n",
       "      <td>Yes</td>\n",
       "      <td>Male</td>\n",
       "      <td>Yes</td>\n",
       "      <td>26.0</td>\n",
       "      <td>Hispanic</td>\n",
       "      <td>150.0</td>\n",
       "    </tr>\n",
       "    <tr>\n",
       "      <th>3</th>\n",
       "      <td>Yes</td>\n",
       "      <td>Female</td>\n",
       "      <td>Yes</td>\n",
       "      <td>54.0</td>\n",
       "      <td>AfricanAmerican</td>\n",
       "      <td>38.5</td>\n",
       "    </tr>\n",
       "    <tr>\n",
       "      <th>4</th>\n",
       "      <td>No</td>\n",
       "      <td>Female</td>\n",
       "      <td>No</td>\n",
       "      <td>44.0</td>\n",
       "      <td>White</td>\n",
       "      <td>17.0</td>\n",
       "    </tr>\n",
       "  </tbody>\n",
       "</table>\n",
       "</div>"
      ],
      "text/plain": [
       "  Bought  Gender Gift   Age             Race  Price100\n",
       "0    Yes    Male  Yes  45.0            White      75.0\n",
       "1     No    Male   No  34.0  AfricanAmerican     125.0\n",
       "2    Yes    Male  Yes  26.0         Hispanic     150.0\n",
       "3    Yes  Female  Yes  54.0  AfricanAmerican      38.5\n",
       "4     No  Female   No  44.0            White      17.0"
      ]
     },
     "execution_count": 13,
     "metadata": {},
     "output_type": "execute_result"
    }
   ],
   "source": [
    "df['Race'] = df.Race.apply(lambda x: x.replace(' ', ''))\n",
    "df.head()"
   ]
  },
  {
   "cell_type": "code",
   "execution_count": 16,
   "metadata": {},
   "outputs": [
    {
     "name": "stdout",
     "output_type": "stream",
     "text": [
      "White              16\n",
      "Hispanic           15\n",
      "AfricanAmerican    12\n",
      "Other               7\n",
      "Name: Race, dtype: int64\n"
     ]
    }
   ],
   "source": [
    "print(df.Race.value_counts())"
   ]
  },
  {
   "cell_type": "code",
   "execution_count": 18,
   "metadata": {},
   "outputs": [
    {
     "data": {
      "text/html": [
       "<div>\n",
       "<style scoped>\n",
       "    .dataframe tbody tr th:only-of-type {\n",
       "        vertical-align: middle;\n",
       "    }\n",
       "\n",
       "    .dataframe tbody tr th {\n",
       "        vertical-align: top;\n",
       "    }\n",
       "\n",
       "    .dataframe thead th {\n",
       "        text-align: right;\n",
       "    }\n",
       "</style>\n",
       "<table border=\"1\" class=\"dataframe\">\n",
       "  <thead>\n",
       "    <tr style=\"text-align: right;\">\n",
       "      <th></th>\n",
       "      <th>Age</th>\n",
       "      <th>Price100</th>\n",
       "      <th>Bought_No</th>\n",
       "      <th>Bought_Yes</th>\n",
       "      <th>Gender_Female</th>\n",
       "      <th>Gender_Male</th>\n",
       "      <th>Gift_No</th>\n",
       "      <th>Gift_Yes</th>\n",
       "      <th>Race_White</th>\n",
       "      <th>Race_AfricanAmerican</th>\n",
       "      <th>Race_Hispanic</th>\n",
       "      <th>Race_Other</th>\n",
       "    </tr>\n",
       "  </thead>\n",
       "  <tbody>\n",
       "    <tr>\n",
       "      <th>0</th>\n",
       "      <td>45.0</td>\n",
       "      <td>75.0</td>\n",
       "      <td>0</td>\n",
       "      <td>1</td>\n",
       "      <td>0</td>\n",
       "      <td>1</td>\n",
       "      <td>0</td>\n",
       "      <td>1</td>\n",
       "      <td>1</td>\n",
       "      <td>0</td>\n",
       "      <td>0</td>\n",
       "      <td>0</td>\n",
       "    </tr>\n",
       "    <tr>\n",
       "      <th>1</th>\n",
       "      <td>34.0</td>\n",
       "      <td>125.0</td>\n",
       "      <td>1</td>\n",
       "      <td>0</td>\n",
       "      <td>0</td>\n",
       "      <td>1</td>\n",
       "      <td>1</td>\n",
       "      <td>0</td>\n",
       "      <td>0</td>\n",
       "      <td>1</td>\n",
       "      <td>0</td>\n",
       "      <td>0</td>\n",
       "    </tr>\n",
       "    <tr>\n",
       "      <th>2</th>\n",
       "      <td>26.0</td>\n",
       "      <td>150.0</td>\n",
       "      <td>0</td>\n",
       "      <td>1</td>\n",
       "      <td>0</td>\n",
       "      <td>1</td>\n",
       "      <td>0</td>\n",
       "      <td>1</td>\n",
       "      <td>0</td>\n",
       "      <td>0</td>\n",
       "      <td>1</td>\n",
       "      <td>0</td>\n",
       "    </tr>\n",
       "    <tr>\n",
       "      <th>3</th>\n",
       "      <td>54.0</td>\n",
       "      <td>38.5</td>\n",
       "      <td>0</td>\n",
       "      <td>1</td>\n",
       "      <td>1</td>\n",
       "      <td>0</td>\n",
       "      <td>0</td>\n",
       "      <td>1</td>\n",
       "      <td>0</td>\n",
       "      <td>1</td>\n",
       "      <td>0</td>\n",
       "      <td>0</td>\n",
       "    </tr>\n",
       "    <tr>\n",
       "      <th>4</th>\n",
       "      <td>44.0</td>\n",
       "      <td>17.0</td>\n",
       "      <td>1</td>\n",
       "      <td>0</td>\n",
       "      <td>1</td>\n",
       "      <td>0</td>\n",
       "      <td>1</td>\n",
       "      <td>0</td>\n",
       "      <td>1</td>\n",
       "      <td>0</td>\n",
       "      <td>0</td>\n",
       "      <td>0</td>\n",
       "    </tr>\n",
       "  </tbody>\n",
       "</table>\n",
       "</div>"
      ],
      "text/plain": [
       "    Age  Price100  Bought_No  Bought_Yes  Gender_Female  Gender_Male  Gift_No  \\\n",
       "0  45.0      75.0          0           1              0            1        0   \n",
       "1  34.0     125.0          1           0              0            1        1   \n",
       "2  26.0     150.0          0           1              0            1        0   \n",
       "3  54.0      38.5          0           1              1            0        0   \n",
       "4  44.0      17.0          1           0              1            0        1   \n",
       "\n",
       "   Gift_Yes  Race_White  Race_AfricanAmerican  Race_Hispanic  Race_Other  \n",
       "0         1           1                     0              0           0  \n",
       "1         0           0                     1              0           0  \n",
       "2         1           0                     0              1           0  \n",
       "3         1           0                     1              0           0  \n",
       "4         0           1                     0              0           0  "
      ]
     },
     "execution_count": 18,
     "metadata": {},
     "output_type": "execute_result"
    }
   ],
   "source": [
    "data_encoded = pd.get_dummies(df, prefix=['Bought', 'Gender', 'Gift', 'Race'], \n",
    "                              columns = ['Bought', 'Gender', 'Gift', 'Race'])\n",
    "data_encoded.head()"
   ]
  },
  {
   "cell_type": "markdown",
   "metadata": {},
   "source": [
    "We use <code>Race_Other</code> as reference variable for dummy encoded _Race_"
   ]
  },
  {
   "cell_type": "code",
   "execution_count": 19,
   "metadata": {},
   "outputs": [
    {
     "data": {
      "text/html": [
       "<div>\n",
       "<style scoped>\n",
       "    .dataframe tbody tr th:only-of-type {\n",
       "        vertical-align: middle;\n",
       "    }\n",
       "\n",
       "    .dataframe tbody tr th {\n",
       "        vertical-align: top;\n",
       "    }\n",
       "\n",
       "    .dataframe thead th {\n",
       "        text-align: right;\n",
       "    }\n",
       "</style>\n",
       "<table border=\"1\" class=\"dataframe\">\n",
       "  <thead>\n",
       "    <tr style=\"text-align: right;\">\n",
       "      <th></th>\n",
       "      <th>Age</th>\n",
       "      <th>Price100</th>\n",
       "      <th>Bought_Yes</th>\n",
       "      <th>Gender_Female</th>\n",
       "      <th>Gift_Yes</th>\n",
       "      <th>Race_White</th>\n",
       "      <th>Race_AfricanAmerican</th>\n",
       "      <th>Race_Hispanic</th>\n",
       "    </tr>\n",
       "  </thead>\n",
       "  <tbody>\n",
       "    <tr>\n",
       "      <th>0</th>\n",
       "      <td>45.0</td>\n",
       "      <td>75.0</td>\n",
       "      <td>1</td>\n",
       "      <td>0</td>\n",
       "      <td>1</td>\n",
       "      <td>1</td>\n",
       "      <td>0</td>\n",
       "      <td>0</td>\n",
       "    </tr>\n",
       "    <tr>\n",
       "      <th>1</th>\n",
       "      <td>34.0</td>\n",
       "      <td>125.0</td>\n",
       "      <td>0</td>\n",
       "      <td>0</td>\n",
       "      <td>0</td>\n",
       "      <td>0</td>\n",
       "      <td>1</td>\n",
       "      <td>0</td>\n",
       "    </tr>\n",
       "    <tr>\n",
       "      <th>2</th>\n",
       "      <td>26.0</td>\n",
       "      <td>150.0</td>\n",
       "      <td>1</td>\n",
       "      <td>0</td>\n",
       "      <td>1</td>\n",
       "      <td>0</td>\n",
       "      <td>0</td>\n",
       "      <td>1</td>\n",
       "    </tr>\n",
       "    <tr>\n",
       "      <th>3</th>\n",
       "      <td>54.0</td>\n",
       "      <td>38.5</td>\n",
       "      <td>1</td>\n",
       "      <td>1</td>\n",
       "      <td>1</td>\n",
       "      <td>0</td>\n",
       "      <td>1</td>\n",
       "      <td>0</td>\n",
       "    </tr>\n",
       "    <tr>\n",
       "      <th>4</th>\n",
       "      <td>44.0</td>\n",
       "      <td>17.0</td>\n",
       "      <td>0</td>\n",
       "      <td>1</td>\n",
       "      <td>0</td>\n",
       "      <td>1</td>\n",
       "      <td>0</td>\n",
       "      <td>0</td>\n",
       "    </tr>\n",
       "  </tbody>\n",
       "</table>\n",
       "</div>"
      ],
      "text/plain": [
       "    Age  Price100  Bought_Yes  Gender_Female  Gift_Yes  Race_White  \\\n",
       "0  45.0      75.0           1              0         1           1   \n",
       "1  34.0     125.0           0              0         0           0   \n",
       "2  26.0     150.0           1              0         1           0   \n",
       "3  54.0      38.5           1              1         1           0   \n",
       "4  44.0      17.0           0              1         0           1   \n",
       "\n",
       "   Race_AfricanAmerican  Race_Hispanic  \n",
       "0                     0              0  \n",
       "1                     1              0  \n",
       "2                     0              1  \n",
       "3                     1              0  \n",
       "4                     0              0  "
      ]
     },
     "execution_count": 19,
     "metadata": {},
     "output_type": "execute_result"
    }
   ],
   "source": [
    "df = data_encoded.drop(columns=['Bought_No', 'Gender_Male', 'Gift_No', 'Race_Other']).copy()\n",
    "df.head()"
   ]
  },
  {
   "cell_type": "code",
   "execution_count": 21,
   "metadata": {},
   "outputs": [
    {
     "data": {
      "text/html": [
       "<div>\n",
       "<style scoped>\n",
       "    .dataframe tbody tr th:only-of-type {\n",
       "        vertical-align: middle;\n",
       "    }\n",
       "\n",
       "    .dataframe tbody tr th {\n",
       "        vertical-align: top;\n",
       "    }\n",
       "\n",
       "    .dataframe thead th {\n",
       "        text-align: right;\n",
       "    }\n",
       "</style>\n",
       "<table border=\"1\" class=\"dataframe\">\n",
       "  <thead>\n",
       "    <tr style=\"text-align: right;\">\n",
       "      <th></th>\n",
       "      <th>Age</th>\n",
       "      <th>Price100</th>\n",
       "      <th>Bought</th>\n",
       "      <th>Gender</th>\n",
       "      <th>Gift</th>\n",
       "      <th>Race_White</th>\n",
       "      <th>Race_AfricanAmerican</th>\n",
       "      <th>Race_Hispanic</th>\n",
       "    </tr>\n",
       "  </thead>\n",
       "  <tbody>\n",
       "    <tr>\n",
       "      <th>0</th>\n",
       "      <td>45.0</td>\n",
       "      <td>75.0</td>\n",
       "      <td>1</td>\n",
       "      <td>0</td>\n",
       "      <td>1</td>\n",
       "      <td>1</td>\n",
       "      <td>0</td>\n",
       "      <td>0</td>\n",
       "    </tr>\n",
       "    <tr>\n",
       "      <th>1</th>\n",
       "      <td>34.0</td>\n",
       "      <td>125.0</td>\n",
       "      <td>0</td>\n",
       "      <td>0</td>\n",
       "      <td>0</td>\n",
       "      <td>0</td>\n",
       "      <td>1</td>\n",
       "      <td>0</td>\n",
       "    </tr>\n",
       "    <tr>\n",
       "      <th>2</th>\n",
       "      <td>26.0</td>\n",
       "      <td>150.0</td>\n",
       "      <td>1</td>\n",
       "      <td>0</td>\n",
       "      <td>1</td>\n",
       "      <td>0</td>\n",
       "      <td>0</td>\n",
       "      <td>1</td>\n",
       "    </tr>\n",
       "    <tr>\n",
       "      <th>3</th>\n",
       "      <td>54.0</td>\n",
       "      <td>38.5</td>\n",
       "      <td>1</td>\n",
       "      <td>1</td>\n",
       "      <td>1</td>\n",
       "      <td>0</td>\n",
       "      <td>1</td>\n",
       "      <td>0</td>\n",
       "    </tr>\n",
       "    <tr>\n",
       "      <th>4</th>\n",
       "      <td>44.0</td>\n",
       "      <td>17.0</td>\n",
       "      <td>0</td>\n",
       "      <td>1</td>\n",
       "      <td>0</td>\n",
       "      <td>1</td>\n",
       "      <td>0</td>\n",
       "      <td>0</td>\n",
       "    </tr>\n",
       "  </tbody>\n",
       "</table>\n",
       "</div>"
      ],
      "text/plain": [
       "    Age  Price100  Bought  Gender  Gift  Race_White  Race_AfricanAmerican  \\\n",
       "0  45.0      75.0       1       0     1           1                     0   \n",
       "1  34.0     125.0       0       0     0           0                     1   \n",
       "2  26.0     150.0       1       0     1           0                     0   \n",
       "3  54.0      38.5       1       1     1           0                     1   \n",
       "4  44.0      17.0       0       1     0           1                     0   \n",
       "\n",
       "   Race_Hispanic  \n",
       "0              0  \n",
       "1              0  \n",
       "2              1  \n",
       "3              0  \n",
       "4              0  "
      ]
     },
     "execution_count": 21,
     "metadata": {},
     "output_type": "execute_result"
    }
   ],
   "source": [
    "df.rename(columns={'Bought_Yes': 'Bought', 'Gender_Female': 'Gender', 'Gift_Yes':'Gift'}, inplace=True)\n",
    "df.head()"
   ]
  },
  {
   "cell_type": "markdown",
   "metadata": {},
   "source": [
    "We cleaned our data, so now we can create and fit our model"
   ]
  },
  {
   "cell_type": "code",
   "execution_count": 27,
   "metadata": {},
   "outputs": [
    {
     "data": {
      "text/plain": [
       "'Bought ~ Age + Price100 + Gender + Gift + Race_White + Race_AfricanAmerican + Race_Hispanic'"
      ]
     },
     "execution_count": 27,
     "metadata": {},
     "output_type": "execute_result"
    }
   ],
   "source": [
    "formula_str = 'Bought ~ ' + ' + '.join(df.columns.drop('Bought'))\n",
    "formula_str"
   ]
  },
  {
   "cell_type": "code",
   "execution_count": 25,
   "metadata": {},
   "outputs": [
    {
     "name": "stdout",
     "output_type": "stream",
     "text": [
      "Optimization terminated successfully.\n",
      "         Current function value: 0.161342\n",
      "         Iterations 12\n",
      "                           Logit Regression Results                           \n",
      "==============================================================================\n",
      "Dep. Variable:                 Bought   No. Observations:                   50\n",
      "Model:                          Logit   Df Residuals:                       42\n",
      "Method:                           MLE   Df Model:                            7\n",
      "Date:                Sat, 14 Mar 2020   Pseudo R-squ.:                  0.7279\n",
      "Time:                        13:03:26   Log-Likelihood:                -8.0671\n",
      "converged:                       True   LL-Null:                       -29.648\n",
      "Covariance Type:            nonrobust   LLR p-value:                 3.105e-07\n",
      "========================================================================================\n",
      "                           coef    std err          z      P>|z|      [0.025      0.975]\n",
      "----------------------------------------------------------------------------------------\n",
      "Intercept              -15.7901     15.988     -0.988      0.323     -47.126      15.546\n",
      "Age                      0.0915      0.056      1.624      0.104      -0.019       0.202\n",
      "Price100                 0.0913      0.050      1.834      0.067      -0.006       0.189\n",
      "Gender                   3.7723      2.568      1.469      0.142      -1.261       8.805\n",
      "Gift                     2.7155      1.567      1.733      0.083      -0.356       5.787\n",
      "Race_White               3.7732     13.863      0.272      0.785     -23.397      30.944\n",
      "Race_AfricanAmerican     1.1630     13.739      0.085      0.933     -25.764      28.090\n",
      "Race_Hispanic            6.3472     14.070      0.451      0.652     -21.230      33.925\n",
      "========================================================================================\n",
      "\n",
      "Possibly complete quasi-separation: A fraction 0.40 of observations can be\n",
      "perfectly predicted. This might indicate that there is complete\n",
      "quasi-separation. In this case some parameters will not be identified.\n"
     ]
    }
   ],
   "source": [
    "model = sm.logit(formula=formula_str, data=df)\n",
    "fitted = model.fit()\n",
    "print(fitted.summary())"
   ]
  },
  {
   "cell_type": "markdown",
   "metadata": {},
   "source": [
    "### Model description"
   ]
  },
  {
   "cell_type": "code",
   "execution_count": 26,
   "metadata": {},
   "outputs": [
    {
     "name": "stdout",
     "output_type": "stream",
     "text": [
      "Intercept =  -15.79007437347052\n"
     ]
    },
    {
     "data": {
      "text/html": [
       "<div>\n",
       "<style scoped>\n",
       "    .dataframe tbody tr th:only-of-type {\n",
       "        vertical-align: middle;\n",
       "    }\n",
       "\n",
       "    .dataframe tbody tr th {\n",
       "        vertical-align: top;\n",
       "    }\n",
       "\n",
       "    .dataframe thead th {\n",
       "        text-align: right;\n",
       "    }\n",
       "</style>\n",
       "<table border=\"1\" class=\"dataframe\">\n",
       "  <thead>\n",
       "    <tr style=\"text-align: right;\">\n",
       "      <th></th>\n",
       "      <th>Coefs</th>\n",
       "    </tr>\n",
       "    <tr>\n",
       "      <th>Features</th>\n",
       "      <th></th>\n",
       "    </tr>\n",
       "  </thead>\n",
       "  <tbody>\n",
       "    <tr>\n",
       "      <th>Age</th>\n",
       "      <td>0.091482</td>\n",
       "    </tr>\n",
       "    <tr>\n",
       "      <th>Price100</th>\n",
       "      <td>0.091326</td>\n",
       "    </tr>\n",
       "    <tr>\n",
       "      <th>Gender</th>\n",
       "      <td>3.772301</td>\n",
       "    </tr>\n",
       "    <tr>\n",
       "      <th>Gift</th>\n",
       "      <td>2.715491</td>\n",
       "    </tr>\n",
       "    <tr>\n",
       "      <th>Race_White</th>\n",
       "      <td>3.773168</td>\n",
       "    </tr>\n",
       "    <tr>\n",
       "      <th>Race_AfricanAmerican</th>\n",
       "      <td>1.162994</td>\n",
       "    </tr>\n",
       "    <tr>\n",
       "      <th>Race_Hispanic</th>\n",
       "      <td>6.347211</td>\n",
       "    </tr>\n",
       "  </tbody>\n",
       "</table>\n",
       "</div>"
      ],
      "text/plain": [
       "                         Coefs\n",
       "Features                      \n",
       "Age                   0.091482\n",
       "Price100              0.091326\n",
       "Gender                3.772301\n",
       "Gift                  2.715491\n",
       "Race_White            3.773168\n",
       "Race_AfricanAmerican  1.162994\n",
       "Race_Hispanic         6.347211"
      ]
     },
     "execution_count": 26,
     "metadata": {},
     "output_type": "execute_result"
    }
   ],
   "source": [
    "coefs = pd.DataFrame()\n",
    "coefs['Coefs'] = fitted.params[1:]\n",
    "coefs['Features'] = fitted.params.index[1:]\n",
    "coefs.set_index('Features', inplace=True)\n",
    "print('Intercept = ', fitted.params[0])\n",
    "coefs"
   ]
  },
  {
   "cell_type": "markdown",
   "metadata": {},
   "source": [
    "We have the following regression equation:"
   ]
  },
  {
   "cell_type": "code",
   "execution_count": 28,
   "metadata": {},
   "outputs": [
    {
     "name": "stdout",
     "output_type": "stream",
     "text": [
      "Y = -15.790074 + 0.091*Age + 0.091*Price100 + 3.772*Gender + 2.715*Gift + 3.773*Race_White + 1.163*Race_AfricanAmerican + 6.347*Race_Hispanic\n"
     ]
    }
   ],
   "source": [
    "ss = []\n",
    "for (param, index) in zip(fitted.params[1:], fitted.params.index[1:]):\n",
    "    ss.append('{:.3f}*{}'.format(param, index))\n",
    "    \n",
    "print('Y = {:3f} + {}'.format(fitted.params[0], ' + '.join(ss)))"
   ]
  },
  {
   "cell_type": "code",
   "execution_count": null,
   "metadata": {},
   "outputs": [],
   "source": []
  }
 ],
 "metadata": {
  "kernelspec": {
   "display_name": "Python 3",
   "language": "python",
   "name": "python3"
  },
  "language_info": {
   "codemirror_mode": {
    "name": "ipython",
    "version": 3
   },
   "file_extension": ".py",
   "mimetype": "text/x-python",
   "name": "python",
   "nbconvert_exporter": "python",
   "pygments_lexer": "ipython3",
   "version": "3.7.6"
  }
 },
 "nbformat": 4,
 "nbformat_minor": 4
}
