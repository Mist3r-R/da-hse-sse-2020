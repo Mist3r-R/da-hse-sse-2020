{
 "cells": [
  {
   "cell_type": "markdown",
   "metadata": {},
   "source": [
    "# 18.04.20\n",
    "\n",
    "**Authors:** Miron Rogovets, Demid Afonichev, Maxim Shmakov\n",
    "\n",
    "---\n",
    "\n",
    "### Task 1. Open _dollar.dta_ file\n",
    "\n",
    "Dependent variable: _dollar_\n",
    "\n",
    "Independent variable: _time_\n",
    "\n",
    "- Use quadratic model to describe the change in the dollar exchange rate over the\n",
    "considered period.\n",
    "- Describe parameters of the regression model.\n",
    "- Do the diagnostics of the model."
   ]
  },
  {
   "cell_type": "code",
   "execution_count": 1,
   "metadata": {},
   "outputs": [],
   "source": [
    "import pandas as pd\n",
    "import numpy as np\n",
    "import matplotlib.pyplot as plt\n",
    "import seaborn as sns\n",
    "import pyreadstat"
   ]
  },
  {
   "cell_type": "code",
   "execution_count": 4,
   "metadata": {},
   "outputs": [
    {
     "name": "stdout",
     "output_type": "stream",
     "text": [
      "(283, 3)\n"
     ]
    },
    {
     "data": {
      "text/html": [
       "<div>\n",
       "<style scoped>\n",
       "    .dataframe tbody tr th:only-of-type {\n",
       "        vertical-align: middle;\n",
       "    }\n",
       "\n",
       "    .dataframe tbody tr th {\n",
       "        vertical-align: top;\n",
       "    }\n",
       "\n",
       "    .dataframe thead th {\n",
       "        text-align: right;\n",
       "    }\n",
       "</style>\n",
       "<table border=\"1\" class=\"dataframe\">\n",
       "  <thead>\n",
       "    <tr style=\"text-align: right;\">\n",
       "      <th></th>\n",
       "      <th>dollar</th>\n",
       "      <th>date</th>\n",
       "      <th>time</th>\n",
       "    </tr>\n",
       "  </thead>\n",
       "  <tbody>\n",
       "    <tr>\n",
       "      <th>0</th>\n",
       "      <td>32.6587</td>\n",
       "      <td>01.01.2014</td>\n",
       "      <td>1.0</td>\n",
       "    </tr>\n",
       "    <tr>\n",
       "      <th>1</th>\n",
       "      <td>33.1547</td>\n",
       "      <td>10.01.2014</td>\n",
       "      <td>2.0</td>\n",
       "    </tr>\n",
       "    <tr>\n",
       "      <th>2</th>\n",
       "      <td>33.2062</td>\n",
       "      <td>11.01.2014</td>\n",
       "      <td>3.0</td>\n",
       "    </tr>\n",
       "  </tbody>\n",
       "</table>\n",
       "</div>"
      ],
      "text/plain": [
       "    dollar        date  time\n",
       "0  32.6587  01.01.2014   1.0\n",
       "1  33.1547  10.01.2014   2.0\n",
       "2  33.2062  11.01.2014   3.0"
      ]
     },
     "execution_count": 4,
     "metadata": {},
     "output_type": "execute_result"
    }
   ],
   "source": [
    "df = pd.read_stata('data/dollar.dta')\n",
    "print(df.shape)\n",
    "df.head(3)"
   ]
  },
  {
   "cell_type": "code",
   "execution_count": 2,
   "metadata": {},
   "outputs": [
    {
     "data": {
      "text/plain": [
       "{'dollar': 'dollar exchange rate', 'date': 'date', 'time': None}"
      ]
     },
     "execution_count": 2,
     "metadata": {},
     "output_type": "execute_result"
    }
   ],
   "source": [
    "_, meta = pyreadstat.read_dta('data/dollar.dta')\n",
    "meta.column_names_to_labels"
   ]
  },
  {
   "cell_type": "code",
   "execution_count": null,
   "metadata": {},
   "outputs": [],
   "source": []
  },
  {
   "cell_type": "markdown",
   "metadata": {},
   "source": [
    "### Task 2. Open _datafile.dta_ file\n",
    "\n",
    "There is data from 2007 to 2016 on 96 federal executive bodies. The task is to identify the\n",
    "relationship between the level of remuneration of civil servants and various factors.\n",
    "\n",
    "Dependent variable: _Average monthly salary (salary)_\n",
    "\n",
    "Independent Variables:\n",
    "- Number of civil servants (v1)\n",
    "- Number of vacant positions (v2)\n",
    "- Number of civil servants with higher education (v3)\n",
    "- Number of civil servants with 2 or more higher education (v4)\n",
    "- The number of civil servants who received an additional education (v5)\n",
    "- Number of male civil servants (v6)\n",
    "- Number of female civil servants (v7)\n",
    "- Number of civil servants of retirement age (v8)\n",
    "- The number of civil servants whose work experience is less than 10 years (v9)\n",
    "- The number of civil servants whose work experience is from 10 to 25 years (v10)\n",
    "- The number of civil servants whose work experience is 25 years or more (v11)\n",
    "\n",
    "\n",
    "1. Select at least 7 independent variables (you can select more or all).\n",
    "2. Conduct tests to select one of three models:\n",
    "    - pulled regression model\n",
    "    - a model with fixed effects\n",
    "    - and a model with random effects.\n",
    "    Choose the right model and justify your choice\n",
    "3. Describe the resulting model as a whole.\n",
    "4. Describe the relationships between the dependent variable and the predictors (which relationships are significant, which are direct, which are inverse). Draw conclusions from the analysis.\n",
    "5. Save the individual effects as a separate variable and indicate the names of the federal executive bodies with the greatest and least individual effect."
   ]
  },
  {
   "cell_type": "code",
   "execution_count": null,
   "metadata": {},
   "outputs": [],
   "source": []
  },
  {
   "cell_type": "code",
   "execution_count": 3,
   "metadata": {},
   "outputs": [
    {
     "data": {
      "text/plain": [
       "{'id': 'id',\n",
       " 'name': 'Name of the Federal Executive Body',\n",
       " 'year': 'year',\n",
       " 't': 'year',\n",
       " 'salary': 'The average monthly salary of a public servant',\n",
       " 'v1': 'Number of public servants',\n",
       " 'v2': 'Number of Vacancies',\n",
       " 'v3': 'Number of public servants with higher education',\n",
       " 'v4': 'Number of public servants with two or more higher education diplomas',\n",
       " 'v5': 'Number of public servants who passed special training',\n",
       " 'v6': 'Number of public servants who are males',\n",
       " 'v7': 'Number of public servants who are females',\n",
       " 'v8': 'Number of public servants who are who are at retirement age',\n",
       " 'v9': 'Number of public servants with woking experience less than 10 years',\n",
       " 'v10': 'Number of public servants with woking experience from 10 to 25 years',\n",
       " 'v11': 'Number of public servants with woking experience more than 25 years'}"
      ]
     },
     "execution_count": 3,
     "metadata": {},
     "output_type": "execute_result"
    }
   ],
   "source": [
    "_, meta = pyreadstat.read_dta('data/datafile.dta')\n",
    "meta.column_names_to_labels"
   ]
  },
  {
   "cell_type": "code",
   "execution_count": null,
   "metadata": {},
   "outputs": [],
   "source": []
  }
 ],
 "metadata": {
  "kernelspec": {
   "display_name": "Python 3",
   "language": "python",
   "name": "python3"
  },
  "language_info": {
   "codemirror_mode": {
    "name": "ipython",
    "version": 3
   },
   "file_extension": ".py",
   "mimetype": "text/x-python",
   "name": "python",
   "nbconvert_exporter": "python",
   "pygments_lexer": "ipython3",
   "version": "3.7.6"
  }
 },
 "nbformat": 4,
 "nbformat_minor": 4
}
