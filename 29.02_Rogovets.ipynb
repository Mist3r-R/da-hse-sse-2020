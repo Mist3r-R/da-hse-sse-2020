{
 "cells": [
  {
   "attachments": {},
   "cell_type": "markdown",
   "metadata": {},
   "source": [
    "# 29.02.20\n",
    "\n",
    "**Author:** Miron Rogovets\n",
    "\n",
    "---\n",
    "\n",
    "### Task 1. Regression analysis\n",
    "\n",
    "Do the multiple regression analysis using the following variables from **data_games.dta**: \n",
    "\n",
    "Dependent variable: <code>payment</code>\n",
    "\n",
    "Independent variables: <code>payment_type, payment_method, crystalls_balance_before_buy, crystalls_bought</code> \n",
    "\n",
    "Describe the model:\n",
    "1. Specify the regression equation. \n",
    "2. Assess the goodness-of-fit of the model (R-square, significance of the model);\n",
    "3. Which independent variables significantly influence the dependent variable (explain your answer)? \n",
    "4. Describe the relationship between each independent and the dependent variable.\n",
    "\n",
    "Do the diagnostics of the model: \n",
    "5. Are the residuals normally distributed? \n",
    "6. Are there any outliers (standardized residuals greater than 3, or less that -3)?\n",
    "7. Test the multicollinearity and heteroscedasticity."
   ]
  },
  {
   "cell_type": "code",
   "execution_count": 2,
   "metadata": {},
   "outputs": [],
   "source": [
    "import pandas as pd\n",
    "import numpy as np\n",
    "import matplotlib.pyplot as plt\n",
    "import seaborn as sns\n",
    "from scipy.stats import kstest\n",
    "from scipy.stats import zscore, norm\n",
    "import statsmodels.formula.api as sm\n",
    "import statsmodels.stats.api as sms\n",
    "from statsmodels.stats.outliers_influence import variance_inflation_factor as vif\n",
    "from statsmodels.stats.outliers_influence import OLSInfluence as influence"
   ]
  },
  {
   "cell_type": "code",
   "execution_count": 3,
   "metadata": {},
   "outputs": [
    {
     "data": {
      "text/html": [
       "<div>\n",
       "<style scoped>\n",
       "    .dataframe tbody tr th:only-of-type {\n",
       "        vertical-align: middle;\n",
       "    }\n",
       "\n",
       "    .dataframe tbody tr th {\n",
       "        vertical-align: top;\n",
       "    }\n",
       "\n",
       "    .dataframe thead th {\n",
       "        text-align: right;\n",
       "    }\n",
       "</style>\n",
       "<table border=\"1\" class=\"dataframe\">\n",
       "  <thead>\n",
       "    <tr style=\"text-align: right;\">\n",
       "      <th></th>\n",
       "      <th>id</th>\n",
       "      <th>pack_id</th>\n",
       "      <th>crystalls_balance_before_buy</th>\n",
       "      <th>crystalls_bought</th>\n",
       "      <th>country</th>\n",
       "      <th>payment</th>\n",
       "      <th>utc_timestamp</th>\n",
       "      <th>payment_type</th>\n",
       "      <th>payment_method</th>\n",
       "    </tr>\n",
       "  </thead>\n",
       "  <tbody>\n",
       "    <tr>\n",
       "      <th>0</th>\n",
       "      <td>2.052791e+09</td>\n",
       "      <td>3.0</td>\n",
       "      <td>0.0</td>\n",
       "      <td>41.0</td>\n",
       "      <td>GB</td>\n",
       "      <td>644.0</td>\n",
       "      <td>1.414842e+09</td>\n",
       "      <td>offer</td>\n",
       "      <td>general</td>\n",
       "    </tr>\n",
       "    <tr>\n",
       "      <th>1</th>\n",
       "      <td>1.275033e+09</td>\n",
       "      <td>1.0</td>\n",
       "      <td>10.0</td>\n",
       "      <td>7.0</td>\n",
       "      <td>US</td>\n",
       "      <td>205.0</td>\n",
       "      <td>1.414814e+09</td>\n",
       "      <td>offer</td>\n",
       "      <td>general</td>\n",
       "    </tr>\n",
       "    <tr>\n",
       "      <th>2</th>\n",
       "      <td>2.000015e+14</td>\n",
       "      <td>2.0</td>\n",
       "      <td>2.0</td>\n",
       "      <td>14.0</td>\n",
       "      <td>US</td>\n",
       "      <td>514.0</td>\n",
       "      <td>1.414866e+09</td>\n",
       "      <td>regular</td>\n",
       "      <td>general</td>\n",
       "    </tr>\n",
       "    <tr>\n",
       "      <th>3</th>\n",
       "      <td>1.119068e+09</td>\n",
       "      <td>4.0</td>\n",
       "      <td>0.0</td>\n",
       "      <td>70.0</td>\n",
       "      <td>GB</td>\n",
       "      <td>1289.0</td>\n",
       "      <td>1.414917e+09</td>\n",
       "      <td>regular</td>\n",
       "      <td>general</td>\n",
       "    </tr>\n",
       "    <tr>\n",
       "      <th>4</th>\n",
       "      <td>2.000028e+14</td>\n",
       "      <td>3.0</td>\n",
       "      <td>0.0</td>\n",
       "      <td>30.0</td>\n",
       "      <td>US</td>\n",
       "      <td>1029.0</td>\n",
       "      <td>1.414946e+09</td>\n",
       "      <td>regular</td>\n",
       "      <td>general</td>\n",
       "    </tr>\n",
       "  </tbody>\n",
       "</table>\n",
       "</div>"
      ],
      "text/plain": [
       "             id  pack_id  crystalls_balance_before_buy  crystalls_bought  \\\n",
       "0  2.052791e+09      3.0                           0.0              41.0   \n",
       "1  1.275033e+09      1.0                          10.0               7.0   \n",
       "2  2.000015e+14      2.0                           2.0              14.0   \n",
       "3  1.119068e+09      4.0                           0.0              70.0   \n",
       "4  2.000028e+14      3.0                           0.0              30.0   \n",
       "\n",
       "  country  payment  utc_timestamp payment_type payment_method  \n",
       "0      GB    644.0   1.414842e+09        offer        general  \n",
       "1      US    205.0   1.414814e+09        offer        general  \n",
       "2      US    514.0   1.414866e+09      regular        general  \n",
       "3      GB   1289.0   1.414917e+09      regular        general  \n",
       "4      US   1029.0   1.414946e+09      regular        general  "
      ]
     },
     "execution_count": 3,
     "metadata": {},
     "output_type": "execute_result"
    }
   ],
   "source": [
    "df = pd.read_stata('data/data_games.dta')\n",
    "df.head()"
   ]
  },
  {
   "cell_type": "code",
   "execution_count": 4,
   "metadata": {},
   "outputs": [
    {
     "data": {
      "text/html": [
       "<div>\n",
       "<style scoped>\n",
       "    .dataframe tbody tr th:only-of-type {\n",
       "        vertical-align: middle;\n",
       "    }\n",
       "\n",
       "    .dataframe tbody tr th {\n",
       "        vertical-align: top;\n",
       "    }\n",
       "\n",
       "    .dataframe thead th {\n",
       "        text-align: right;\n",
       "    }\n",
       "</style>\n",
       "<table border=\"1\" class=\"dataframe\">\n",
       "  <thead>\n",
       "    <tr style=\"text-align: right;\">\n",
       "      <th></th>\n",
       "      <th>payment</th>\n",
       "      <th>payment_type</th>\n",
       "      <th>payment_method</th>\n",
       "      <th>crystalls_balance_before_buy</th>\n",
       "      <th>crystalls_bought</th>\n",
       "    </tr>\n",
       "  </thead>\n",
       "  <tbody>\n",
       "    <tr>\n",
       "      <th>0</th>\n",
       "      <td>644.0</td>\n",
       "      <td>offer</td>\n",
       "      <td>general</td>\n",
       "      <td>0.0</td>\n",
       "      <td>41.0</td>\n",
       "    </tr>\n",
       "    <tr>\n",
       "      <th>1</th>\n",
       "      <td>205.0</td>\n",
       "      <td>offer</td>\n",
       "      <td>general</td>\n",
       "      <td>10.0</td>\n",
       "      <td>7.0</td>\n",
       "    </tr>\n",
       "    <tr>\n",
       "      <th>2</th>\n",
       "      <td>514.0</td>\n",
       "      <td>regular</td>\n",
       "      <td>general</td>\n",
       "      <td>2.0</td>\n",
       "      <td>14.0</td>\n",
       "    </tr>\n",
       "    <tr>\n",
       "      <th>3</th>\n",
       "      <td>1289.0</td>\n",
       "      <td>regular</td>\n",
       "      <td>general</td>\n",
       "      <td>0.0</td>\n",
       "      <td>70.0</td>\n",
       "    </tr>\n",
       "    <tr>\n",
       "      <th>4</th>\n",
       "      <td>1029.0</td>\n",
       "      <td>regular</td>\n",
       "      <td>general</td>\n",
       "      <td>0.0</td>\n",
       "      <td>30.0</td>\n",
       "    </tr>\n",
       "  </tbody>\n",
       "</table>\n",
       "</div>"
      ],
      "text/plain": [
       "   payment payment_type payment_method  crystalls_balance_before_buy  \\\n",
       "0    644.0        offer        general                           0.0   \n",
       "1    205.0        offer        general                          10.0   \n",
       "2    514.0      regular        general                           2.0   \n",
       "3   1289.0      regular        general                           0.0   \n",
       "4   1029.0      regular        general                           0.0   \n",
       "\n",
       "   crystalls_bought  \n",
       "0              41.0  \n",
       "1               7.0  \n",
       "2              14.0  \n",
       "3              70.0  \n",
       "4              30.0  "
      ]
     },
     "execution_count": 4,
     "metadata": {},
     "output_type": "execute_result"
    }
   ],
   "source": [
    "data = df[['payment', 'payment_type', 'payment_method', 'crystalls_balance_before_buy', 'crystalls_bought']]\n",
    "data.head()"
   ]
  },
  {
   "cell_type": "code",
   "execution_count": 5,
   "metadata": {},
   "outputs": [
    {
     "name": "stdout",
     "output_type": "stream",
     "text": [
      "[general, mobile, fb_promotion, giftcard]\n",
      "Categories (4, object): [fb_promotion < general < giftcard < mobile]\n"
     ]
    },
    {
     "data": {
      "text/plain": [
       "[offer, regular]\n",
       "Categories (2, object): [offer < regular]"
      ]
     },
     "execution_count": 5,
     "metadata": {},
     "output_type": "execute_result"
    }
   ],
   "source": [
    "print(data.payment_method.unique())\n",
    "data.payment_type.unique()"
   ]
  },
  {
   "cell_type": "code",
   "execution_count": 6,
   "metadata": {},
   "outputs": [
    {
     "data": {
      "text/plain": [
       "general         103278\n",
       "mobile            1673\n",
       "fb_promotion       498\n",
       "giftcard            58\n",
       "Name: payment_method, dtype: int64"
      ]
     },
     "execution_count": 6,
     "metadata": {},
     "output_type": "execute_result"
    }
   ],
   "source": [
    "data.payment_method.value_counts()"
   ]
  },
  {
   "cell_type": "markdown",
   "metadata": {},
   "source": [
    "Check if we have any missing values"
   ]
  },
  {
   "cell_type": "code",
   "execution_count": 7,
   "metadata": {},
   "outputs": [
    {
     "data": {
      "text/plain": [
       "payment                         0\n",
       "payment_type                    0\n",
       "payment_method                  0\n",
       "crystalls_balance_before_buy    0\n",
       "crystalls_bought                0\n",
       "dtype: int64"
      ]
     },
     "execution_count": 7,
     "metadata": {},
     "output_type": "execute_result"
    }
   ],
   "source": [
    "data.isna().sum()"
   ]
  },
  {
   "cell_type": "markdown",
   "metadata": {},
   "source": [
    "Since our data has two catogorical features, we should convert them to numeric. Although we can use simple Label encoding, we should avoid it as our model may think that a column has data with some kind of order or hierarchy, when it doesn't"
   ]
  },
  {
   "cell_type": "code",
   "execution_count": 8,
   "metadata": {},
   "outputs": [
    {
     "data": {
      "text/html": [
       "<div>\n",
       "<style scoped>\n",
       "    .dataframe tbody tr th:only-of-type {\n",
       "        vertical-align: middle;\n",
       "    }\n",
       "\n",
       "    .dataframe tbody tr th {\n",
       "        vertical-align: top;\n",
       "    }\n",
       "\n",
       "    .dataframe thead th {\n",
       "        text-align: right;\n",
       "    }\n",
       "</style>\n",
       "<table border=\"1\" class=\"dataframe\">\n",
       "  <thead>\n",
       "    <tr style=\"text-align: right;\">\n",
       "      <th></th>\n",
       "      <th>payment</th>\n",
       "      <th>crystalls_balance_before_buy</th>\n",
       "      <th>crystalls_bought</th>\n",
       "      <th>payment_type_offer</th>\n",
       "      <th>payment_type_regular</th>\n",
       "      <th>payment_method_fb_promotion</th>\n",
       "      <th>payment_method_general</th>\n",
       "      <th>payment_method_giftcard</th>\n",
       "      <th>payment_method_mobile</th>\n",
       "    </tr>\n",
       "  </thead>\n",
       "  <tbody>\n",
       "    <tr>\n",
       "      <th>0</th>\n",
       "      <td>644.0</td>\n",
       "      <td>0.0</td>\n",
       "      <td>41.0</td>\n",
       "      <td>1</td>\n",
       "      <td>0</td>\n",
       "      <td>0</td>\n",
       "      <td>1</td>\n",
       "      <td>0</td>\n",
       "      <td>0</td>\n",
       "    </tr>\n",
       "    <tr>\n",
       "      <th>1</th>\n",
       "      <td>205.0</td>\n",
       "      <td>10.0</td>\n",
       "      <td>7.0</td>\n",
       "      <td>1</td>\n",
       "      <td>0</td>\n",
       "      <td>0</td>\n",
       "      <td>1</td>\n",
       "      <td>0</td>\n",
       "      <td>0</td>\n",
       "    </tr>\n",
       "    <tr>\n",
       "      <th>2</th>\n",
       "      <td>514.0</td>\n",
       "      <td>2.0</td>\n",
       "      <td>14.0</td>\n",
       "      <td>0</td>\n",
       "      <td>1</td>\n",
       "      <td>0</td>\n",
       "      <td>1</td>\n",
       "      <td>0</td>\n",
       "      <td>0</td>\n",
       "    </tr>\n",
       "    <tr>\n",
       "      <th>3</th>\n",
       "      <td>1289.0</td>\n",
       "      <td>0.0</td>\n",
       "      <td>70.0</td>\n",
       "      <td>0</td>\n",
       "      <td>1</td>\n",
       "      <td>0</td>\n",
       "      <td>1</td>\n",
       "      <td>0</td>\n",
       "      <td>0</td>\n",
       "    </tr>\n",
       "    <tr>\n",
       "      <th>4</th>\n",
       "      <td>1029.0</td>\n",
       "      <td>0.0</td>\n",
       "      <td>30.0</td>\n",
       "      <td>0</td>\n",
       "      <td>1</td>\n",
       "      <td>0</td>\n",
       "      <td>1</td>\n",
       "      <td>0</td>\n",
       "      <td>0</td>\n",
       "    </tr>\n",
       "  </tbody>\n",
       "</table>\n",
       "</div>"
      ],
      "text/plain": [
       "   payment  crystalls_balance_before_buy  crystalls_bought  \\\n",
       "0    644.0                           0.0              41.0   \n",
       "1    205.0                          10.0               7.0   \n",
       "2    514.0                           2.0              14.0   \n",
       "3   1289.0                           0.0              70.0   \n",
       "4   1029.0                           0.0              30.0   \n",
       "\n",
       "   payment_type_offer  payment_type_regular  payment_method_fb_promotion  \\\n",
       "0                   1                     0                            0   \n",
       "1                   1                     0                            0   \n",
       "2                   0                     1                            0   \n",
       "3                   0                     1                            0   \n",
       "4                   0                     1                            0   \n",
       "\n",
       "   payment_method_general  payment_method_giftcard  payment_method_mobile  \n",
       "0                       1                        0                      0  \n",
       "1                       1                        0                      0  \n",
       "2                       1                        0                      0  \n",
       "3                       1                        0                      0  \n",
       "4                       1                        0                      0  "
      ]
     },
     "execution_count": 8,
     "metadata": {},
     "output_type": "execute_result"
    }
   ],
   "source": [
    "data_encoded = pd.get_dummies(data, prefix=['payment_type', 'payment_method'], \n",
    "                              columns = ['payment_type', 'payment_method'])\n",
    "data_encoded.head()"
   ]
  },
  {
   "cell_type": "markdown",
   "metadata": {},
   "source": [
    "We use <code>payment_type_offer</code> as reference variable for dummy encoded _payment_type_ and <code>payment_method_general</code> for _payment_method,_ so we do not include them in our features list"
   ]
  },
  {
   "cell_type": "code",
   "execution_count": 9,
   "metadata": {},
   "outputs": [
    {
     "data": {
      "text/html": [
       "<div>\n",
       "<style scoped>\n",
       "    .dataframe tbody tr th:only-of-type {\n",
       "        vertical-align: middle;\n",
       "    }\n",
       "\n",
       "    .dataframe tbody tr th {\n",
       "        vertical-align: top;\n",
       "    }\n",
       "\n",
       "    .dataframe thead th {\n",
       "        text-align: right;\n",
       "    }\n",
       "</style>\n",
       "<table border=\"1\" class=\"dataframe\">\n",
       "  <thead>\n",
       "    <tr style=\"text-align: right;\">\n",
       "      <th></th>\n",
       "      <th>payment</th>\n",
       "      <th>crystalls_balance_before_buy</th>\n",
       "      <th>crystalls_bought</th>\n",
       "      <th>payment_type_regular</th>\n",
       "      <th>payment_method_fb_promotion</th>\n",
       "      <th>payment_method_giftcard</th>\n",
       "      <th>payment_method_mobile</th>\n",
       "    </tr>\n",
       "  </thead>\n",
       "  <tbody>\n",
       "    <tr>\n",
       "      <th>0</th>\n",
       "      <td>644.0</td>\n",
       "      <td>0.0</td>\n",
       "      <td>41.0</td>\n",
       "      <td>0</td>\n",
       "      <td>0</td>\n",
       "      <td>0</td>\n",
       "      <td>0</td>\n",
       "    </tr>\n",
       "    <tr>\n",
       "      <th>1</th>\n",
       "      <td>205.0</td>\n",
       "      <td>10.0</td>\n",
       "      <td>7.0</td>\n",
       "      <td>0</td>\n",
       "      <td>0</td>\n",
       "      <td>0</td>\n",
       "      <td>0</td>\n",
       "    </tr>\n",
       "    <tr>\n",
       "      <th>2</th>\n",
       "      <td>514.0</td>\n",
       "      <td>2.0</td>\n",
       "      <td>14.0</td>\n",
       "      <td>1</td>\n",
       "      <td>0</td>\n",
       "      <td>0</td>\n",
       "      <td>0</td>\n",
       "    </tr>\n",
       "    <tr>\n",
       "      <th>3</th>\n",
       "      <td>1289.0</td>\n",
       "      <td>0.0</td>\n",
       "      <td>70.0</td>\n",
       "      <td>1</td>\n",
       "      <td>0</td>\n",
       "      <td>0</td>\n",
       "      <td>0</td>\n",
       "    </tr>\n",
       "    <tr>\n",
       "      <th>4</th>\n",
       "      <td>1029.0</td>\n",
       "      <td>0.0</td>\n",
       "      <td>30.0</td>\n",
       "      <td>1</td>\n",
       "      <td>0</td>\n",
       "      <td>0</td>\n",
       "      <td>0</td>\n",
       "    </tr>\n",
       "  </tbody>\n",
       "</table>\n",
       "</div>"
      ],
      "text/plain": [
       "   payment  crystalls_balance_before_buy  crystalls_bought  \\\n",
       "0    644.0                           0.0              41.0   \n",
       "1    205.0                          10.0               7.0   \n",
       "2    514.0                           2.0              14.0   \n",
       "3   1289.0                           0.0              70.0   \n",
       "4   1029.0                           0.0              30.0   \n",
       "\n",
       "   payment_type_regular  payment_method_fb_promotion  payment_method_giftcard  \\\n",
       "0                     0                            0                        0   \n",
       "1                     0                            0                        0   \n",
       "2                     1                            0                        0   \n",
       "3                     1                            0                        0   \n",
       "4                     1                            0                        0   \n",
       "\n",
       "   payment_method_mobile  \n",
       "0                      0  \n",
       "1                      0  \n",
       "2                      0  \n",
       "3                      0  \n",
       "4                      0  "
      ]
     },
     "execution_count": 9,
     "metadata": {},
     "output_type": "execute_result"
    }
   ],
   "source": [
    "df = data_encoded.drop(columns=['payment_type_offer', 'payment_method_general']).copy()\n",
    "df.head()"
   ]
  },
  {
   "cell_type": "markdown",
   "metadata": {},
   "source": [
    "Create and fit our model"
   ]
  },
  {
   "cell_type": "code",
   "execution_count": 10,
   "metadata": {},
   "outputs": [
    {
     "data": {
      "text/plain": [
       "'payment ~ crystalls_balance_before_buy+crystalls_bought+payment_type_regular+payment_method_fb_promotion+payment_method_giftcard+payment_method_mobile'"
      ]
     },
     "execution_count": 10,
     "metadata": {},
     "output_type": "execute_result"
    }
   ],
   "source": [
    "formula_str = df.columns[0] + ' ~ ' + '+'.join(df.columns[1:])\n",
    "formula_str"
   ]
  },
  {
   "cell_type": "code",
   "execution_count": 11,
   "metadata": {},
   "outputs": [
    {
     "name": "stdout",
     "output_type": "stream",
     "text": [
      "                            OLS Regression Results                            \n",
      "==============================================================================\n",
      "Dep. Variable:                payment   R-squared:                       0.739\n",
      "Model:                            OLS   Adj. R-squared:                  0.739\n",
      "Method:                 Least Squares   F-statistic:                 4.985e+04\n",
      "Date:                Wed, 04 Mar 2020   Prob (F-statistic):               0.00\n",
      "Time:                        18:49:57   Log-Likelihood:            -8.4391e+05\n",
      "No. Observations:              105507   AIC:                         1.688e+06\n",
      "Df Residuals:                  105500   BIC:                         1.688e+06\n",
      "Df Model:                           6                                         \n",
      "Covariance Type:            nonrobust                                         \n",
      "================================================================================================\n",
      "                                   coef    std err          t      P>|t|      [0.025      0.975]\n",
      "------------------------------------------------------------------------------------------------\n",
      "Intercept                       42.9763      6.529      6.583      0.000      30.180      55.772\n",
      "crystalls_balance_before_buy    -0.6067      0.024    -25.075      0.000      -0.654      -0.559\n",
      "crystalls_bought                16.1742      0.030    543.506      0.000      16.116      16.233\n",
      "payment_type_regular           395.6248      6.622     59.741      0.000     382.645     408.605\n",
      "payment_method_fb_promotion   -256.3561     32.389     -7.915      0.000    -319.838    -192.874\n",
      "payment_method_giftcard      -2176.7170     94.630    -23.003      0.000   -2362.190   -1991.244\n",
      "payment_method_mobile         -598.9345     17.757    -33.730      0.000    -633.738    -564.131\n",
      "==============================================================================\n",
      "Omnibus:                   100306.419   Durbin-Watson:                   1.993\n",
      "Prob(Omnibus):                  0.000   Jarque-Bera (JB):         22721624.067\n",
      "Skew:                          -4.039   Prob(JB):                         0.00\n",
      "Kurtosis:                      74.437   Cond. No.                     4.24e+03\n",
      "==============================================================================\n",
      "\n",
      "Warnings:\n",
      "[1] Standard Errors assume that the covariance matrix of the errors is correctly specified.\n",
      "[2] The condition number is large, 4.24e+03. This might indicate that there are\n",
      "strong multicollinearity or other numerical problems.\n"
     ]
    }
   ],
   "source": [
    "model = sm.ols(formula=formula_str, data=df)\n",
    "fitted = model.fit()\n",
    "print(fitted.summary())"
   ]
  },
  {
   "cell_type": "markdown",
   "metadata": {},
   "source": [
    "### Model description"
   ]
  },
  {
   "cell_type": "code",
   "execution_count": 12,
   "metadata": {},
   "outputs": [
    {
     "name": "stdout",
     "output_type": "stream",
     "text": [
      "Intercept =  42.9762640074718\n"
     ]
    },
    {
     "data": {
      "text/html": [
       "<div>\n",
       "<style scoped>\n",
       "    .dataframe tbody tr th:only-of-type {\n",
       "        vertical-align: middle;\n",
       "    }\n",
       "\n",
       "    .dataframe tbody tr th {\n",
       "        vertical-align: top;\n",
       "    }\n",
       "\n",
       "    .dataframe thead th {\n",
       "        text-align: right;\n",
       "    }\n",
       "</style>\n",
       "<table border=\"1\" class=\"dataframe\">\n",
       "  <thead>\n",
       "    <tr style=\"text-align: right;\">\n",
       "      <th></th>\n",
       "      <th>Coefs</th>\n",
       "    </tr>\n",
       "    <tr>\n",
       "      <th>Features</th>\n",
       "      <th></th>\n",
       "    </tr>\n",
       "  </thead>\n",
       "  <tbody>\n",
       "    <tr>\n",
       "      <th>crystalls_balance_before_buy</th>\n",
       "      <td>-0.606720</td>\n",
       "    </tr>\n",
       "    <tr>\n",
       "      <th>crystalls_bought</th>\n",
       "      <td>16.174186</td>\n",
       "    </tr>\n",
       "    <tr>\n",
       "      <th>payment_type_regular</th>\n",
       "      <td>395.624772</td>\n",
       "    </tr>\n",
       "    <tr>\n",
       "      <th>payment_method_fb_promotion</th>\n",
       "      <td>-256.356112</td>\n",
       "    </tr>\n",
       "    <tr>\n",
       "      <th>payment_method_giftcard</th>\n",
       "      <td>-2176.716994</td>\n",
       "    </tr>\n",
       "    <tr>\n",
       "      <th>payment_method_mobile</th>\n",
       "      <td>-598.934531</td>\n",
       "    </tr>\n",
       "  </tbody>\n",
       "</table>\n",
       "</div>"
      ],
      "text/plain": [
       "                                    Coefs\n",
       "Features                                 \n",
       "crystalls_balance_before_buy    -0.606720\n",
       "crystalls_bought                16.174186\n",
       "payment_type_regular           395.624772\n",
       "payment_method_fb_promotion   -256.356112\n",
       "payment_method_giftcard      -2176.716994\n",
       "payment_method_mobile         -598.934531"
      ]
     },
     "execution_count": 12,
     "metadata": {},
     "output_type": "execute_result"
    }
   ],
   "source": [
    "coefs = pd.DataFrame()\n",
    "coefs['Coefs'] = fitted.params[1:]\n",
    "coefs['Features'] = fitted.params.index[1:]\n",
    "coefs.set_index('Features', inplace=True)\n",
    "print('Intercept = ', fitted.params[0])\n",
    "coefs"
   ]
  },
  {
   "cell_type": "markdown",
   "metadata": {},
   "source": [
    "We have the following regression equation:"
   ]
  },
  {
   "cell_type": "code",
   "execution_count": 13,
   "metadata": {},
   "outputs": [
    {
     "name": "stdout",
     "output_type": "stream",
     "text": [
      "Y = 42.976264 + -0.607*crystalls_balance_before_buy + 16.174*crystalls_bought + 395.625*payment_type_regular + -256.356*payment_method_fb_promotion + -2176.717*payment_method_giftcard + -598.935*payment_method_mobile\n"
     ]
    }
   ],
   "source": [
    "ss = []\n",
    "for (param, index) in zip(fitted.params[1:], fitted.params.index[1:]):\n",
    "    ss.append('{:.3f}*{}'.format(param, index))\n",
    "    \n",
    "print('Y = {:3f} + {}'.format(fitted.params[0], ' + '.join(ss)))"
   ]
  },
  {
   "cell_type": "markdown",
   "metadata": {},
   "source": [
    "$R^2$ & model significance:"
   ]
  },
  {
   "cell_type": "code",
   "execution_count": 14,
   "metadata": {},
   "outputs": [
    {
     "name": "stdout",
     "output_type": "stream",
     "text": [
      "R^2 = 0.739257\n",
      "F stat = 0.000000\n"
     ]
    }
   ],
   "source": [
    "print('R^2 = {:f}'.format(fitted.rsquared))\n",
    "print('F stat = {:f}'.format(fitted.f_pvalue))"
   ]
  },
  {
   "attachments": {},
   "cell_type": "markdown",
   "metadata": {},
   "source": [
    "The regression model is statistically significant. It explains 73.9% of payment’s variation"
   ]
  },
  {
   "cell_type": "code",
   "execution_count": 15,
   "metadata": {},
   "outputs": [],
   "source": [
    "def yes_no(b):\n",
    "    if abs(b) < 0.05:\n",
    "        return 'Yes'\n",
    "    else:\n",
    "        return 'No'"
   ]
  },
  {
   "cell_type": "code",
   "execution_count": 16,
   "metadata": {},
   "outputs": [],
   "source": [
    "pvals = pd.DataFrame()\n",
    "pvals['p_values'] = fitted.pvalues[1:]\n",
    "pvals['Statistically significant?']= pvals['p_values'].apply(yes_no)\n",
    "pvals['p_values'] = pvals['p_values'].map('{:.3f}'.format)\n",
    "pvals['Features'] = df.columns[1:]\n",
    "pvals.set_index('Features',inplace=True)"
   ]
  },
  {
   "cell_type": "code",
   "execution_count": 17,
   "metadata": {},
   "outputs": [
    {
     "data": {
      "text/html": [
       "<div>\n",
       "<style scoped>\n",
       "    .dataframe tbody tr th:only-of-type {\n",
       "        vertical-align: middle;\n",
       "    }\n",
       "\n",
       "    .dataframe tbody tr th {\n",
       "        vertical-align: top;\n",
       "    }\n",
       "\n",
       "    .dataframe thead th {\n",
       "        text-align: right;\n",
       "    }\n",
       "</style>\n",
       "<table border=\"1\" class=\"dataframe\">\n",
       "  <thead>\n",
       "    <tr style=\"text-align: right;\">\n",
       "      <th></th>\n",
       "      <th>p_values</th>\n",
       "      <th>Statistically significant?</th>\n",
       "    </tr>\n",
       "    <tr>\n",
       "      <th>Features</th>\n",
       "      <th></th>\n",
       "      <th></th>\n",
       "    </tr>\n",
       "  </thead>\n",
       "  <tbody>\n",
       "    <tr>\n",
       "      <th>crystalls_balance_before_buy</th>\n",
       "      <td>0.000</td>\n",
       "      <td>Yes</td>\n",
       "    </tr>\n",
       "    <tr>\n",
       "      <th>crystalls_bought</th>\n",
       "      <td>0.000</td>\n",
       "      <td>Yes</td>\n",
       "    </tr>\n",
       "    <tr>\n",
       "      <th>payment_type_regular</th>\n",
       "      <td>0.000</td>\n",
       "      <td>Yes</td>\n",
       "    </tr>\n",
       "    <tr>\n",
       "      <th>payment_method_fb_promotion</th>\n",
       "      <td>0.000</td>\n",
       "      <td>Yes</td>\n",
       "    </tr>\n",
       "    <tr>\n",
       "      <th>payment_method_giftcard</th>\n",
       "      <td>0.000</td>\n",
       "      <td>Yes</td>\n",
       "    </tr>\n",
       "    <tr>\n",
       "      <th>payment_method_mobile</th>\n",
       "      <td>0.000</td>\n",
       "      <td>Yes</td>\n",
       "    </tr>\n",
       "  </tbody>\n",
       "</table>\n",
       "</div>"
      ],
      "text/plain": [
       "                             p_values Statistically significant?\n",
       "Features                                                        \n",
       "crystalls_balance_before_buy    0.000                        Yes\n",
       "crystalls_bought                0.000                        Yes\n",
       "payment_type_regular            0.000                        Yes\n",
       "payment_method_fb_promotion     0.000                        Yes\n",
       "payment_method_giftcard         0.000                        Yes\n",
       "payment_method_mobile           0.000                        Yes"
      ]
     },
     "execution_count": 17,
     "metadata": {},
     "output_type": "execute_result"
    }
   ],
   "source": [
    "pvals"
   ]
  },
  {
   "cell_type": "markdown",
   "metadata": {},
   "source": [
    "All variables are statistically significant, which means that all of them contribute in dependent variable _payment_"
   ]
  },
  {
   "cell_type": "code",
   "execution_count": 18,
   "metadata": {
    "scrolled": false
   },
   "outputs": [
    {
     "data": {
      "image/png": "[encoded data removed]",
      "text/plain": [
       "<Figure size 576x360 with 1 Axes>"
      ]
     },
     "metadata": {
      "needs_background": "light"
     },
     "output_type": "display_data"
    },
    {
     "data": {
      "image/png": "[encoded data removed]",
      "text/plain": [
       "<Figure size 576x360 with 1 Axes>"
      ]
     },
     "metadata": {
      "needs_background": "light"
     },
     "output_type": "display_data"
    }
   ],
   "source": [
    "for c in df.columns[1:3]:\n",
    "    plt.figure(figsize=(8,5))\n",
    "    plt.title(\"{} vs. \\nPayment\".format(c),fontsize=16)\n",
    "    plt.scatter(x=df[c],y=df.payment,color='blue',edgecolor='k')\n",
    "    plt.grid(True)\n",
    "    plt.xlabel(c,fontsize=14)\n",
    "    plt.ylabel('Payment',fontsize=14)\n",
    "    plt.show()"
   ]
  },
  {
   "attachments": {},
   "cell_type": "markdown",
   "metadata": {},
   "source": [
    "**Features relationship:**\n",
    "\n",
    "1. Increase of current balance by 1 crystall decreases the future payment by 0.6\n",
    "2. Every bought crystall increases the payment by 16.2\n",
    "3. The payment via regular type is significantly higher than the payment via offers. The average difference is 395.6\n",
    "4. The general payment method is significantly higher than all other payment methods.\n",
    "\n",
    "---\n",
    "\n",
    "### Model diagnostics"
   ]
  },
  {
   "attachments": {},
   "cell_type": "markdown",
   "metadata": {},
   "source": [
    "To test whether the residuals are normally distributed we define following hypothesis and apply Kolmogorov-Smirnov test:\n",
    "\n",
    "- H0: the distribution of residuals **is not** significantly different form the normal distribution\n",
    "- H1: the distribution of residuals **is** significantly different form the normal distribution"
   ]
  },
  {
   "cell_type": "code",
   "execution_count": 19,
   "metadata": {},
   "outputs": [
    {
     "name": "stdout",
     "output_type": "stream",
     "text": [
      "P-value:  0.0\n",
      "Reject H0\n"
     ]
    }
   ],
   "source": [
    "p = kstest(fitted.resid, 'norm').pvalue\n",
    "print('P-value: ', p)\n",
    "if p <= 0.05:\n",
    "    print('Reject H0')\n",
    "else:\n",
    "    print('Accept H0')"
   ]
  },
  {
   "cell_type": "markdown",
   "metadata": {},
   "source": [
    "We can also use _Jarque–Bera test_ to test of whether sample data have the _skewness_ $(S)$ and _kurtosis_ $(K)$ matching a normal distribution \n",
    "\n",
    "H0: $(S=0, K=3)$"
   ]
  },
  {
   "cell_type": "code",
   "execution_count": 20,
   "metadata": {},
   "outputs": [
    {
     "name": "stdout",
     "output_type": "stream",
     "text": [
      "('Jarque-Bera', 22721624.066504825)\n",
      "('Chi^2 two-tail prob.', 0.0)\n",
      "('Skew', -4.0391901406015425)\n",
      "('Kurtosis', 74.43736484609465)\n",
      "Reject H0\n"
     ]
    }
   ],
   "source": [
    "name = ['Jarque-Bera', 'Chi^2 two-tail prob.', 'Skew', 'Kurtosis']\n",
    "test = sms.jarque_bera(fitted.resid)\n",
    "for z in zip(name, test):\n",
    "    print(z)\n",
    "    \n",
    "if test[2] == 0.0 and test[3] == 3:\n",
    "    print('Accept H0')\n",
    "else:\n",
    "    print('Reject H0')"
   ]
  },
  {
   "cell_type": "markdown",
   "metadata": {},
   "source": [
    "_The distribution of residuals is different from normal distribution._"
   ]
  },
  {
   "cell_type": "markdown",
   "metadata": {},
   "source": [
    "#### Check if we have outliers:"
   ]
  },
  {
   "cell_type": "code",
   "execution_count": 21,
   "metadata": {},
   "outputs": [],
   "source": [
    "infl = influence(fitted)"
   ]
  },
  {
   "cell_type": "code",
   "execution_count": 22,
   "metadata": {},
   "outputs": [
    {
     "data": {
      "image/png": "[encoded data removed]",
      "text/plain": [
       "<Figure size 576x360 with 1 Axes>"
      ]
     },
     "metadata": {
      "needs_background": "light"
     },
     "output_type": "display_data"
    }
   ],
   "source": [
    "plt.figure(figsize=(8,5))\n",
    "leverage = infl.hat_matrix_diag\n",
    "resid = zscore(infl.resid)\n",
    "plt.plot(resid**2, leverage, 'o')\n",
    "plt.xlabel(\"Normalized residuals**2\")\n",
    "plt.ylabel(\"Leverage\")\n",
    "plt.title(\"Leverage vs. Normalized residuals squared\")\n",
    "plt.show()"
   ]
  },
  {
   "cell_type": "code",
   "execution_count": 23,
   "metadata": {},
   "outputs": [
    {
     "data": {
      "text/plain": [
       "1778"
      ]
     },
     "execution_count": 23,
     "metadata": {},
     "output_type": "execute_result"
    }
   ],
   "source": [
    "(abs(fitted.resid_pearson) > 3.0).sum()"
   ]
  },
  {
   "cell_type": "code",
   "execution_count": 24,
   "metadata": {},
   "outputs": [
    {
     "data": {
      "image/png": "[encoded data removed]",
      "text/plain": [
       "<Figure size 576x360 with 1 Axes>"
      ]
     },
     "metadata": {
      "needs_background": "light"
     },
     "output_type": "display_data"
    }
   ],
   "source": [
    "c, p = infl.cooks_distance\n",
    "plt.figure(figsize=(8,5))\n",
    "plt.title(\"Cook's distance plot for the residuals\", fontsize=16)\n",
    "plt.stem(np.arange(len(c)), c, markerfmt=\",\", use_line_collection=True)\n",
    "plt.grid(True)\n",
    "plt.show()"
   ]
  },
  {
   "cell_type": "markdown",
   "metadata": {},
   "source": [
    "_There are data points with residuals being possible outliers_"
   ]
  },
  {
   "cell_type": "markdown",
   "metadata": {},
   "source": [
    "#### Multicollinearity & Heteroscedasticity tests"
   ]
  },
  {
   "cell_type": "code",
   "execution_count": 25,
   "metadata": {},
   "outputs": [
    {
     "data": {
      "image/png": "[encoded data removed]",
      "text/plain": [
       "<Figure size 576x360 with 1 Axes>"
      ]
     },
     "metadata": {
      "needs_background": "light"
     },
     "output_type": "display_data"
    }
   ],
   "source": [
    "plt.figure(figsize=(8,5))\n",
    "p = plt.scatter(x=fitted.fittedvalues,y=fitted.resid,edgecolor='k')\n",
    "xmin = min(fitted.fittedvalues)\n",
    "xmax = max(fitted.fittedvalues)\n",
    "plt.hlines(y=0, xmin=xmin * 0.9, xmax=xmax*1.1, color='red', linestyle='--', lw=3)\n",
    "plt.xlabel(\"Fitted values\", fontsize=15)\n",
    "plt.ylabel(\"Residuals\", fontsize=15)\n",
    "plt.title(\"Fitted vs. residuals plot\", fontsize=18)\n",
    "plt.grid(True)\n",
    "plt.show()"
   ]
  },
  {
   "cell_type": "code",
   "execution_count": 26,
   "metadata": {},
   "outputs": [
    {
     "name": "stdout",
     "output_type": "stream",
     "text": [
      "('Lagrange multiplier statistic', 21976.24738559481)\n",
      "('p-value', 0.0)\n",
      "('f-value', 4626.028990550121)\n",
      "('f p-value', 0.0)\n"
     ]
    }
   ],
   "source": [
    "name = ['Lagrange multiplier statistic', 'p-value',\n",
    "        'f-value', 'f p-value']\n",
    "test = sms.het_breuschpagan(fitted.resid, fitted.model.exog)\n",
    "\n",
    "for z in zip(name, test):\n",
    "    print(z)"
   ]
  },
  {
   "cell_type": "markdown",
   "metadata": {},
   "source": [
    "We can see a heteroscedasticity from the plot above – there is a relationship between residuals and the fitted values. This is also proved by Breusch-Pagan Lagrange Multiplier test."
   ]
  },
  {
   "cell_type": "code",
   "execution_count": 27,
   "metadata": {},
   "outputs": [
    {
     "data": {
      "image/png": "[encoded data removed]",
      "text/plain": [
       "<Figure size 576x576 with 2 Axes>"
      ]
     },
     "metadata": {
      "needs_background": "light"
     },
     "output_type": "display_data"
    }
   ],
   "source": [
    "plt.figure(figsize=(8, 8))\n",
    "sns.heatmap(df.corr(), square = True, cmap='YlGnBu')\n",
    "plt.show()"
   ]
  },
  {
   "cell_type": "code",
   "execution_count": 28,
   "metadata": {},
   "outputs": [
    {
     "data": {
      "text/html": [
       "<div>\n",
       "<style scoped>\n",
       "    .dataframe tbody tr th:only-of-type {\n",
       "        vertical-align: middle;\n",
       "    }\n",
       "\n",
       "    .dataframe tbody tr th {\n",
       "        vertical-align: top;\n",
       "    }\n",
       "\n",
       "    .dataframe thead th {\n",
       "        text-align: right;\n",
       "    }\n",
       "</style>\n",
       "<table border=\"1\" class=\"dataframe\">\n",
       "  <thead>\n",
       "    <tr style=\"text-align: right;\">\n",
       "      <th></th>\n",
       "      <th>VIF</th>\n",
       "      <th>Features</th>\n",
       "    </tr>\n",
       "  </thead>\n",
       "  <tbody>\n",
       "    <tr>\n",
       "      <th>0</th>\n",
       "      <td>1.013560</td>\n",
       "      <td>crystalls_balance_before_buy</td>\n",
       "    </tr>\n",
       "    <tr>\n",
       "      <th>1</th>\n",
       "      <td>1.029407</td>\n",
       "      <td>crystalls_bought</td>\n",
       "    </tr>\n",
       "    <tr>\n",
       "      <th>2</th>\n",
       "      <td>1.016298</td>\n",
       "      <td>payment_type_regular</td>\n",
       "    </tr>\n",
       "    <tr>\n",
       "      <th>3</th>\n",
       "      <td>1.002130</td>\n",
       "      <td>payment_method_fb_promotion</td>\n",
       "    </tr>\n",
       "    <tr>\n",
       "      <th>4</th>\n",
       "      <td>1.000447</td>\n",
       "      <td>payment_method_giftcard</td>\n",
       "    </tr>\n",
       "    <tr>\n",
       "      <th>5</th>\n",
       "      <td>1.000555</td>\n",
       "      <td>payment_method_mobile</td>\n",
       "    </tr>\n",
       "  </tbody>\n",
       "</table>\n",
       "</div>"
      ],
      "text/plain": [
       "        VIF                      Features\n",
       "0  1.013560  crystalls_balance_before_buy\n",
       "1  1.029407              crystalls_bought\n",
       "2  1.016298          payment_type_regular\n",
       "3  1.002130   payment_method_fb_promotion\n",
       "4  1.000447       payment_method_giftcard\n",
       "5  1.000555         payment_method_mobile"
      ]
     },
     "execution_count": 28,
     "metadata": {},
     "output_type": "execute_result"
    }
   ],
   "source": [
    "vifs = [vif(fitted.model.exog, i) for i in range(fitted.model.exog.shape[1])]\n",
    "vif_df = pd.DataFrame()\n",
    "vif_df['VIF'] = vifs[1:]\n",
    "vif_df['Features'] = df.columns[1:]\n",
    "vif_df"
   ]
  },
  {
   "cell_type": "markdown",
   "metadata": {},
   "source": [
    "_We do not have variables with high correlation and there are no VIFs greater than 10, so we can say that there is no multicollinearity_"
   ]
  }
 ],
 "metadata": {
  "kernelspec": {
   "display_name": "Python 3",
   "language": "python",
   "name": "python3"
  },
  "language_info": {
   "codemirror_mode": {
    "name": "ipython",
    "version": 3
   },
   "file_extension": ".py",
   "mimetype": "text/x-python",
   "name": "python",
   "nbconvert_exporter": "python",
   "pygments_lexer": "ipython3",
   "version": "3.7.6"
  }
 },
 "nbformat": 4,
 "nbformat_minor": 4
}
