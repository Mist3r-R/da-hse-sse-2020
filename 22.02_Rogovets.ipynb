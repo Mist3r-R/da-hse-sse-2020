{
 "cells": [
  {
   "attachments": {},
   "cell_type": "markdown",
   "metadata": {},
   "source": [
    "# 22.02.20\n",
    "\n",
    "**Author:** Miron Rogovets\n",
    "\n",
    "---\n",
    "\n",
    "### Task 1.\n",
    "\n",
    "<img src=\"data/task-22.02.jpg\" alt=\"task\" width=\"750\"/>\n",
    "\n",
    "Conduct a factor analysis to see the factor structure if the data, in particular:\n",
    "\n",
    "1. Interpret the results of KMO and Bartlett’s test.\n",
    "2. Interpret communalities (cut point 0,3).\n",
    "3. Give your comments on the cumulative variance explained by the factor model.\n",
    "4. Interpret the rotated component matrix.\n",
    "5. Give the names and interpretations for the factors.\n",
    "6. Save the factors and recode them into ordinal variables with the same scale of measurement as the initial variables."
   ]
  },
  {
   "cell_type": "code",
   "execution_count": null,
   "metadata": {},
   "outputs": [],
   "source": []
  }
 ],
 "metadata": {
  "kernelspec": {
   "display_name": "Python 3",
   "language": "python",
   "name": "python3"
  },
  "language_info": {
   "codemirror_mode": {
    "name": "ipython",
    "version": 3
   },
   "file_extension": ".py",
   "mimetype": "text/x-python",
   "name": "python",
   "nbconvert_exporter": "python",
   "pygments_lexer": "ipython3",
   "version": "3.7.6"
  }
 },
 "nbformat": 4,
 "nbformat_minor": 4
}
