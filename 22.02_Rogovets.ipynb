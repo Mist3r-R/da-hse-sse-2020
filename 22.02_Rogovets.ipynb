{
 "cells": [
  {
   "cell_type": "markdown",
   "metadata": {},
   "source": [
    "# 22.02.20\n",
    "\n",
    "**Author:** Miron Rogovets\n",
    "\n",
    "---\n",
    "\n",
    "### Task 1.\n",
    "\n",
    "<img src=\"data/task-22.02.jpg\" alt=\"task\" width=\"750\"/>\n",
    "\n",
    "Conduct a factor analysis to see the factor structure if the data, in particular:\n",
    "\n",
    "1. Interpret the results of KMO and Bartlett’s test.\n",
    "2. Interpret communalities (cut point 0,3).\n",
    "3. Give your comments on the cumulative variance explained by the factor model.\n",
    "4. Interpret the rotated component matrix.\n",
    "5. Give the names and interpretations for the factors.\n",
    "6. Save the factors and recode them into ordinal variables with the same scale of measurement as the initial variables."
   ]
  },
  {
   "cell_type": "code",
   "execution_count": 136,
   "metadata": {},
   "outputs": [],
   "source": [
    "import pandas as pd\n",
    "import numpy as np\n",
    "import matplotlib.pyplot as plt\n",
    "import seaborn as sns\n",
    "import pyreadstat\n",
    "from factor_analyzer import FactorAnalyzer\n",
    "from factor_analyzer.factor_analyzer import calculate_bartlett_sphericity\n",
    "from factor_analyzer.factor_analyzer import calculate_kmo"
   ]
  },
  {
   "cell_type": "code",
   "execution_count": 137,
   "metadata": {},
   "outputs": [
    {
     "data": {
      "text/html": [
       "<div>\n",
       "<style scoped>\n",
       "    .dataframe tbody tr th:only-of-type {\n",
       "        vertical-align: middle;\n",
       "    }\n",
       "\n",
       "    .dataframe tbody tr th {\n",
       "        vertical-align: top;\n",
       "    }\n",
       "\n",
       "    .dataframe thead th {\n",
       "        text-align: right;\n",
       "    }\n",
       "</style>\n",
       "<table border=\"1\" class=\"dataframe\">\n",
       "  <thead>\n",
       "    <tr style=\"text-align: right;\">\n",
       "      <th></th>\n",
       "      <th>q1</th>\n",
       "      <th>q2</th>\n",
       "      <th>q3</th>\n",
       "      <th>q4</th>\n",
       "      <th>q5</th>\n",
       "      <th>q6</th>\n",
       "      <th>q7</th>\n",
       "      <th>q8</th>\n",
       "      <th>q9</th>\n",
       "      <th>q10</th>\n",
       "      <th>...</th>\n",
       "      <th>q19</th>\n",
       "      <th>q20</th>\n",
       "      <th>q21</th>\n",
       "      <th>q22</th>\n",
       "      <th>q23</th>\n",
       "      <th>q24</th>\n",
       "      <th>q25</th>\n",
       "      <th>q26</th>\n",
       "      <th>q27</th>\n",
       "      <th>q28</th>\n",
       "    </tr>\n",
       "  </thead>\n",
       "  <tbody>\n",
       "    <tr>\n",
       "      <th>0</th>\n",
       "      <td>5</td>\n",
       "      <td>4</td>\n",
       "      <td>5</td>\n",
       "      <td>6</td>\n",
       "      <td>3</td>\n",
       "      <td>5</td>\n",
       "      <td>6</td>\n",
       "      <td>5</td>\n",
       "      <td>6</td>\n",
       "      <td>3</td>\n",
       "      <td>...</td>\n",
       "      <td>3</td>\n",
       "      <td>5</td>\n",
       "      <td>6</td>\n",
       "      <td>5</td>\n",
       "      <td>4</td>\n",
       "      <td>Strongly Agree</td>\n",
       "      <td>5</td>\n",
       "      <td>5</td>\n",
       "      <td>4</td>\n",
       "      <td>5</td>\n",
       "    </tr>\n",
       "    <tr>\n",
       "      <th>1</th>\n",
       "      <td>5</td>\n",
       "      <td>6</td>\n",
       "      <td>5</td>\n",
       "      <td>6</td>\n",
       "      <td>4</td>\n",
       "      <td>5</td>\n",
       "      <td>5</td>\n",
       "      <td>5</td>\n",
       "      <td>5</td>\n",
       "      <td>3</td>\n",
       "      <td>...</td>\n",
       "      <td>3</td>\n",
       "      <td>4</td>\n",
       "      <td>6</td>\n",
       "      <td>5</td>\n",
       "      <td>4</td>\n",
       "      <td>6</td>\n",
       "      <td>5</td>\n",
       "      <td>5</td>\n",
       "      <td>4</td>\n",
       "      <td>5</td>\n",
       "    </tr>\n",
       "    <tr>\n",
       "      <th>2</th>\n",
       "      <td>4</td>\n",
       "      <td>6</td>\n",
       "      <td>2</td>\n",
       "      <td>2</td>\n",
       "      <td>2</td>\n",
       "      <td>4</td>\n",
       "      <td>2</td>\n",
       "      <td>2</td>\n",
       "      <td>2</td>\n",
       "      <td>Strongly Disagree</td>\n",
       "      <td>...</td>\n",
       "      <td>2</td>\n",
       "      <td>2</td>\n",
       "      <td>Strongly Disagree</td>\n",
       "      <td>2</td>\n",
       "      <td>2</td>\n",
       "      <td>Strongly Disagree</td>\n",
       "      <td>3</td>\n",
       "      <td>3</td>\n",
       "      <td>2</td>\n",
       "      <td>2</td>\n",
       "    </tr>\n",
       "    <tr>\n",
       "      <th>3</th>\n",
       "      <td>4</td>\n",
       "      <td>5</td>\n",
       "      <td>5</td>\n",
       "      <td>5</td>\n",
       "      <td>2</td>\n",
       "      <td>5</td>\n",
       "      <td>6</td>\n",
       "      <td>2</td>\n",
       "      <td>4</td>\n",
       "      <td>5</td>\n",
       "      <td>...</td>\n",
       "      <td>3</td>\n",
       "      <td>4</td>\n",
       "      <td>4</td>\n",
       "      <td>4</td>\n",
       "      <td>3</td>\n",
       "      <td>3</td>\n",
       "      <td>3</td>\n",
       "      <td>4</td>\n",
       "      <td>3</td>\n",
       "      <td>3</td>\n",
       "    </tr>\n",
       "    <tr>\n",
       "      <th>4</th>\n",
       "      <td>4</td>\n",
       "      <td>4</td>\n",
       "      <td>3</td>\n",
       "      <td>5</td>\n",
       "      <td>Strongly Disagree</td>\n",
       "      <td>4</td>\n",
       "      <td>5</td>\n",
       "      <td>4</td>\n",
       "      <td>6</td>\n",
       "      <td>4</td>\n",
       "      <td>...</td>\n",
       "      <td>4</td>\n",
       "      <td>4</td>\n",
       "      <td>3</td>\n",
       "      <td>6</td>\n",
       "      <td>2</td>\n",
       "      <td>2</td>\n",
       "      <td>4</td>\n",
       "      <td>3</td>\n",
       "      <td>4</td>\n",
       "      <td>Strongly Disagree</td>\n",
       "    </tr>\n",
       "  </tbody>\n",
       "</table>\n",
       "<p>5 rows × 28 columns</p>\n",
       "</div>"
      ],
      "text/plain": [
       "  q1 q2 q3 q4                 q5 q6 q7 q8 q9                q10  ... q19 q20  \\\n",
       "0  5  4  5  6                  3  5  6  5  6                  3  ...   3   5   \n",
       "1  5  6  5  6                  4  5  5  5  5                  3  ...   3   4   \n",
       "2  4  6  2  2                  2  4  2  2  2  Strongly Disagree  ...   2   2   \n",
       "3  4  5  5  5                  2  5  6  2  4                  5  ...   3   4   \n",
       "4  4  4  3  5  Strongly Disagree  4  5  4  6                  4  ...   4   4   \n",
       "\n",
       "                 q21 q22 q23                q24 q25 q26 q27                q28  \n",
       "0                  6   5   4     Strongly Agree   5   5   4                  5  \n",
       "1                  6   5   4                  6   5   5   4                  5  \n",
       "2  Strongly Disagree   2   2  Strongly Disagree   3   3   2                  2  \n",
       "3                  4   4   3                  3   3   4   3                  3  \n",
       "4                  3   6   2                  2   4   3   4  Strongly Disagree  \n",
       "\n",
       "[5 rows x 28 columns]"
      ]
     },
     "execution_count": 137,
     "metadata": {},
     "output_type": "execute_result"
    }
   ],
   "source": [
    "_, meta = pyreadstat.read_dta('data/TOSSE-R.dta')\n",
    "df = pd.read_stata('data/TOSSE-R.dta')\n",
    "df.head()"
   ]
  },
  {
   "cell_type": "code",
   "execution_count": 138,
   "metadata": {},
   "outputs": [
    {
     "data": {
      "text/plain": [
       "{'q1': \"I once woke up in the middle of a vegetable patch hugging a turnip that I'd mist\",\n",
       " 'q2': \"If I had a big gun I'd shoot all the students I have to teach\",\n",
       " 'q3': 'I memorize probability values for the F-distribution',\n",
       " 'q4': 'I worship at the shrine of Pearson',\n",
       " 'q5': 'I still live with my mother and have little personal hygiene',\n",
       " 'q6': 'Teaching others makes me want to swallow a large bottle of bleach because the pa',\n",
       " 'q7': 'Helping others to understand Sums of Squares is a great feeling',\n",
       " 'q8': 'I like control conditions',\n",
       " 'q9': 'I calculate 3 ANOVAs in my head before getting out of bed every morning',\n",
       " 'q10': 'I could spend all day explaining statistics to people',\n",
       " 'q11': \"I like it when people tell me I've helped them to understand factor rotation\",\n",
       " 'q12': 'People fall asleep as soon as I open my mouth to speak',\n",
       " 'q13': 'Designing experiments is fun',\n",
       " 'q14': \"I'd rather think about appropriate dependent variables than go to the pub\",\n",
       " 'q15': 'I soil my pants with excitement at the mere mention of Factor Analysis',\n",
       " 'q16': 'Thinking about whether to use repeated or independent measures thrills me',\n",
       " 'q17': 'I enjoy sitting in the park contemplating whether to use participant observation',\n",
       " 'q18': 'Standing in front of 300 people in no way makes me lose control of my bowels',\n",
       " 'q19': 'I like to help students',\n",
       " 'q20': 'Passing on knowledge is the greatest gift you can bestow an individual',\n",
       " 'q21': 'Thinking about Bonferroni corrections gives me a tingly feeling in my groin',\n",
       " 'q22': 'I quiver with excitement when thinking about designing my next experiment',\n",
       " 'q23': 'I often spend my spare time talking to the pigeons ... and even they die of bore',\n",
       " 'q24': 'I tried to build myself a time machine so that I could go back to the 1930s and',\n",
       " 'q25': 'I love teaching',\n",
       " 'q26': 'I spend lots of time helping students',\n",
       " 'q27': \"I love teaching because students have to pretend to like me or they'll get bad m\",\n",
       " 'q28': 'My cat is my only friend'}"
      ]
     },
     "execution_count": 138,
     "metadata": {},
     "output_type": "execute_result"
    }
   ],
   "source": [
    "meta.column_names_to_labels"
   ]
  },
  {
   "cell_type": "code",
   "execution_count": 139,
   "metadata": {},
   "outputs": [
    {
     "name": "stdout",
     "output_type": "stream",
     "text": [
      "(239, 28)\n"
     ]
    },
    {
     "data": {
      "text/plain": [
       "q1     category\n",
       "q2     category\n",
       "q3     category\n",
       "q4     category\n",
       "q5     category\n",
       "q6     category\n",
       "q7     category\n",
       "q8     category\n",
       "q9     category\n",
       "q10    category\n",
       "q11    category\n",
       "q12    category\n",
       "q13    category\n",
       "q14    category\n",
       "q15    category\n",
       "q16    category\n",
       "q17    category\n",
       "q18    category\n",
       "q19    category\n",
       "q20    category\n",
       "q21    category\n",
       "q22    category\n",
       "q23    category\n",
       "q24    category\n",
       "q25    category\n",
       "q26    category\n",
       "q27    category\n",
       "q28    category\n",
       "dtype: object"
      ]
     },
     "execution_count": 139,
     "metadata": {},
     "output_type": "execute_result"
    }
   ],
   "source": [
    "print(df.shape)\n",
    "df.dtypes"
   ]
  },
  {
   "cell_type": "code",
   "execution_count": 140,
   "metadata": {},
   "outputs": [
    {
     "name": "stdout",
     "output_type": "stream",
     "text": [
      "[5, 4, 3, 6, Strongly Agree, Strongly Disagree, 2]\n",
      "Categories (7, object): [Strongly Disagree < 2 < 3 < 4 < 5 < 6 < Strongly Agree]\n"
     ]
    },
    {
     "data": {
      "text/plain": [
       "array([4, 3, 2, 5, 6, 0, 1])"
      ]
     },
     "execution_count": 140,
     "metadata": {},
     "output_type": "execute_result"
    }
   ],
   "source": [
    "print(df.q1.unique())\n",
    "df.q1.cat.codes.unique()"
   ]
  },
  {
   "cell_type": "code",
   "execution_count": 141,
   "metadata": {},
   "outputs": [
    {
     "data": {
      "text/plain": [
       "q1     0\n",
       "q2     1\n",
       "q3     1\n",
       "q4     0\n",
       "q5     0\n",
       "q6     0\n",
       "q7     0\n",
       "q8     0\n",
       "q9     0\n",
       "q10    0\n",
       "q11    1\n",
       "q12    2\n",
       "q13    0\n",
       "q14    0\n",
       "q15    1\n",
       "q16    0\n",
       "q17    0\n",
       "q18    1\n",
       "q19    1\n",
       "q20    0\n",
       "q21    1\n",
       "q22    0\n",
       "q23    0\n",
       "q24    0\n",
       "q25    0\n",
       "q26    0\n",
       "q27    0\n",
       "q28    0\n",
       "dtype: int64"
      ]
     },
     "execution_count": 141,
     "metadata": {},
     "output_type": "execute_result"
    }
   ],
   "source": [
    "df.isna().sum()"
   ]
  },
  {
   "cell_type": "markdown",
   "metadata": {},
   "source": [
    "The number of missing values is pretty small, so we just drop them."
   ]
  },
  {
   "cell_type": "code",
   "execution_count": 142,
   "metadata": {},
   "outputs": [
    {
     "data": {
      "text/plain": [
       "(231, 28)"
      ]
     },
     "execution_count": 142,
     "metadata": {},
     "output_type": "execute_result"
    }
   ],
   "source": [
    "df.dropna(inplace=True)\n",
    "df.shape"
   ]
  },
  {
   "cell_type": "markdown",
   "metadata": {},
   "source": [
    "Categorical data should be converted to numeric:"
   ]
  },
  {
   "cell_type": "code",
   "execution_count": 143,
   "metadata": {},
   "outputs": [
    {
     "data": {
      "text/html": [
       "<div>\n",
       "<style scoped>\n",
       "    .dataframe tbody tr th:only-of-type {\n",
       "        vertical-align: middle;\n",
       "    }\n",
       "\n",
       "    .dataframe tbody tr th {\n",
       "        vertical-align: top;\n",
       "    }\n",
       "\n",
       "    .dataframe thead th {\n",
       "        text-align: right;\n",
       "    }\n",
       "</style>\n",
       "<table border=\"1\" class=\"dataframe\">\n",
       "  <thead>\n",
       "    <tr style=\"text-align: right;\">\n",
       "      <th></th>\n",
       "      <th>q1</th>\n",
       "      <th>q2</th>\n",
       "      <th>q3</th>\n",
       "      <th>q4</th>\n",
       "      <th>q5</th>\n",
       "      <th>q6</th>\n",
       "      <th>q7</th>\n",
       "      <th>q8</th>\n",
       "      <th>q9</th>\n",
       "      <th>q10</th>\n",
       "      <th>...</th>\n",
       "      <th>q19</th>\n",
       "      <th>q20</th>\n",
       "      <th>q21</th>\n",
       "      <th>q22</th>\n",
       "      <th>q23</th>\n",
       "      <th>q24</th>\n",
       "      <th>q25</th>\n",
       "      <th>q26</th>\n",
       "      <th>q27</th>\n",
       "      <th>q28</th>\n",
       "    </tr>\n",
       "  </thead>\n",
       "  <tbody>\n",
       "    <tr>\n",
       "      <th>0</th>\n",
       "      <td>5</td>\n",
       "      <td>4</td>\n",
       "      <td>5</td>\n",
       "      <td>6</td>\n",
       "      <td>3</td>\n",
       "      <td>5</td>\n",
       "      <td>6</td>\n",
       "      <td>5</td>\n",
       "      <td>6</td>\n",
       "      <td>3</td>\n",
       "      <td>...</td>\n",
       "      <td>3</td>\n",
       "      <td>5</td>\n",
       "      <td>6</td>\n",
       "      <td>5</td>\n",
       "      <td>4</td>\n",
       "      <td>7</td>\n",
       "      <td>5</td>\n",
       "      <td>5</td>\n",
       "      <td>4</td>\n",
       "      <td>5</td>\n",
       "    </tr>\n",
       "    <tr>\n",
       "      <th>1</th>\n",
       "      <td>5</td>\n",
       "      <td>6</td>\n",
       "      <td>5</td>\n",
       "      <td>6</td>\n",
       "      <td>4</td>\n",
       "      <td>5</td>\n",
       "      <td>5</td>\n",
       "      <td>5</td>\n",
       "      <td>5</td>\n",
       "      <td>3</td>\n",
       "      <td>...</td>\n",
       "      <td>3</td>\n",
       "      <td>4</td>\n",
       "      <td>6</td>\n",
       "      <td>5</td>\n",
       "      <td>4</td>\n",
       "      <td>6</td>\n",
       "      <td>5</td>\n",
       "      <td>5</td>\n",
       "      <td>4</td>\n",
       "      <td>5</td>\n",
       "    </tr>\n",
       "    <tr>\n",
       "      <th>2</th>\n",
       "      <td>4</td>\n",
       "      <td>6</td>\n",
       "      <td>2</td>\n",
       "      <td>2</td>\n",
       "      <td>2</td>\n",
       "      <td>4</td>\n",
       "      <td>2</td>\n",
       "      <td>2</td>\n",
       "      <td>2</td>\n",
       "      <td>1</td>\n",
       "      <td>...</td>\n",
       "      <td>2</td>\n",
       "      <td>2</td>\n",
       "      <td>1</td>\n",
       "      <td>2</td>\n",
       "      <td>2</td>\n",
       "      <td>1</td>\n",
       "      <td>3</td>\n",
       "      <td>3</td>\n",
       "      <td>2</td>\n",
       "      <td>2</td>\n",
       "    </tr>\n",
       "    <tr>\n",
       "      <th>3</th>\n",
       "      <td>4</td>\n",
       "      <td>5</td>\n",
       "      <td>5</td>\n",
       "      <td>5</td>\n",
       "      <td>2</td>\n",
       "      <td>5</td>\n",
       "      <td>6</td>\n",
       "      <td>2</td>\n",
       "      <td>4</td>\n",
       "      <td>5</td>\n",
       "      <td>...</td>\n",
       "      <td>3</td>\n",
       "      <td>4</td>\n",
       "      <td>4</td>\n",
       "      <td>4</td>\n",
       "      <td>3</td>\n",
       "      <td>3</td>\n",
       "      <td>3</td>\n",
       "      <td>4</td>\n",
       "      <td>3</td>\n",
       "      <td>3</td>\n",
       "    </tr>\n",
       "    <tr>\n",
       "      <th>4</th>\n",
       "      <td>4</td>\n",
       "      <td>4</td>\n",
       "      <td>3</td>\n",
       "      <td>5</td>\n",
       "      <td>1</td>\n",
       "      <td>4</td>\n",
       "      <td>5</td>\n",
       "      <td>4</td>\n",
       "      <td>6</td>\n",
       "      <td>4</td>\n",
       "      <td>...</td>\n",
       "      <td>4</td>\n",
       "      <td>4</td>\n",
       "      <td>3</td>\n",
       "      <td>6</td>\n",
       "      <td>2</td>\n",
       "      <td>2</td>\n",
       "      <td>4</td>\n",
       "      <td>3</td>\n",
       "      <td>4</td>\n",
       "      <td>1</td>\n",
       "    </tr>\n",
       "  </tbody>\n",
       "</table>\n",
       "<p>5 rows × 28 columns</p>\n",
       "</div>"
      ],
      "text/plain": [
       "   q1  q2  q3  q4  q5  q6  q7  q8  q9  q10  ...  q19  q20  q21  q22  q23  q24  \\\n",
       "0   5   4   5   6   3   5   6   5   6    3  ...    3    5    6    5    4    7   \n",
       "1   5   6   5   6   4   5   5   5   5    3  ...    3    4    6    5    4    6   \n",
       "2   4   6   2   2   2   4   2   2   2    1  ...    2    2    1    2    2    1   \n",
       "3   4   5   5   5   2   5   6   2   4    5  ...    3    4    4    4    3    3   \n",
       "4   4   4   3   5   1   4   5   4   6    4  ...    4    4    3    6    2    2   \n",
       "\n",
       "   q25  q26  q27  q28  \n",
       "0    5    5    4    5  \n",
       "1    5    5    4    5  \n",
       "2    3    3    2    2  \n",
       "3    3    4    3    3  \n",
       "4    4    3    4    1  \n",
       "\n",
       "[5 rows x 28 columns]"
      ]
     },
     "execution_count": 143,
     "metadata": {},
     "output_type": "execute_result"
    }
   ],
   "source": [
    "data = df.apply(lambda col: col.cat.codes + 1)\n",
    "data.head()"
   ]
  },
  {
   "cell_type": "code",
   "execution_count": 144,
   "metadata": {},
   "outputs": [
    {
     "name": "stdout",
     "output_type": "stream",
     "text": [
      "[dtype('int8')]\n"
     ]
    },
    {
     "data": {
      "text/plain": [
       "array([5, 4, 3, 6, 7, 1, 2])"
      ]
     },
     "execution_count": 144,
     "metadata": {},
     "output_type": "execute_result"
    }
   ],
   "source": [
    "print(data.dtypes.unique())\n",
    "data.q1.unique()"
   ]
  },
  {
   "cell_type": "code",
   "execution_count": 145,
   "metadata": {},
   "outputs": [
    {
     "data": {
      "image/png": "[encoded data removed]",
      "text/plain": [
       "<Figure size 720x720 with 2 Axes>"
      ]
     },
     "metadata": {
      "needs_background": "light"
     },
     "output_type": "display_data"
    }
   ],
   "source": [
    "cor = data.corr()\n",
    "plt.figure(figsize=(10, 10))\n",
    "sns.heatmap(cor, square = True, cmap='YlGnBu')\n",
    "plt.show()"
   ]
  },
  {
   "cell_type": "code",
   "execution_count": 146,
   "metadata": {},
   "outputs": [],
   "source": [
    "stat, p = calculate_bartlett_sphericity(data)\n",
    "kmo_all, kmo_model = calculate_kmo(data)"
   ]
  },
  {
   "cell_type": "code",
   "execution_count": 147,
   "metadata": {},
   "outputs": [
    {
     "data": {
      "text/plain": [
       "(3016.473198102612, 0.0)"
      ]
     },
     "execution_count": 147,
     "metadata": {},
     "output_type": "execute_result"
    }
   ],
   "source": [
    "stat, p"
   ]
  },
  {
   "cell_type": "markdown",
   "metadata": {},
   "source": [
    "In this Bartlett ’s test, the <code>p-value = 0</code>. The test was statistically significant, indicating that the observed correlation matrix is not an identity matrix."
   ]
  },
  {
   "cell_type": "code",
   "execution_count": 148,
   "metadata": {},
   "outputs": [
    {
     "data": {
      "text/plain": [
       "0.893229965770545"
      ]
     },
     "execution_count": 148,
     "metadata": {},
     "output_type": "execute_result"
    }
   ],
   "source": [
    "kmo_model"
   ]
  },
  {
   "cell_type": "markdown",
   "metadata": {},
   "source": [
    "The overall KMO for the data is 0.89, which indicates that we can proceed with the factor analysis."
   ]
  },
  {
   "cell_type": "markdown",
   "metadata": {},
   "source": [
    "Now we should determine the number of factors."
   ]
  },
  {
   "cell_type": "code",
   "execution_count": 149,
   "metadata": {},
   "outputs": [
    {
     "data": {
      "text/plain": [
       "FactorAnalyzer(bounds=(0.005, 1), impute='median', is_corr_matrix=False,\n",
       "               method='minres', n_factors=28, rotation=None, rotation_kwargs={},\n",
       "               use_smc=True)"
      ]
     },
     "execution_count": 149,
     "metadata": {},
     "output_type": "execute_result"
    }
   ],
   "source": [
    "fa = FactorAnalyzer(n_factors=28, rotation=None)\n",
    "fa.fit(data)"
   ]
  },
  {
   "cell_type": "code",
   "execution_count": 150,
   "metadata": {},
   "outputs": [
    {
     "data": {
      "text/plain": [
       "array([9.0644867 , 2.78723821, 1.6644181 , 1.51453898, 1.18028053,\n",
       "       0.99082073, 0.92516137, 0.81859271, 0.79297687, 0.74395445,\n",
       "       0.70502647, 0.65402799, 0.62266238, 0.57438631, 0.54452343,\n",
       "       0.51554247, 0.4870737 , 0.45379431, 0.42316997, 0.38170756,\n",
       "       0.3410759 , 0.33392099, 0.30856705, 0.29288771, 0.2598985 ,\n",
       "       0.24834928, 0.20673375, 0.16418359])"
      ]
     },
     "execution_count": 150,
     "metadata": {},
     "output_type": "execute_result"
    }
   ],
   "source": [
    "ev, v = fa.get_eigenvalues()\n",
    "ev"
   ]
  },
  {
   "cell_type": "code",
   "execution_count": 151,
   "metadata": {},
   "outputs": [
    {
     "data": {
      "text/plain": [
       "array([9.0644867 , 2.78723821, 1.6644181 , 1.51453898, 1.18028053])"
      ]
     },
     "execution_count": 151,
     "metadata": {},
     "output_type": "execute_result"
    }
   ],
   "source": [
    "ev[ev > 1]"
   ]
  },
  {
   "cell_type": "code",
   "execution_count": 152,
   "metadata": {},
   "outputs": [
    {
     "data": {
      "image/png": "[encoded data removed]",
      "text/plain": [
       "<Figure size 1080x504 with 1 Axes>"
      ]
     },
     "metadata": {
      "needs_background": "light"
     },
     "output_type": "display_data"
    }
   ],
   "source": [
    "plt.figure(figsize=(15, 7))\n",
    "plt.scatter(range(1, data.shape[1]+1), ev)\n",
    "plt.plot(range(1,data.shape[1]+1), ev)\n",
    "plt.axhline(y=1, color='r', linestyle='-')\n",
    "plt.title('Scree Plot')\n",
    "plt.xlabel('Factors')\n",
    "plt.ylabel('Eigenvalue')\n",
    "plt.grid()\n",
    "plt.show()"
   ]
  },
  {
   "cell_type": "markdown",
   "metadata": {},
   "source": [
    "We can see that only 5 eigenvalues are greater than one, so we need to choose only 5 factors. "
   ]
  },
  {
   "cell_type": "code",
   "execution_count": 153,
   "metadata": {},
   "outputs": [
    {
     "data": {
      "text/plain": [
       "FactorAnalyzer(bounds=(0.005, 1), impute='median', is_corr_matrix=False,\n",
       "               method='minres', n_factors=5, rotation='varimax',\n",
       "               rotation_kwargs={}, use_smc=True)"
      ]
     },
     "execution_count": 153,
     "metadata": {},
     "output_type": "execute_result"
    }
   ],
   "source": [
    "fa = FactorAnalyzer(n_factors=5, rotation='varimax')\n",
    "fa.fit(data)"
   ]
  },
  {
   "cell_type": "code",
   "execution_count": 154,
   "metadata": {},
   "outputs": [
    {
     "data": {
      "text/html": [
       "<div>\n",
       "<style scoped>\n",
       "    .dataframe tbody tr th:only-of-type {\n",
       "        vertical-align: middle;\n",
       "    }\n",
       "\n",
       "    .dataframe tbody tr th {\n",
       "        vertical-align: top;\n",
       "    }\n",
       "\n",
       "    .dataframe thead th {\n",
       "        text-align: right;\n",
       "    }\n",
       "</style>\n",
       "<table border=\"1\" class=\"dataframe\">\n",
       "  <thead>\n",
       "    <tr style=\"text-align: right;\">\n",
       "      <th></th>\n",
       "      <th>Factor_1</th>\n",
       "      <th>Factor_2</th>\n",
       "      <th>Factor_3</th>\n",
       "      <th>Factor_4</th>\n",
       "      <th>Factor_5</th>\n",
       "    </tr>\n",
       "  </thead>\n",
       "  <tbody>\n",
       "    <tr>\n",
       "      <th>q1</th>\n",
       "      <td>0.389146</td>\n",
       "      <td>-0.008990</td>\n",
       "      <td>0.502169</td>\n",
       "      <td>0.385627</td>\n",
       "      <td>0.220176</td>\n",
       "    </tr>\n",
       "    <tr>\n",
       "      <th>q2</th>\n",
       "      <td>0.098292</td>\n",
       "      <td>-0.035011</td>\n",
       "      <td>0.108678</td>\n",
       "      <td>0.687793</td>\n",
       "      <td>0.116026</td>\n",
       "    </tr>\n",
       "    <tr>\n",
       "      <th>q3</th>\n",
       "      <td>0.153175</td>\n",
       "      <td>0.410950</td>\n",
       "      <td>0.544143</td>\n",
       "      <td>0.082279</td>\n",
       "      <td>0.019091</td>\n",
       "    </tr>\n",
       "    <tr>\n",
       "      <th>q4</th>\n",
       "      <td>0.112477</td>\n",
       "      <td>0.333469</td>\n",
       "      <td>0.503879</td>\n",
       "      <td>0.314022</td>\n",
       "      <td>0.068096</td>\n",
       "    </tr>\n",
       "    <tr>\n",
       "      <th>q5</th>\n",
       "      <td>0.222030</td>\n",
       "      <td>0.019344</td>\n",
       "      <td>0.077863</td>\n",
       "      <td>0.208018</td>\n",
       "      <td>0.575073</td>\n",
       "    </tr>\n",
       "    <tr>\n",
       "      <th>q6</th>\n",
       "      <td>0.099384</td>\n",
       "      <td>-0.022758</td>\n",
       "      <td>0.045220</td>\n",
       "      <td>0.633871</td>\n",
       "      <td>-0.017107</td>\n",
       "    </tr>\n",
       "    <tr>\n",
       "      <th>q7</th>\n",
       "      <td>0.199254</td>\n",
       "      <td>0.528631</td>\n",
       "      <td>0.301360</td>\n",
       "      <td>0.034903</td>\n",
       "      <td>-0.002973</td>\n",
       "    </tr>\n",
       "    <tr>\n",
       "      <th>q8</th>\n",
       "      <td>0.550094</td>\n",
       "      <td>0.413537</td>\n",
       "      <td>0.334555</td>\n",
       "      <td>0.265445</td>\n",
       "      <td>0.093480</td>\n",
       "    </tr>\n",
       "    <tr>\n",
       "      <th>q9</th>\n",
       "      <td>0.410029</td>\n",
       "      <td>0.109936</td>\n",
       "      <td>0.427809</td>\n",
       "      <td>0.464115</td>\n",
       "      <td>0.169145</td>\n",
       "    </tr>\n",
       "    <tr>\n",
       "      <th>q10</th>\n",
       "      <td>0.369153</td>\n",
       "      <td>0.100492</td>\n",
       "      <td>0.102143</td>\n",
       "      <td>0.358265</td>\n",
       "      <td>0.119256</td>\n",
       "    </tr>\n",
       "    <tr>\n",
       "      <th>q11</th>\n",
       "      <td>0.345905</td>\n",
       "      <td>0.459891</td>\n",
       "      <td>0.288699</td>\n",
       "      <td>0.041576</td>\n",
       "      <td>0.292268</td>\n",
       "    </tr>\n",
       "    <tr>\n",
       "      <th>q12</th>\n",
       "      <td>0.036266</td>\n",
       "      <td>0.087819</td>\n",
       "      <td>-0.044298</td>\n",
       "      <td>-0.035138</td>\n",
       "      <td>0.307443</td>\n",
       "    </tr>\n",
       "    <tr>\n",
       "      <th>q13</th>\n",
       "      <td>0.527525</td>\n",
       "      <td>0.211430</td>\n",
       "      <td>0.348173</td>\n",
       "      <td>0.156989</td>\n",
       "      <td>0.056280</td>\n",
       "    </tr>\n",
       "    <tr>\n",
       "      <th>q14</th>\n",
       "      <td>0.702891</td>\n",
       "      <td>0.120945</td>\n",
       "      <td>-0.054504</td>\n",
       "      <td>0.157217</td>\n",
       "      <td>0.307788</td>\n",
       "    </tr>\n",
       "    <tr>\n",
       "      <th>q15</th>\n",
       "      <td>0.392422</td>\n",
       "      <td>-0.016389</td>\n",
       "      <td>0.442934</td>\n",
       "      <td>0.097946</td>\n",
       "      <td>0.187840</td>\n",
       "    </tr>\n",
       "    <tr>\n",
       "      <th>q16</th>\n",
       "      <td>0.702559</td>\n",
       "      <td>0.262578</td>\n",
       "      <td>0.091100</td>\n",
       "      <td>-0.005628</td>\n",
       "      <td>0.167630</td>\n",
       "    </tr>\n",
       "    <tr>\n",
       "      <th>q17</th>\n",
       "      <td>0.680142</td>\n",
       "      <td>0.214643</td>\n",
       "      <td>0.276755</td>\n",
       "      <td>0.300874</td>\n",
       "      <td>0.058436</td>\n",
       "    </tr>\n",
       "    <tr>\n",
       "      <th>q18</th>\n",
       "      <td>0.216977</td>\n",
       "      <td>-0.096598</td>\n",
       "      <td>0.121850</td>\n",
       "      <td>0.508087</td>\n",
       "      <td>0.274869</td>\n",
       "    </tr>\n",
       "    <tr>\n",
       "      <th>q19</th>\n",
       "      <td>-0.007380</td>\n",
       "      <td>0.583332</td>\n",
       "      <td>0.002398</td>\n",
       "      <td>-0.143941</td>\n",
       "      <td>-0.076831</td>\n",
       "    </tr>\n",
       "    <tr>\n",
       "      <th>q20</th>\n",
       "      <td>0.120024</td>\n",
       "      <td>0.540462</td>\n",
       "      <td>0.150270</td>\n",
       "      <td>0.079703</td>\n",
       "      <td>0.083908</td>\n",
       "    </tr>\n",
       "    <tr>\n",
       "      <th>q21</th>\n",
       "      <td>0.461931</td>\n",
       "      <td>0.261069</td>\n",
       "      <td>0.459661</td>\n",
       "      <td>0.067369</td>\n",
       "      <td>0.048850</td>\n",
       "    </tr>\n",
       "    <tr>\n",
       "      <th>q22</th>\n",
       "      <td>0.735502</td>\n",
       "      <td>0.133484</td>\n",
       "      <td>0.325469</td>\n",
       "      <td>0.303103</td>\n",
       "      <td>0.085086</td>\n",
       "    </tr>\n",
       "    <tr>\n",
       "      <th>q23</th>\n",
       "      <td>0.052249</td>\n",
       "      <td>0.050715</td>\n",
       "      <td>0.180594</td>\n",
       "      <td>0.294587</td>\n",
       "      <td>0.571715</td>\n",
       "    </tr>\n",
       "    <tr>\n",
       "      <th>q24</th>\n",
       "      <td>0.138784</td>\n",
       "      <td>0.299805</td>\n",
       "      <td>0.662554</td>\n",
       "      <td>0.072375</td>\n",
       "      <td>0.141193</td>\n",
       "    </tr>\n",
       "    <tr>\n",
       "      <th>q25</th>\n",
       "      <td>0.160813</td>\n",
       "      <td>0.621649</td>\n",
       "      <td>0.095698</td>\n",
       "      <td>0.037163</td>\n",
       "      <td>0.178017</td>\n",
       "    </tr>\n",
       "    <tr>\n",
       "      <th>q26</th>\n",
       "      <td>0.352186</td>\n",
       "      <td>0.549380</td>\n",
       "      <td>0.126483</td>\n",
       "      <td>-0.193154</td>\n",
       "      <td>0.216363</td>\n",
       "    </tr>\n",
       "    <tr>\n",
       "      <th>q27</th>\n",
       "      <td>0.145727</td>\n",
       "      <td>0.610015</td>\n",
       "      <td>0.151231</td>\n",
       "      <td>0.040609</td>\n",
       "      <td>0.408738</td>\n",
       "    </tr>\n",
       "    <tr>\n",
       "      <th>q28</th>\n",
       "      <td>0.134778</td>\n",
       "      <td>0.137666</td>\n",
       "      <td>0.206604</td>\n",
       "      <td>0.072574</td>\n",
       "      <td>0.556503</td>\n",
       "    </tr>\n",
       "  </tbody>\n",
       "</table>\n",
       "</div>"
      ],
      "text/plain": [
       "     Factor_1  Factor_2  Factor_3  Factor_4  Factor_5\n",
       "q1   0.389146 -0.008990  0.502169  0.385627  0.220176\n",
       "q2   0.098292 -0.035011  0.108678  0.687793  0.116026\n",
       "q3   0.153175  0.410950  0.544143  0.082279  0.019091\n",
       "q4   0.112477  0.333469  0.503879  0.314022  0.068096\n",
       "q5   0.222030  0.019344  0.077863  0.208018  0.575073\n",
       "q6   0.099384 -0.022758  0.045220  0.633871 -0.017107\n",
       "q7   0.199254  0.528631  0.301360  0.034903 -0.002973\n",
       "q8   0.550094  0.413537  0.334555  0.265445  0.093480\n",
       "q9   0.410029  0.109936  0.427809  0.464115  0.169145\n",
       "q10  0.369153  0.100492  0.102143  0.358265  0.119256\n",
       "q11  0.345905  0.459891  0.288699  0.041576  0.292268\n",
       "q12  0.036266  0.087819 -0.044298 -0.035138  0.307443\n",
       "q13  0.527525  0.211430  0.348173  0.156989  0.056280\n",
       "q14  0.702891  0.120945 -0.054504  0.157217  0.307788\n",
       "q15  0.392422 -0.016389  0.442934  0.097946  0.187840\n",
       "q16  0.702559  0.262578  0.091100 -0.005628  0.167630\n",
       "q17  0.680142  0.214643  0.276755  0.300874  0.058436\n",
       "q18  0.216977 -0.096598  0.121850  0.508087  0.274869\n",
       "q19 -0.007380  0.583332  0.002398 -0.143941 -0.076831\n",
       "q20  0.120024  0.540462  0.150270  0.079703  0.083908\n",
       "q21  0.461931  0.261069  0.459661  0.067369  0.048850\n",
       "q22  0.735502  0.133484  0.325469  0.303103  0.085086\n",
       "q23  0.052249  0.050715  0.180594  0.294587  0.571715\n",
       "q24  0.138784  0.299805  0.662554  0.072375  0.141193\n",
       "q25  0.160813  0.621649  0.095698  0.037163  0.178017\n",
       "q26  0.352186  0.549380  0.126483 -0.193154  0.216363\n",
       "q27  0.145727  0.610015  0.151231  0.040609  0.408738\n",
       "q28  0.134778  0.137666  0.206604  0.072574  0.556503"
      ]
     },
     "execution_count": 154,
     "metadata": {},
     "output_type": "execute_result"
    }
   ],
   "source": [
    "factors = pd.DataFrame(data=fa.loadings_, \n",
    "                       index=data.columns, \n",
    "                       columns=['Factor_1', 'Factor_2', 'Factor_3', 'Factor_4', 'Factor_5'])\n",
    "factors"
   ]
  },
  {
   "cell_type": "code",
   "execution_count": 155,
   "metadata": {},
   "outputs": [
    {
     "data": {
      "text/html": [
       "<div>\n",
       "<style scoped>\n",
       "    .dataframe tbody tr th:only-of-type {\n",
       "        vertical-align: middle;\n",
       "    }\n",
       "\n",
       "    .dataframe tbody tr th {\n",
       "        vertical-align: top;\n",
       "    }\n",
       "\n",
       "    .dataframe thead th {\n",
       "        text-align: right;\n",
       "    }\n",
       "</style>\n",
       "<table border=\"1\" class=\"dataframe\">\n",
       "  <thead>\n",
       "    <tr style=\"text-align: right;\">\n",
       "      <th></th>\n",
       "      <th>Communalities</th>\n",
       "    </tr>\n",
       "  </thead>\n",
       "  <tbody>\n",
       "    <tr>\n",
       "      <th>q1</th>\n",
       "      <td>0.600874</td>\n",
       "    </tr>\n",
       "    <tr>\n",
       "      <th>q2</th>\n",
       "      <td>0.509219</td>\n",
       "    </tr>\n",
       "    <tr>\n",
       "      <th>q3</th>\n",
       "      <td>0.495569</td>\n",
       "    </tr>\n",
       "    <tr>\n",
       "      <th>q4</th>\n",
       "      <td>0.480994</td>\n",
       "    </tr>\n",
       "    <tr>\n",
       "      <th>q5</th>\n",
       "      <td>0.429714</td>\n",
       "    </tr>\n",
       "    <tr>\n",
       "      <th>q6</th>\n",
       "      <td>0.414526</td>\n",
       "    </tr>\n",
       "    <tr>\n",
       "      <th>q7</th>\n",
       "      <td>0.411197</td>\n",
       "    </tr>\n",
       "    <tr>\n",
       "      <th>q8</th>\n",
       "      <td>0.664742</td>\n",
       "    </tr>\n",
       "    <tr>\n",
       "      <th>q9</th>\n",
       "      <td>0.607242</td>\n",
       "    </tr>\n",
       "    <tr>\n",
       "      <th>q10</th>\n",
       "      <td>0.299382</td>\n",
       "    </tr>\n",
       "    <tr>\n",
       "      <th>q11</th>\n",
       "      <td>0.501647</td>\n",
       "    </tr>\n",
       "    <tr>\n",
       "      <th>q12</th>\n",
       "      <td>0.106746</td>\n",
       "    </tr>\n",
       "    <tr>\n",
       "      <th>q13</th>\n",
       "      <td>0.472023</td>\n",
       "    </tr>\n",
       "    <tr>\n",
       "      <th>q14</th>\n",
       "      <td>0.631105</td>\n",
       "    </tr>\n",
       "    <tr>\n",
       "      <th>q15</th>\n",
       "      <td>0.395332</td>\n",
       "    </tr>\n",
       "    <tr>\n",
       "      <th>q16</th>\n",
       "      <td>0.598968</td>\n",
       "    </tr>\n",
       "    <tr>\n",
       "      <th>q17</th>\n",
       "      <td>0.679197</td>\n",
       "    </tr>\n",
       "    <tr>\n",
       "      <th>q18</th>\n",
       "      <td>0.404963</td>\n",
       "    </tr>\n",
       "    <tr>\n",
       "      <th>q19</th>\n",
       "      <td>0.366958</td>\n",
       "    </tr>\n",
       "    <tr>\n",
       "      <th>q20</th>\n",
       "      <td>0.342479</td>\n",
       "    </tr>\n",
       "    <tr>\n",
       "      <th>q21</th>\n",
       "      <td>0.499751</td>\n",
       "    </tr>\n",
       "    <tr>\n",
       "      <th>q22</th>\n",
       "      <td>0.763823</td>\n",
       "    </tr>\n",
       "    <tr>\n",
       "      <th>q23</th>\n",
       "      <td>0.451556</td>\n",
       "    </tr>\n",
       "    <tr>\n",
       "      <th>q24</th>\n",
       "      <td>0.573296</td>\n",
       "    </tr>\n",
       "    <tr>\n",
       "      <th>q25</th>\n",
       "      <td>0.454538</td>\n",
       "    </tr>\n",
       "    <tr>\n",
       "      <th>q26</th>\n",
       "      <td>0.525973</td>\n",
       "    </tr>\n",
       "    <tr>\n",
       "      <th>q27</th>\n",
       "      <td>0.584940</td>\n",
       "    </tr>\n",
       "    <tr>\n",
       "      <th>q28</th>\n",
       "      <td>0.394765</td>\n",
       "    </tr>\n",
       "  </tbody>\n",
       "</table>\n",
       "</div>"
      ],
      "text/plain": [
       "     Communalities\n",
       "q1        0.600874\n",
       "q2        0.509219\n",
       "q3        0.495569\n",
       "q4        0.480994\n",
       "q5        0.429714\n",
       "q6        0.414526\n",
       "q7        0.411197\n",
       "q8        0.664742\n",
       "q9        0.607242\n",
       "q10       0.299382\n",
       "q11       0.501647\n",
       "q12       0.106746\n",
       "q13       0.472023\n",
       "q14       0.631105\n",
       "q15       0.395332\n",
       "q16       0.598968\n",
       "q17       0.679197\n",
       "q18       0.404963\n",
       "q19       0.366958\n",
       "q20       0.342479\n",
       "q21       0.499751\n",
       "q22       0.763823\n",
       "q23       0.451556\n",
       "q24       0.573296\n",
       "q25       0.454538\n",
       "q26       0.525973\n",
       "q27       0.584940\n",
       "q28       0.394765"
      ]
     },
     "execution_count": 155,
     "metadata": {},
     "output_type": "execute_result"
    }
   ],
   "source": [
    "communalities = pd.DataFrame(data=fa.get_communalities(), \n",
    "                       index=data.columns, \n",
    "                       columns=['Communalities'])\n",
    "communalities"
   ]
  },
  {
   "cell_type": "code",
   "execution_count": 156,
   "metadata": {},
   "outputs": [
    {
     "data": {
      "text/html": [
       "<div>\n",
       "<style scoped>\n",
       "    .dataframe tbody tr th:only-of-type {\n",
       "        vertical-align: middle;\n",
       "    }\n",
       "\n",
       "    .dataframe tbody tr th {\n",
       "        vertical-align: top;\n",
       "    }\n",
       "\n",
       "    .dataframe thead th {\n",
       "        text-align: right;\n",
       "    }\n",
       "</style>\n",
       "<table border=\"1\" class=\"dataframe\">\n",
       "  <thead>\n",
       "    <tr style=\"text-align: right;\">\n",
       "      <th></th>\n",
       "      <th>Communalities</th>\n",
       "    </tr>\n",
       "  </thead>\n",
       "  <tbody>\n",
       "    <tr>\n",
       "      <th>q10</th>\n",
       "      <td>0.299382</td>\n",
       "    </tr>\n",
       "    <tr>\n",
       "      <th>q12</th>\n",
       "      <td>0.106746</td>\n",
       "    </tr>\n",
       "  </tbody>\n",
       "</table>\n",
       "</div>"
      ],
      "text/plain": [
       "     Communalities\n",
       "q10       0.299382\n",
       "q12       0.106746"
      ]
     },
     "execution_count": 156,
     "metadata": {},
     "output_type": "execute_result"
    }
   ],
   "source": [
    "communalities[communalities.Communalities < 0.3]"
   ]
  },
  {
   "cell_type": "markdown",
   "metadata": {},
   "source": [
    "Only two variables don't fit the model and don't share the common variance"
   ]
  },
  {
   "cell_type": "code",
   "execution_count": 157,
   "metadata": {},
   "outputs": [
    {
     "data": {
      "text/html": [
       "<div>\n",
       "<style scoped>\n",
       "    .dataframe tbody tr th:only-of-type {\n",
       "        vertical-align: middle;\n",
       "    }\n",
       "\n",
       "    .dataframe tbody tr th {\n",
       "        vertical-align: top;\n",
       "    }\n",
       "\n",
       "    .dataframe thead th {\n",
       "        text-align: right;\n",
       "    }\n",
       "</style>\n",
       "<table border=\"1\" class=\"dataframe\">\n",
       "  <thead>\n",
       "    <tr style=\"text-align: right;\">\n",
       "      <th></th>\n",
       "      <th>Factor_1</th>\n",
       "      <th>Factor_2</th>\n",
       "      <th>Factor_3</th>\n",
       "      <th>Factor_4</th>\n",
       "      <th>Factor_5</th>\n",
       "    </tr>\n",
       "  </thead>\n",
       "  <tbody>\n",
       "    <tr>\n",
       "      <th>Variance</th>\n",
       "      <td>3.933741</td>\n",
       "      <td>3.048230</td>\n",
       "      <td>2.625821</td>\n",
       "      <td>2.259382</td>\n",
       "      <td>1.794345</td>\n",
       "    </tr>\n",
       "    <tr>\n",
       "      <th>Proportional variance</th>\n",
       "      <td>0.140491</td>\n",
       "      <td>0.108865</td>\n",
       "      <td>0.093779</td>\n",
       "      <td>0.080692</td>\n",
       "      <td>0.064084</td>\n",
       "    </tr>\n",
       "    <tr>\n",
       "      <th>Cumulative variance</th>\n",
       "      <td>0.140491</td>\n",
       "      <td>0.249356</td>\n",
       "      <td>0.343135</td>\n",
       "      <td>0.423828</td>\n",
       "      <td>0.487911</td>\n",
       "    </tr>\n",
       "  </tbody>\n",
       "</table>\n",
       "</div>"
      ],
      "text/plain": [
       "                       Factor_1  Factor_2  Factor_3  Factor_4  Factor_5\n",
       "Variance               3.933741  3.048230  2.625821  2.259382  1.794345\n",
       "Proportional variance  0.140491  0.108865  0.093779  0.080692  0.064084\n",
       "Cumulative variance    0.140491  0.249356  0.343135  0.423828  0.487911"
      ]
     },
     "execution_count": 157,
     "metadata": {},
     "output_type": "execute_result"
    }
   ],
   "source": [
    "factor_variance = pd.DataFrame(data=fa.get_factor_variance(),\n",
    "                              index=['Variance', 'Proportional variance', 'Cumulative variance'],\n",
    "                              columns=factors.columns)\n",
    "factor_variance"
   ]
  },
  {
   "cell_type": "markdown",
   "metadata": {},
   "source": [
    "48,7% of variables’ variance is explained by the factor model"
   ]
  },
  {
   "cell_type": "code",
   "execution_count": 158,
   "metadata": {},
   "outputs": [
    {
     "data": {
      "text/plain": [
       "array([[ 0.61358223, -0.43482097,  0.30943487,  0.47742701,  0.33280788],\n",
       "       [ 0.13545759,  0.74176606,  0.09535418, -0.01324716,  0.64974337],\n",
       "       [-0.37332964, -0.11009888,  0.88599924, -0.24250583,  0.06855277],\n",
       "       [-0.68192268, -0.16441402, -0.17621026,  0.58458252,  0.36764482],\n",
       "       [-0.02783026, -0.47070172, -0.28127021, -0.60937851,  0.57202296]])"
      ]
     },
     "execution_count": 158,
     "metadata": {},
     "output_type": "execute_result"
    }
   ],
   "source": [
    "fa.rotation_matrix_"
   ]
  },
  {
   "cell_type": "code",
   "execution_count": 169,
   "metadata": {},
   "outputs": [
    {
     "name": "stdout",
     "output_type": "stream",
     "text": [
      "First factor: ['q8' 'q10' 'q13' 'q14' 'q16' 'q17' 'q21' 'q22']\n",
      "Second factor: ['q7' 'q11' 'q19' 'q20' 'q25' 'q26' 'q27']\n",
      "Third factor: ['q1' 'q3' 'q4' 'q15' 'q24']\n",
      "Fourth factor: ['q2' 'q6' 'q9' 'q18']\n",
      "Fifth factor: ['q5' 'q12' 'q23' 'q28']\n"
     ]
    }
   ],
   "source": [
    "f1 = factors[factors.idxmax(axis=1) == 'Factor_1'].index.values\n",
    "f2 = factors[factors.idxmax(axis=1) == 'Factor_2'].index.values\n",
    "f3 = factors[factors.idxmax(axis=1) == 'Factor_3'].index.values\n",
    "f4 = factors[factors.idxmax(axis=1) == 'Factor_4'].index.values\n",
    "f5 = factors[factors.idxmax(axis=1) == 'Factor_5'].index.values\n",
    "\n",
    "print('First factor: {}'.format(f1))\n",
    "print('Second factor: {}'.format(f2))\n",
    "print('Third factor: {}'.format(f3))\n",
    "print('Fourth factor: {}'.format(f4))\n",
    "print('Fifth factor: {}'.format(f5))"
   ]
  },
  {
   "cell_type": "markdown",
   "metadata": {},
   "source": [
    "#### Questions from first factor\n",
    "This group represents professors' interests, especially scientific ones."
   ]
  },
  {
   "cell_type": "code",
   "execution_count": 170,
   "metadata": {},
   "outputs": [
    {
     "name": "stdout",
     "output_type": "stream",
     "text": [
      "I like control conditions\n",
      "I could spend all day explaining statistics to people\n",
      "Designing experiments is fun\n",
      "I'd rather think about appropriate dependent variables than go to the pub\n",
      "Thinking about whether to use repeated or independent measures thrills me\n",
      "I enjoy sitting in the park contemplating whether to use participant observation\n",
      "Thinking about Bonferroni corrections gives me a tingly feeling in my groin\n",
      "I quiver with excitement when thinking about designing my next experiment\n"
     ]
    }
   ],
   "source": [
    "for f in f1:\n",
    "    print(meta.column_names_to_labels[f])"
   ]
  },
  {
   "cell_type": "markdown",
   "metadata": {},
   "source": [
    "#### Questions from second factor\n",
    "Questions from this group represent professors' interaction with students (positive attitude)."
   ]
  },
  {
   "cell_type": "code",
   "execution_count": 171,
   "metadata": {},
   "outputs": [
    {
     "name": "stdout",
     "output_type": "stream",
     "text": [
      "Helping others to understand Sums of Squares is a great feeling\n",
      "I like it when people tell me I've helped them to understand factor rotation\n",
      "I like to help students\n",
      "Passing on knowledge is the greatest gift you can bestow an individual\n",
      "I love teaching\n",
      "I spend lots of time helping students\n",
      "I love teaching because students have to pretend to like me or they'll get bad m\n"
     ]
    }
   ],
   "source": [
    "for f in f2:\n",
    "    print(meta.column_names_to_labels[f])"
   ]
  },
  {
   "cell_type": "markdown",
   "metadata": {},
   "source": [
    "#### Questions from third factor\n",
    "This group represents the depth of passion for science."
   ]
  },
  {
   "cell_type": "code",
   "execution_count": 172,
   "metadata": {},
   "outputs": [
    {
     "name": "stdout",
     "output_type": "stream",
     "text": [
      "I once woke up in the middle of a vegetable patch hugging a turnip that I'd mist\n",
      "I memorize probability values for the F-distribution\n",
      "I worship at the shrine of Pearson\n",
      "I soil my pants with excitement at the mere mention of Factor Analysis\n",
      "I tried to build myself a time machine so that I could go back to the 1930s and\n"
     ]
    }
   ],
   "source": [
    "for f in f3:\n",
    "    print(meta.column_names_to_labels[f])"
   ]
  },
  {
   "cell_type": "markdown",
   "metadata": {},
   "source": [
    "#### Questions from fourth factor\n",
    "Questions from this group represent negative attitude towards students."
   ]
  },
  {
   "cell_type": "code",
   "execution_count": 173,
   "metadata": {},
   "outputs": [
    {
     "name": "stdout",
     "output_type": "stream",
     "text": [
      "If I had a big gun I'd shoot all the students I have to teach\n",
      "Teaching others makes me want to swallow a large bottle of bleach because the pa\n",
      "I calculate 3 ANOVAs in my head before getting out of bed every morning\n",
      "Standing in front of 300 people in no way makes me lose control of my bowels\n"
     ]
    }
   ],
   "source": [
    "for f in f4:\n",
    "    print(meta.column_names_to_labels[f])"
   ]
  },
  {
   "cell_type": "markdown",
   "metadata": {},
   "source": [
    "#### Questions from fifth factor\n",
    "This group represents personal life"
   ]
  },
  {
   "cell_type": "code",
   "execution_count": 174,
   "metadata": {},
   "outputs": [
    {
     "name": "stdout",
     "output_type": "stream",
     "text": [
      "I still live with my mother and have little personal hygiene\n",
      "People fall asleep as soon as I open my mouth to speak\n",
      "I often spend my spare time talking to the pigeons ... and even they die of bore\n",
      "My cat is my only friend\n"
     ]
    }
   ],
   "source": [
    "for f in f5:\n",
    "    print(meta.column_names_to_labels[f])"
   ]
  },
  {
   "cell_type": "code",
   "execution_count": null,
   "metadata": {},
   "outputs": [],
   "source": []
  }
 ],
 "metadata": {
  "kernelspec": {
   "display_name": "Python 3",
   "language": "python",
   "name": "python3"
  },
  "language_info": {
   "codemirror_mode": {
    "name": "ipython",
    "version": 3
   },
   "file_extension": ".py",
   "mimetype": "text/x-python",
   "name": "python",
   "nbconvert_exporter": "python",
   "pygments_lexer": "ipython3",
   "version": "3.7.6"
  }
 },
 "nbformat": 4,
 "nbformat_minor": 4
}
