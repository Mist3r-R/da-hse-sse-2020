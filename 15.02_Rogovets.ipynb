{
 "cells": [
  {
   "cell_type": "markdown",
   "metadata": {},
   "source": [
    "# 15.02.20\n",
    "\n",
    "**Author:** Miron Rogovets\n",
    "\n",
    "---\n",
    "\n",
    "### Task 1. Open Worldbank_data.dta file.\n",
    "\n",
    "Do the cluster analysis using hierarchical clustering algorithm. Select not less than 4 interval variables for the analysis. Don’t forget to standardize the values of variables if needed.\n",
    "\n",
    "1. Define the number of clusters. Explain your decision.\n",
    "2. Create a dendrogram.\n",
    "3. Describe the clusters using descriptive statistics.\n",
    "4. Try to name the obtained clusters.\n",
    "5. Save cluster membership variable in the file."
   ]
  },
  {
   "cell_type": "code",
   "execution_count": 73,
   "metadata": {},
   "outputs": [],
   "source": [
    "import pandas as pd\n",
    "import numpy as np\n",
    "import matplotlib.pyplot as plt\n",
    "import seaborn as sns\n",
    "from sklearn.preprocessing import MinMaxScaler\n",
    "import scipy.cluster.hierarchy as sch\n",
    "from sklearn.cluster import KMeans, AgglomerativeClustering"
   ]
  },
  {
   "cell_type": "code",
   "execution_count": 74,
   "metadata": {},
   "outputs": [
    {
     "data": {
      "text/plain": [
       "{'year': 'Year',\n",
       " 'groups': 'Groups of countries',\n",
       " 'country_name': 'Country Name',\n",
       " 'country_code': 'Country Code',\n",
       " 'internet': 'Internet users (per 100 people)',\n",
       " 'secure': 'Secure Internet servers (per 1 million people)',\n",
       " 'export': 'Communications, computer, etc. (% of service exports)',\n",
       " 'import': 'Communications, computer, etc. (% of service imports)',\n",
       " 'telephone': 'Fixed telephone subscriptions (per 100 people)',\n",
       " 'hightech': 'High-technology exports (current US$)',\n",
       " 'mobile': 'Mobile cellular subscriptions (per 100 people)'}"
      ]
     },
     "execution_count": 74,
     "metadata": {},
     "output_type": "execute_result"
    }
   ],
   "source": [
    "import pyreadstat\n",
    "_, meta = pyreadstat.read_dta('data/Worldbank_data.dta')\n",
    "meta.column_names_to_labels"
   ]
  },
  {
   "cell_type": "code",
   "execution_count": 75,
   "metadata": {},
   "outputs": [
    {
     "data": {
      "text/html": [
       "<div>\n",
       "<style scoped>\n",
       "    .dataframe tbody tr th:only-of-type {\n",
       "        vertical-align: middle;\n",
       "    }\n",
       "\n",
       "    .dataframe tbody tr th {\n",
       "        vertical-align: top;\n",
       "    }\n",
       "\n",
       "    .dataframe thead th {\n",
       "        text-align: right;\n",
       "    }\n",
       "</style>\n",
       "<table border=\"1\" class=\"dataframe\">\n",
       "  <thead>\n",
       "    <tr style=\"text-align: right;\">\n",
       "      <th></th>\n",
       "      <th>year</th>\n",
       "      <th>groups</th>\n",
       "      <th>country_name</th>\n",
       "      <th>country_code</th>\n",
       "      <th>internet</th>\n",
       "      <th>secure</th>\n",
       "      <th>export</th>\n",
       "      <th>import</th>\n",
       "      <th>telephone</th>\n",
       "      <th>hightech</th>\n",
       "      <th>mobile</th>\n",
       "    </tr>\n",
       "  </thead>\n",
       "  <tbody>\n",
       "    <tr>\n",
       "      <th>0</th>\n",
       "      <td>2015.0</td>\n",
       "      <td>3.0</td>\n",
       "      <td>Afghanistan</td>\n",
       "      <td>AFG</td>\n",
       "      <td>8.260000</td>\n",
       "      <td>1.414229</td>\n",
       "      <td>72.652794</td>\n",
       "      <td>9.053154</td>\n",
       "      <td>0.343677</td>\n",
       "      <td>NaN</td>\n",
       "      <td>61.577619</td>\n",
       "    </tr>\n",
       "    <tr>\n",
       "      <th>1</th>\n",
       "      <td>2015.0</td>\n",
       "      <td>2.0</td>\n",
       "      <td>Albania</td>\n",
       "      <td>ALB</td>\n",
       "      <td>63.252933</td>\n",
       "      <td>37.727137</td>\n",
       "      <td>25.303169</td>\n",
       "      <td>11.124101</td>\n",
       "      <td>7.091628</td>\n",
       "      <td>15123662.0</td>\n",
       "      <td>106.380207</td>\n",
       "    </tr>\n",
       "    <tr>\n",
       "      <th>2</th>\n",
       "      <td>2015.0</td>\n",
       "      <td>2.0</td>\n",
       "      <td>Algeria</td>\n",
       "      <td>DZA</td>\n",
       "      <td>38.200000</td>\n",
       "      <td>2.546228</td>\n",
       "      <td>59.256825</td>\n",
       "      <td>58.012028</td>\n",
       "      <td>8.041628</td>\n",
       "      <td>2449466.0</td>\n",
       "      <td>113.031094</td>\n",
       "    </tr>\n",
       "    <tr>\n",
       "      <th>3</th>\n",
       "      <td>2015.0</td>\n",
       "      <td>3.0</td>\n",
       "      <td>American Samoa</td>\n",
       "      <td>ASM</td>\n",
       "      <td>NaN</td>\n",
       "      <td>72.022759</td>\n",
       "      <td>NaN</td>\n",
       "      <td>NaN</td>\n",
       "      <td>18.005690</td>\n",
       "      <td>NaN</td>\n",
       "      <td>NaN</td>\n",
       "    </tr>\n",
       "    <tr>\n",
       "      <th>4</th>\n",
       "      <td>2015.0</td>\n",
       "      <td>1.0</td>\n",
       "      <td>Andorra</td>\n",
       "      <td>ADO</td>\n",
       "      <td>96.910000</td>\n",
       "      <td>1631.830630</td>\n",
       "      <td>NaN</td>\n",
       "      <td>NaN</td>\n",
       "      <td>47.992588</td>\n",
       "      <td>NaN</td>\n",
       "      <td>88.123533</td>\n",
       "    </tr>\n",
       "  </tbody>\n",
       "</table>\n",
       "</div>"
      ],
      "text/plain": [
       "     year  groups    country_name country_code   internet       secure  \\\n",
       "0  2015.0     3.0     Afghanistan          AFG   8.260000     1.414229   \n",
       "1  2015.0     2.0         Albania          ALB  63.252933    37.727137   \n",
       "2  2015.0     2.0         Algeria          DZA  38.200000     2.546228   \n",
       "3  2015.0     3.0  American Samoa          ASM        NaN    72.022759   \n",
       "4  2015.0     1.0         Andorra          ADO  96.910000  1631.830630   \n",
       "\n",
       "      export     import  telephone    hightech      mobile  \n",
       "0  72.652794   9.053154   0.343677         NaN   61.577619  \n",
       "1  25.303169  11.124101   7.091628  15123662.0  106.380207  \n",
       "2  59.256825  58.012028   8.041628   2449466.0  113.031094  \n",
       "3        NaN        NaN  18.005690         NaN         NaN  \n",
       "4        NaN        NaN  47.992588         NaN   88.123533  "
      ]
     },
     "execution_count": 75,
     "metadata": {},
     "output_type": "execute_result"
    }
   ],
   "source": [
    "df = pd.read_stata('data/Worldbank_data.dta')\n",
    "df.head()"
   ]
  },
  {
   "cell_type": "code",
   "execution_count": 76,
   "metadata": {},
   "outputs": [
    {
     "name": "stdout",
     "output_type": "stream",
     "text": [
      "Dimension of dataset: (217, 11)\n"
     ]
    },
    {
     "data": {
      "text/plain": [
       "year            float64\n",
       "groups          float64\n",
       "country_name     object\n",
       "country_code     object\n",
       "internet        float64\n",
       "secure          float64\n",
       "export          float64\n",
       "import          float64\n",
       "telephone       float64\n",
       "hightech        float64\n",
       "mobile          float64\n",
       "dtype: object"
      ]
     },
     "execution_count": 76,
     "metadata": {},
     "output_type": "execute_result"
    }
   ],
   "source": [
    "print('Dimension of dataset: {}'.format(df.shape))\n",
    "df.dtypes"
   ]
  },
  {
   "cell_type": "code",
   "execution_count": 77,
   "metadata": {},
   "outputs": [
    {
     "data": {
      "text/plain": [
       "array([3., 2., 1.])"
      ]
     },
     "execution_count": 77,
     "metadata": {},
     "output_type": "execute_result"
    }
   ],
   "source": [
    "df.groups.unique()"
   ]
  },
  {
   "cell_type": "markdown",
   "metadata": {},
   "source": [
    "We drop columns that we are not going to use."
   ]
  },
  {
   "cell_type": "code",
   "execution_count": 78,
   "metadata": {},
   "outputs": [],
   "source": [
    "df.drop(columns=['year', 'country_name', 'country_code'], inplace=True)"
   ]
  },
  {
   "cell_type": "code",
   "execution_count": 79,
   "metadata": {},
   "outputs": [
    {
     "data": {
      "text/plain": [
       "groups        0\n",
       "internet     15\n",
       "secure       10\n",
       "export       73\n",
       "import       94\n",
       "telephone     8\n",
       "hightech     82\n",
       "mobile       13\n",
       "dtype: int64"
      ]
     },
     "execution_count": 79,
     "metadata": {},
     "output_type": "execute_result"
    }
   ],
   "source": [
    "df.isna().sum()"
   ]
  },
  {
   "cell_type": "markdown",
   "metadata": {},
   "source": [
    "Our dataset is pretty small, so we should fill <code>nan</code> values. We will use <code>mean</code> values to fill <code>nan</code>"
   ]
  },
  {
   "cell_type": "code",
   "execution_count": 80,
   "metadata": {},
   "outputs": [
    {
     "name": "stdout",
     "output_type": "stream",
     "text": [
      "groups       0\n",
      "internet     0\n",
      "secure       0\n",
      "export       0\n",
      "import       0\n",
      "telephone    0\n",
      "hightech     0\n",
      "mobile       0\n",
      "dtype: int64\n"
     ]
    },
    {
     "data": {
      "text/html": [
       "<div>\n",
       "<style scoped>\n",
       "    .dataframe tbody tr th:only-of-type {\n",
       "        vertical-align: middle;\n",
       "    }\n",
       "\n",
       "    .dataframe tbody tr th {\n",
       "        vertical-align: top;\n",
       "    }\n",
       "\n",
       "    .dataframe thead th {\n",
       "        text-align: right;\n",
       "    }\n",
       "</style>\n",
       "<table border=\"1\" class=\"dataframe\">\n",
       "  <thead>\n",
       "    <tr style=\"text-align: right;\">\n",
       "      <th></th>\n",
       "      <th>groups</th>\n",
       "      <th>internet</th>\n",
       "      <th>secure</th>\n",
       "      <th>export</th>\n",
       "      <th>import</th>\n",
       "      <th>telephone</th>\n",
       "      <th>hightech</th>\n",
       "      <th>mobile</th>\n",
       "    </tr>\n",
       "  </thead>\n",
       "  <tbody>\n",
       "    <tr>\n",
       "      <th>0</th>\n",
       "      <td>3.0</td>\n",
       "      <td>8.260000</td>\n",
       "      <td>1.414229</td>\n",
       "      <td>72.652794</td>\n",
       "      <td>9.053154</td>\n",
       "      <td>0.343677</td>\n",
       "      <td>1.490164e+10</td>\n",
       "      <td>61.577619</td>\n",
       "    </tr>\n",
       "    <tr>\n",
       "      <th>1</th>\n",
       "      <td>2.0</td>\n",
       "      <td>63.252933</td>\n",
       "      <td>37.727137</td>\n",
       "      <td>25.303169</td>\n",
       "      <td>11.124101</td>\n",
       "      <td>7.091628</td>\n",
       "      <td>1.512366e+07</td>\n",
       "      <td>106.380207</td>\n",
       "    </tr>\n",
       "    <tr>\n",
       "      <th>2</th>\n",
       "      <td>2.0</td>\n",
       "      <td>38.200000</td>\n",
       "      <td>2.546228</td>\n",
       "      <td>59.256825</td>\n",
       "      <td>58.012028</td>\n",
       "      <td>8.041628</td>\n",
       "      <td>2.449466e+06</td>\n",
       "      <td>113.031094</td>\n",
       "    </tr>\n",
       "    <tr>\n",
       "      <th>3</th>\n",
       "      <td>3.0</td>\n",
       "      <td>48.573173</td>\n",
       "      <td>72.022759</td>\n",
       "      <td>35.117770</td>\n",
       "      <td>37.832033</td>\n",
       "      <td>18.005690</td>\n",
       "      <td>1.490164e+10</td>\n",
       "      <td>107.722941</td>\n",
       "    </tr>\n",
       "    <tr>\n",
       "      <th>4</th>\n",
       "      <td>1.0</td>\n",
       "      <td>96.910000</td>\n",
       "      <td>1631.830630</td>\n",
       "      <td>35.117770</td>\n",
       "      <td>37.832033</td>\n",
       "      <td>47.992588</td>\n",
       "      <td>1.490164e+10</td>\n",
       "      <td>88.123533</td>\n",
       "    </tr>\n",
       "  </tbody>\n",
       "</table>\n",
       "</div>"
      ],
      "text/plain": [
       "   groups   internet       secure     export     import  telephone  \\\n",
       "0     3.0   8.260000     1.414229  72.652794   9.053154   0.343677   \n",
       "1     2.0  63.252933    37.727137  25.303169  11.124101   7.091628   \n",
       "2     2.0  38.200000     2.546228  59.256825  58.012028   8.041628   \n",
       "3     3.0  48.573173    72.022759  35.117770  37.832033  18.005690   \n",
       "4     1.0  96.910000  1631.830630  35.117770  37.832033  47.992588   \n",
       "\n",
       "       hightech      mobile  \n",
       "0  1.490164e+10   61.577619  \n",
       "1  1.512366e+07  106.380207  \n",
       "2  2.449466e+06  113.031094  \n",
       "3  1.490164e+10  107.722941  \n",
       "4  1.490164e+10   88.123533  "
      ]
     },
     "execution_count": 80,
     "metadata": {},
     "output_type": "execute_result"
    }
   ],
   "source": [
    "df.fillna(df.mean(), inplace=True)\n",
    "print(df.isna().sum())\n",
    "df.head()"
   ]
  },
  {
   "cell_type": "code",
   "execution_count": 81,
   "metadata": {},
   "outputs": [
    {
     "data": {
      "text/plain": [
       "<matplotlib.axes._subplots.AxesSubplot at 0x11c7dcb10>"
      ]
     },
     "execution_count": 81,
     "metadata": {},
     "output_type": "execute_result"
    },
    {
     "data": {
      "image/png": "[encoded data removed]",
      "text/plain": [
       "<Figure size 432x288 with 2 Axes>"
      ]
     },
     "metadata": {
      "needs_background": "light"
     },
     "output_type": "display_data"
    }
   ],
   "source": [
    "cols = df.columns.drop('groups')\n",
    "cor = df[cols].corr()\n",
    "sns.heatmap(cor, square = True, cmap='OrRd')"
   ]
  },
  {
   "cell_type": "markdown",
   "metadata": {},
   "source": [
    "We do not have _high correlated (>0.8)_ variables, so we can proceed with clusterization.\n",
    "\n",
    "The data should also be scaled, since the clustering is sensitive to range of data."
   ]
  },
  {
   "cell_type": "code",
   "execution_count": 82,
   "metadata": {},
   "outputs": [
    {
     "data": {
      "text/html": [
       "<div>\n",
       "<style scoped>\n",
       "    .dataframe tbody tr th:only-of-type {\n",
       "        vertical-align: middle;\n",
       "    }\n",
       "\n",
       "    .dataframe tbody tr th {\n",
       "        vertical-align: top;\n",
       "    }\n",
       "\n",
       "    .dataframe thead th {\n",
       "        text-align: right;\n",
       "    }\n",
       "</style>\n",
       "<table border=\"1\" class=\"dataframe\">\n",
       "  <thead>\n",
       "    <tr style=\"text-align: right;\">\n",
       "      <th></th>\n",
       "      <th>internet</th>\n",
       "      <th>secure</th>\n",
       "      <th>export</th>\n",
       "      <th>import</th>\n",
       "      <th>telephone</th>\n",
       "      <th>hightech</th>\n",
       "      <th>mobile</th>\n",
       "    </tr>\n",
       "  </thead>\n",
       "  <tbody>\n",
       "    <tr>\n",
       "      <th>0</th>\n",
       "      <td>8.260000</td>\n",
       "      <td>1.414229</td>\n",
       "      <td>72.652794</td>\n",
       "      <td>9.053154</td>\n",
       "      <td>0.343677</td>\n",
       "      <td>1.490164e+10</td>\n",
       "      <td>61.577619</td>\n",
       "    </tr>\n",
       "    <tr>\n",
       "      <th>1</th>\n",
       "      <td>63.252933</td>\n",
       "      <td>37.727137</td>\n",
       "      <td>25.303169</td>\n",
       "      <td>11.124101</td>\n",
       "      <td>7.091628</td>\n",
       "      <td>1.512366e+07</td>\n",
       "      <td>106.380207</td>\n",
       "    </tr>\n",
       "  </tbody>\n",
       "</table>\n",
       "</div>"
      ],
      "text/plain": [
       "    internet     secure     export     import  telephone      hightech  \\\n",
       "0   8.260000   1.414229  72.652794   9.053154   0.343677  1.490164e+10   \n",
       "1  63.252933  37.727137  25.303169  11.124101   7.091628  1.512366e+07   \n",
       "\n",
       "       mobile  \n",
       "0   61.577619  \n",
       "1  106.380207  "
      ]
     },
     "execution_count": 82,
     "metadata": {},
     "output_type": "execute_result"
    }
   ],
   "source": [
    "data = df[cols].copy()\n",
    "data.head(2)"
   ]
  },
  {
   "cell_type": "code",
   "execution_count": 83,
   "metadata": {},
   "outputs": [
    {
     "data": {
      "text/html": [
       "<div>\n",
       "<style scoped>\n",
       "    .dataframe tbody tr th:only-of-type {\n",
       "        vertical-align: middle;\n",
       "    }\n",
       "\n",
       "    .dataframe tbody tr th {\n",
       "        vertical-align: top;\n",
       "    }\n",
       "\n",
       "    .dataframe thead th {\n",
       "        text-align: right;\n",
       "    }\n",
       "</style>\n",
       "<table border=\"1\" class=\"dataframe\">\n",
       "  <thead>\n",
       "    <tr style=\"text-align: right;\">\n",
       "      <th></th>\n",
       "      <th>internet</th>\n",
       "      <th>secure</th>\n",
       "      <th>export</th>\n",
       "      <th>import</th>\n",
       "      <th>telephone</th>\n",
       "      <th>hightech</th>\n",
       "      <th>mobile</th>\n",
       "    </tr>\n",
       "  </thead>\n",
       "  <tbody>\n",
       "    <tr>\n",
       "      <th>0</th>\n",
       "      <td>0.073800</td>\n",
       "      <td>0.000134</td>\n",
       "      <td>0.838002</td>\n",
       "      <td>0.055168</td>\n",
       "      <td>0.002683</td>\n",
       "      <td>0.026885</td>\n",
       "      <td>0.171800</td>\n",
       "    </tr>\n",
       "    <tr>\n",
       "      <th>1</th>\n",
       "      <td>0.639339</td>\n",
       "      <td>0.003683</td>\n",
       "      <td>0.279072</td>\n",
       "      <td>0.081040</td>\n",
       "      <td>0.055363</td>\n",
       "      <td>0.000027</td>\n",
       "      <td>0.312959</td>\n",
       "    </tr>\n",
       "    <tr>\n",
       "      <th>2</th>\n",
       "      <td>0.381698</td>\n",
       "      <td>0.000245</td>\n",
       "      <td>0.679871</td>\n",
       "      <td>0.666796</td>\n",
       "      <td>0.062780</td>\n",
       "      <td>0.000004</td>\n",
       "      <td>0.333914</td>\n",
       "    </tr>\n",
       "    <tr>\n",
       "      <th>3</th>\n",
       "      <td>0.488374</td>\n",
       "      <td>0.007035</td>\n",
       "      <td>0.394926</td>\n",
       "      <td>0.414694</td>\n",
       "      <td>0.140568</td>\n",
       "      <td>0.026885</td>\n",
       "      <td>0.317189</td>\n",
       "    </tr>\n",
       "    <tr>\n",
       "      <th>4</th>\n",
       "      <td>0.985463</td>\n",
       "      <td>0.159487</td>\n",
       "      <td>0.394926</td>\n",
       "      <td>0.414694</td>\n",
       "      <td>0.374672</td>\n",
       "      <td>0.026885</td>\n",
       "      <td>0.255438</td>\n",
       "    </tr>\n",
       "  </tbody>\n",
       "</table>\n",
       "</div>"
      ],
      "text/plain": [
       "   internet    secure    export    import  telephone  hightech    mobile\n",
       "0  0.073800  0.000134  0.838002  0.055168   0.002683  0.026885  0.171800\n",
       "1  0.639339  0.003683  0.279072  0.081040   0.055363  0.000027  0.312959\n",
       "2  0.381698  0.000245  0.679871  0.666796   0.062780  0.000004  0.333914\n",
       "3  0.488374  0.007035  0.394926  0.414694   0.140568  0.026885  0.317189\n",
       "4  0.985463  0.159487  0.394926  0.414694   0.374672  0.026885  0.255438"
      ]
     },
     "execution_count": 83,
     "metadata": {},
     "output_type": "execute_result"
    }
   ],
   "source": [
    "scaler = MinMaxScaler()\n",
    "data[data.columns] = scaler.fit_transform(data[data.columns])\n",
    "data.head()"
   ]
  },
  {
   "cell_type": "code",
   "execution_count": 84,
   "metadata": {},
   "outputs": [
    {
     "data": {
      "image/png": "[encoded data removed]",
      "text/plain": [
       "<Figure size 1800x720 with 1 Axes>"
      ]
     },
     "metadata": {
      "needs_background": "light"
     },
     "output_type": "display_data"
    }
   ],
   "source": [
    "plt.figure(figsize=(25, 10))\n",
    "plt.title('Hierarchical Clustering Dendrogram')\n",
    "dendrogram = sch.dendrogram(sch.linkage(data, method='ward'))\n",
    "plt.ylabel('distance')\n",
    "plt.show()"
   ]
  },
  {
   "cell_type": "markdown",
   "metadata": {},
   "source": [
    "We can see that __3__ can be chosen as the number of clusters from the dendrogram above. Moreover, __three__ is the most reasonable number, since we have __3 different groups of countries__ in our dataset."
   ]
  },
  {
   "cell_type": "code",
   "execution_count": 85,
   "metadata": {},
   "outputs": [],
   "source": [
    "hc = AgglomerativeClustering(n_clusters=3, affinity = 'euclidean', linkage = 'ward')\n",
    "predicted = hc.fit_predict(data)"
   ]
  },
  {
   "cell_type": "code",
   "execution_count": 86,
   "metadata": {},
   "outputs": [
    {
     "data": {
      "text/html": [
       "<div>\n",
       "<style scoped>\n",
       "    .dataframe tbody tr th:only-of-type {\n",
       "        vertical-align: middle;\n",
       "    }\n",
       "\n",
       "    .dataframe tbody tr th {\n",
       "        vertical-align: top;\n",
       "    }\n",
       "\n",
       "    .dataframe thead th {\n",
       "        text-align: right;\n",
       "    }\n",
       "</style>\n",
       "<table border=\"1\" class=\"dataframe\">\n",
       "  <thead>\n",
       "    <tr style=\"text-align: right;\">\n",
       "      <th></th>\n",
       "      <th>groups</th>\n",
       "      <th>internet</th>\n",
       "      <th>secure</th>\n",
       "      <th>export</th>\n",
       "      <th>import</th>\n",
       "      <th>telephone</th>\n",
       "      <th>hightech</th>\n",
       "      <th>mobile</th>\n",
       "      <th>hierarchial</th>\n",
       "    </tr>\n",
       "  </thead>\n",
       "  <tbody>\n",
       "    <tr>\n",
       "      <th>0</th>\n",
       "      <td>3.0</td>\n",
       "      <td>8.260000</td>\n",
       "      <td>1.414229</td>\n",
       "      <td>72.652794</td>\n",
       "      <td>9.053154</td>\n",
       "      <td>0.343677</td>\n",
       "      <td>1.490164e+10</td>\n",
       "      <td>61.577619</td>\n",
       "      <td>0</td>\n",
       "    </tr>\n",
       "    <tr>\n",
       "      <th>1</th>\n",
       "      <td>2.0</td>\n",
       "      <td>63.252933</td>\n",
       "      <td>37.727137</td>\n",
       "      <td>25.303169</td>\n",
       "      <td>11.124101</td>\n",
       "      <td>7.091628</td>\n",
       "      <td>1.512366e+07</td>\n",
       "      <td>106.380207</td>\n",
       "      <td>2</td>\n",
       "    </tr>\n",
       "    <tr>\n",
       "      <th>2</th>\n",
       "      <td>2.0</td>\n",
       "      <td>38.200000</td>\n",
       "      <td>2.546228</td>\n",
       "      <td>59.256825</td>\n",
       "      <td>58.012028</td>\n",
       "      <td>8.041628</td>\n",
       "      <td>2.449466e+06</td>\n",
       "      <td>113.031094</td>\n",
       "      <td>1</td>\n",
       "    </tr>\n",
       "    <tr>\n",
       "      <th>3</th>\n",
       "      <td>3.0</td>\n",
       "      <td>48.573173</td>\n",
       "      <td>72.022759</td>\n",
       "      <td>35.117770</td>\n",
       "      <td>37.832033</td>\n",
       "      <td>18.005690</td>\n",
       "      <td>1.490164e+10</td>\n",
       "      <td>107.722941</td>\n",
       "      <td>2</td>\n",
       "    </tr>\n",
       "    <tr>\n",
       "      <th>4</th>\n",
       "      <td>1.0</td>\n",
       "      <td>96.910000</td>\n",
       "      <td>1631.830630</td>\n",
       "      <td>35.117770</td>\n",
       "      <td>37.832033</td>\n",
       "      <td>47.992588</td>\n",
       "      <td>1.490164e+10</td>\n",
       "      <td>88.123533</td>\n",
       "      <td>1</td>\n",
       "    </tr>\n",
       "  </tbody>\n",
       "</table>\n",
       "</div>"
      ],
      "text/plain": [
       "   groups   internet       secure     export     import  telephone  \\\n",
       "0     3.0   8.260000     1.414229  72.652794   9.053154   0.343677   \n",
       "1     2.0  63.252933    37.727137  25.303169  11.124101   7.091628   \n",
       "2     2.0  38.200000     2.546228  59.256825  58.012028   8.041628   \n",
       "3     3.0  48.573173    72.022759  35.117770  37.832033  18.005690   \n",
       "4     1.0  96.910000  1631.830630  35.117770  37.832033  47.992588   \n",
       "\n",
       "       hightech      mobile  hierarchial  \n",
       "0  1.490164e+10   61.577619            0  \n",
       "1  1.512366e+07  106.380207            2  \n",
       "2  2.449466e+06  113.031094            1  \n",
       "3  1.490164e+10  107.722941            2  \n",
       "4  1.490164e+10   88.123533            1  "
      ]
     },
     "execution_count": 86,
     "metadata": {},
     "output_type": "execute_result"
    }
   ],
   "source": [
    "df['hierarchial'] = predicted\n",
    "df.head()"
   ]
  },
  {
   "cell_type": "markdown",
   "metadata": {},
   "source": [
    "Map clusters to a corresponding group:"
   ]
  },
  {
   "cell_type": "code",
   "execution_count": 87,
   "metadata": {},
   "outputs": [
    {
     "name": "stdout",
     "output_type": "stream",
     "text": [
      "Group 1 - Cluster 1\n",
      "Group 2 - Cluster 2\n",
      "Group 3 - Cluster 0\n"
     ]
    }
   ],
   "source": [
    "print('Group 1 - Cluster {}'.format(df[df.groups == 1].hierarchial.value_counts(normalize=True).idxmax()))\n",
    "print('Group 2 - Cluster {}'.format(df[df.groups == 2].hierarchial.value_counts(normalize=True).idxmax()))\n",
    "print('Group 3 - Cluster {}'.format(df[df.groups == 3].hierarchial.value_counts(normalize=True).idxmax()))"
   ]
  },
  {
   "cell_type": "code",
   "execution_count": 89,
   "metadata": {
    "scrolled": false
   },
   "outputs": [
    {
     "data": {
      "text/html": [
       "<div>\n",
       "<style scoped>\n",
       "    .dataframe tbody tr th:only-of-type {\n",
       "        vertical-align: middle;\n",
       "    }\n",
       "\n",
       "    .dataframe tbody tr th {\n",
       "        vertical-align: top;\n",
       "    }\n",
       "\n",
       "    .dataframe thead th {\n",
       "        text-align: right;\n",
       "    }\n",
       "</style>\n",
       "<table border=\"1\" class=\"dataframe\">\n",
       "  <thead>\n",
       "    <tr style=\"text-align: right;\">\n",
       "      <th></th>\n",
       "      <th>internet</th>\n",
       "      <th>secure</th>\n",
       "      <th>export</th>\n",
       "      <th>import</th>\n",
       "      <th>telephone</th>\n",
       "      <th>hightech</th>\n",
       "      <th>mobile</th>\n",
       "    </tr>\n",
       "  </thead>\n",
       "  <tbody>\n",
       "    <tr>\n",
       "      <th>count</th>\n",
       "      <td>68.000000</td>\n",
       "      <td>68.000000</td>\n",
       "      <td>68.000000</td>\n",
       "      <td>68.000000</td>\n",
       "      <td>68.000000</td>\n",
       "      <td>6.800000e+01</td>\n",
       "      <td>68.000000</td>\n",
       "    </tr>\n",
       "    <tr>\n",
       "      <th>mean</th>\n",
       "      <td>16.264176</td>\n",
       "      <td>39.231957</td>\n",
       "      <td>41.371586</td>\n",
       "      <td>33.867867</td>\n",
       "      <td>3.107595</td>\n",
       "      <td>8.272106e+09</td>\n",
       "      <td>82.560235</td>\n",
       "    </tr>\n",
       "    <tr>\n",
       "      <th>std</th>\n",
       "      <td>9.404311</td>\n",
       "      <td>117.744570</td>\n",
       "      <td>18.846394</td>\n",
       "      <td>11.078379</td>\n",
       "      <td>3.669244</td>\n",
       "      <td>7.721125e+09</td>\n",
       "      <td>35.184086</td>\n",
       "    </tr>\n",
       "    <tr>\n",
       "      <th>min</th>\n",
       "      <td>1.083733</td>\n",
       "      <td>0.074562</td>\n",
       "      <td>5.056562</td>\n",
       "      <td>4.637094</td>\n",
       "      <td>0.000000</td>\n",
       "      <td>0.000000e+00</td>\n",
       "      <td>7.049953</td>\n",
       "    </tr>\n",
       "    <tr>\n",
       "      <th>25%</th>\n",
       "      <td>7.828994</td>\n",
       "      <td>1.331478</td>\n",
       "      <td>34.996161</td>\n",
       "      <td>29.449442</td>\n",
       "      <td>0.448659</td>\n",
       "      <td>8.502804e+06</td>\n",
       "      <td>54.374827</td>\n",
       "    </tr>\n",
       "    <tr>\n",
       "      <th>50%</th>\n",
       "      <td>17.400809</td>\n",
       "      <td>3.841481</td>\n",
       "      <td>35.117770</td>\n",
       "      <td>37.832033</td>\n",
       "      <td>1.503789</td>\n",
       "      <td>1.490164e+10</td>\n",
       "      <td>77.757105</td>\n",
       "    </tr>\n",
       "    <tr>\n",
       "      <th>75%</th>\n",
       "      <td>21.844017</td>\n",
       "      <td>10.636620</td>\n",
       "      <td>45.812601</td>\n",
       "      <td>37.832033</td>\n",
       "      <td>4.836763</td>\n",
       "      <td>1.490164e+10</td>\n",
       "      <td>106.073763</td>\n",
       "    </tr>\n",
       "    <tr>\n",
       "      <th>max</th>\n",
       "      <td>41.590000</td>\n",
       "      <td>462.902665</td>\n",
       "      <td>86.376427</td>\n",
       "      <td>73.088709</td>\n",
       "      <td>14.694455</td>\n",
       "      <td>2.619229e+10</td>\n",
       "      <td>168.917525</td>\n",
       "    </tr>\n",
       "  </tbody>\n",
       "</table>\n",
       "</div>"
      ],
      "text/plain": [
       "        internet      secure     export     import  telephone      hightech  \\\n",
       "count  68.000000   68.000000  68.000000  68.000000  68.000000  6.800000e+01   \n",
       "mean   16.264176   39.231957  41.371586  33.867867   3.107595  8.272106e+09   \n",
       "std     9.404311  117.744570  18.846394  11.078379   3.669244  7.721125e+09   \n",
       "min     1.083733    0.074562   5.056562   4.637094   0.000000  0.000000e+00   \n",
       "25%     7.828994    1.331478  34.996161  29.449442   0.448659  8.502804e+06   \n",
       "50%    17.400809    3.841481  35.117770  37.832033   1.503789  1.490164e+10   \n",
       "75%    21.844017   10.636620  45.812601  37.832033   4.836763  1.490164e+10   \n",
       "max    41.590000  462.902665  86.376427  73.088709  14.694455  2.619229e+10   \n",
       "\n",
       "           mobile  \n",
       "count   68.000000  \n",
       "mean    82.560235  \n",
       "std     35.184086  \n",
       "min      7.049953  \n",
       "25%     54.374827  \n",
       "50%     77.757105  \n",
       "75%    106.073763  \n",
       "max    168.917525  "
      ]
     },
     "execution_count": 89,
     "metadata": {},
     "output_type": "execute_result"
    }
   ],
   "source": [
    "df[df.hierarchial == 0][cols].describe()"
   ]
  },
  {
   "cell_type": "code",
   "execution_count": 90,
   "metadata": {},
   "outputs": [
    {
     "data": {
      "text/html": [
       "<div>\n",
       "<style scoped>\n",
       "    .dataframe tbody tr th:only-of-type {\n",
       "        vertical-align: middle;\n",
       "    }\n",
       "\n",
       "    .dataframe tbody tr th {\n",
       "        vertical-align: top;\n",
       "    }\n",
       "\n",
       "    .dataframe thead th {\n",
       "        text-align: right;\n",
       "    }\n",
       "</style>\n",
       "<table border=\"1\" class=\"dataframe\">\n",
       "  <thead>\n",
       "    <tr style=\"text-align: right;\">\n",
       "      <th></th>\n",
       "      <th>internet</th>\n",
       "      <th>secure</th>\n",
       "      <th>export</th>\n",
       "      <th>import</th>\n",
       "      <th>telephone</th>\n",
       "      <th>hightech</th>\n",
       "      <th>mobile</th>\n",
       "    </tr>\n",
       "  </thead>\n",
       "  <tbody>\n",
       "    <tr>\n",
       "      <th>count</th>\n",
       "      <td>80.000000</td>\n",
       "      <td>80.000000</td>\n",
       "      <td>80.000000</td>\n",
       "      <td>80.000000</td>\n",
       "      <td>80.000000</td>\n",
       "      <td>8.000000e+01</td>\n",
       "      <td>80.000000</td>\n",
       "    </tr>\n",
       "    <tr>\n",
       "      <th>mean</th>\n",
       "      <td>78.056180</td>\n",
       "      <td>1005.074992</td>\n",
       "      <td>37.686639</td>\n",
       "      <td>43.894048</td>\n",
       "      <td>32.695100</td>\n",
       "      <td>1.953459e+10</td>\n",
       "      <td>131.474014</td>\n",
       "    </tr>\n",
       "    <tr>\n",
       "      <th>std</th>\n",
       "      <td>12.582467</td>\n",
       "      <td>1546.945329</td>\n",
       "      <td>16.573307</td>\n",
       "      <td>11.082701</td>\n",
       "      <td>17.793496</td>\n",
       "      <td>3.626259e+10</td>\n",
       "      <td>38.178496</td>\n",
       "    </tr>\n",
       "    <tr>\n",
       "      <th>min</th>\n",
       "      <td>38.200000</td>\n",
       "      <td>2.546228</td>\n",
       "      <td>1.983901</td>\n",
       "      <td>21.481726</td>\n",
       "      <td>6.120716</td>\n",
       "      <td>0.000000e+00</td>\n",
       "      <td>57.946262</td>\n",
       "    </tr>\n",
       "    <tr>\n",
       "      <th>25%</th>\n",
       "      <td>69.562407</td>\n",
       "      <td>171.556912</td>\n",
       "      <td>29.218748</td>\n",
       "      <td>37.832033</td>\n",
       "      <td>19.709361</td>\n",
       "      <td>2.735467e+08</td>\n",
       "      <td>108.643654</td>\n",
       "    </tr>\n",
       "    <tr>\n",
       "      <th>50%</th>\n",
       "      <td>77.300066</td>\n",
       "      <td>451.955984</td>\n",
       "      <td>35.117770</td>\n",
       "      <td>40.881807</td>\n",
       "      <td>31.738192</td>\n",
       "      <td>7.863307e+09</td>\n",
       "      <td>125.402302</td>\n",
       "    </tr>\n",
       "    <tr>\n",
       "      <th>75%</th>\n",
       "      <td>88.422450</td>\n",
       "      <td>1334.699854</td>\n",
       "      <td>49.747775</td>\n",
       "      <td>50.350415</td>\n",
       "      <td>41.497873</td>\n",
       "      <td>1.490164e+10</td>\n",
       "      <td>146.732498</td>\n",
       "    </tr>\n",
       "    <tr>\n",
       "      <th>max</th>\n",
       "      <td>98.323610</td>\n",
       "      <td>10231.541925</td>\n",
       "      <td>75.998162</td>\n",
       "      <td>84.684010</td>\n",
       "      <td>128.092380</td>\n",
       "      <td>1.855562e+11</td>\n",
       "      <td>324.440813</td>\n",
       "    </tr>\n",
       "  </tbody>\n",
       "</table>\n",
       "</div>"
      ],
      "text/plain": [
       "        internet        secure     export     import   telephone  \\\n",
       "count  80.000000     80.000000  80.000000  80.000000   80.000000   \n",
       "mean   78.056180   1005.074992  37.686639  43.894048   32.695100   \n",
       "std    12.582467   1546.945329  16.573307  11.082701   17.793496   \n",
       "min    38.200000      2.546228   1.983901  21.481726    6.120716   \n",
       "25%    69.562407    171.556912  29.218748  37.832033   19.709361   \n",
       "50%    77.300066    451.955984  35.117770  40.881807   31.738192   \n",
       "75%    88.422450   1334.699854  49.747775  50.350415   41.497873   \n",
       "max    98.323610  10231.541925  75.998162  84.684010  128.092380   \n",
       "\n",
       "           hightech      mobile  \n",
       "count  8.000000e+01   80.000000  \n",
       "mean   1.953459e+10  131.474014  \n",
       "std    3.626259e+10   38.178496  \n",
       "min    0.000000e+00   57.946262  \n",
       "25%    2.735467e+08  108.643654  \n",
       "50%    7.863307e+09  125.402302  \n",
       "75%    1.490164e+10  146.732498  \n",
       "max    1.855562e+11  324.440813  "
      ]
     },
     "execution_count": 90,
     "metadata": {},
     "output_type": "execute_result"
    }
   ],
   "source": [
    "df[df.hierarchial == 1][cols].describe()"
   ]
  },
  {
   "cell_type": "code",
   "execution_count": 91,
   "metadata": {},
   "outputs": [
    {
     "data": {
      "text/html": [
       "<div>\n",
       "<style scoped>\n",
       "    .dataframe tbody tr th:only-of-type {\n",
       "        vertical-align: middle;\n",
       "    }\n",
       "\n",
       "    .dataframe tbody tr th {\n",
       "        vertical-align: top;\n",
       "    }\n",
       "\n",
       "    .dataframe thead th {\n",
       "        text-align: right;\n",
       "    }\n",
       "</style>\n",
       "<table border=\"1\" class=\"dataframe\">\n",
       "  <thead>\n",
       "    <tr style=\"text-align: right;\">\n",
       "      <th></th>\n",
       "      <th>internet</th>\n",
       "      <th>secure</th>\n",
       "      <th>export</th>\n",
       "      <th>import</th>\n",
       "      <th>telephone</th>\n",
       "      <th>hightech</th>\n",
       "      <th>mobile</th>\n",
       "    </tr>\n",
       "  </thead>\n",
       "  <tbody>\n",
       "    <tr>\n",
       "      <th>count</th>\n",
       "      <td>69.000000</td>\n",
       "      <td>69.000000</td>\n",
       "      <td>69.000000</td>\n",
       "      <td>69.000000</td>\n",
       "      <td>69.000000</td>\n",
       "      <td>6.900000e+01</td>\n",
       "      <td>69.000000</td>\n",
       "    </tr>\n",
       "    <tr>\n",
       "      <th>mean</th>\n",
       "      <td>46.230728</td>\n",
       "      <td>251.827620</td>\n",
       "      <td>25.976191</td>\n",
       "      <td>34.710325</td>\n",
       "      <td>16.698367</td>\n",
       "      <td>1.606357e+10</td>\n",
       "      <td>104.983495</td>\n",
       "    </tr>\n",
       "    <tr>\n",
       "      <th>std</th>\n",
       "      <td>12.177906</td>\n",
       "      <td>758.830621</td>\n",
       "      <td>12.607721</td>\n",
       "      <td>11.981144</td>\n",
       "      <td>13.059336</td>\n",
       "      <td>6.637713e+10</td>\n",
       "      <td>33.637656</td>\n",
       "    </tr>\n",
       "    <tr>\n",
       "      <th>min</th>\n",
       "      <td>9.000000</td>\n",
       "      <td>0.039753</td>\n",
       "      <td>1.661690</td>\n",
       "      <td>5.549337</td>\n",
       "      <td>0.101979</td>\n",
       "      <td>0.000000e+00</td>\n",
       "      <td>12.879976</td>\n",
       "    </tr>\n",
       "    <tr>\n",
       "      <th>25%</th>\n",
       "      <td>43.019626</td>\n",
       "      <td>14.754023</td>\n",
       "      <td>13.836450</td>\n",
       "      <td>29.178000</td>\n",
       "      <td>7.876767</td>\n",
       "      <td>3.580208e+07</td>\n",
       "      <td>85.304417</td>\n",
       "    </tr>\n",
       "    <tr>\n",
       "      <th>50%</th>\n",
       "      <td>48.573173</td>\n",
       "      <td>51.561125</td>\n",
       "      <td>29.423922</td>\n",
       "      <td>37.832033</td>\n",
       "      <td>15.558095</td>\n",
       "      <td>2.323079e+09</td>\n",
       "      <td>107.722941</td>\n",
       "    </tr>\n",
       "    <tr>\n",
       "      <th>75%</th>\n",
       "      <td>52.350000</td>\n",
       "      <td>140.904608</td>\n",
       "      <td>35.117770</td>\n",
       "      <td>37.832033</td>\n",
       "      <td>20.169423</td>\n",
       "      <td>1.490164e+10</td>\n",
       "      <td>117.396313</td>\n",
       "    </tr>\n",
       "    <tr>\n",
       "      <th>max</th>\n",
       "      <td>71.715900</td>\n",
       "      <td>5312.614138</td>\n",
       "      <td>48.786615</td>\n",
       "      <td>73.699393</td>\n",
       "      <td>71.090491</td>\n",
       "      <td>5.542729e+11</td>\n",
       "      <td>180.689062</td>\n",
       "    </tr>\n",
       "  </tbody>\n",
       "</table>\n",
       "</div>"
      ],
      "text/plain": [
       "        internet       secure     export     import  telephone      hightech  \\\n",
       "count  69.000000    69.000000  69.000000  69.000000  69.000000  6.900000e+01   \n",
       "mean   46.230728   251.827620  25.976191  34.710325  16.698367  1.606357e+10   \n",
       "std    12.177906   758.830621  12.607721  11.981144  13.059336  6.637713e+10   \n",
       "min     9.000000     0.039753   1.661690   5.549337   0.101979  0.000000e+00   \n",
       "25%    43.019626    14.754023  13.836450  29.178000   7.876767  3.580208e+07   \n",
       "50%    48.573173    51.561125  29.423922  37.832033  15.558095  2.323079e+09   \n",
       "75%    52.350000   140.904608  35.117770  37.832033  20.169423  1.490164e+10   \n",
       "max    71.715900  5312.614138  48.786615  73.699393  71.090491  5.542729e+11   \n",
       "\n",
       "           mobile  \n",
       "count   69.000000  \n",
       "mean   104.983495  \n",
       "std     33.637656  \n",
       "min     12.879976  \n",
       "25%     85.304417  \n",
       "50%    107.722941  \n",
       "75%    117.396313  \n",
       "max    180.689062  "
      ]
     },
     "execution_count": 91,
     "metadata": {},
     "output_type": "execute_result"
    }
   ],
   "source": [
    "df[df.hierarchial == 2][cols].describe()"
   ]
  },
  {
   "cell_type": "markdown",
   "metadata": {},
   "source": [
    "We can see that countries from <code>cluster=0 (3rd group)</code> have the lowest numbers of internet users, mobile subscriptions, secured servers and fixed telephone subscriptions. Also those countries export more than import, so they can be named as __Exporting countries__\n",
    "\n",
    "Countries from <code>cluster=1 (1st group)</code> have the highest numbers of internet users, mobile subscriptions, secured servers and fixed telephone subscriptions. Also those countries import more than export, so they can be named as __Importing countries__\n",
    "\n",
    "Countries from <code>cluster=2 (2nd group)</code> have lowers import and export percantages, so they can be named as __Countries of low export & import__"
   ]
  },
  {
   "cell_type": "markdown",
   "metadata": {},
   "source": [
    "### Task 2. Open video_games_sales file.\n",
    "\n",
    "Do the cluster analysis using k-means algorithm. Select not less than 4 interval variables for the analysis. Don’t forget to standardize the values of variables if needed.\n",
    "\n",
    "1. Define the number of clusters. Explain your decision.\n",
    "2. Describe the clusters using descriptive statistics.\n",
    "3. Try to name the obtained clusters.\n",
    "4. Save cluster membership variable in the file."
   ]
  },
  {
   "cell_type": "code",
   "execution_count": 95,
   "metadata": {},
   "outputs": [
    {
     "data": {
      "text/html": [
       "<div>\n",
       "<style scoped>\n",
       "    .dataframe tbody tr th:only-of-type {\n",
       "        vertical-align: middle;\n",
       "    }\n",
       "\n",
       "    .dataframe tbody tr th {\n",
       "        vertical-align: top;\n",
       "    }\n",
       "\n",
       "    .dataframe thead th {\n",
       "        text-align: right;\n",
       "    }\n",
       "</style>\n",
       "<table border=\"1\" class=\"dataframe\">\n",
       "  <thead>\n",
       "    <tr style=\"text-align: right;\">\n",
       "      <th></th>\n",
       "      <th>Name</th>\n",
       "      <th>Platform</th>\n",
       "      <th>Year_of_Release</th>\n",
       "      <th>Genre</th>\n",
       "      <th>Publisher</th>\n",
       "      <th>NA_Sales</th>\n",
       "      <th>EU_Sales</th>\n",
       "      <th>JP_Sales</th>\n",
       "      <th>Other_Sales</th>\n",
       "      <th>Global_Sales</th>\n",
       "      <th>Critic_Score</th>\n",
       "      <th>Critic_Count</th>\n",
       "      <th>User_Score</th>\n",
       "      <th>User_Count</th>\n",
       "      <th>Developer</th>\n",
       "      <th>Rating</th>\n",
       "    </tr>\n",
       "  </thead>\n",
       "  <tbody>\n",
       "    <tr>\n",
       "      <th>0</th>\n",
       "      <td>Wii Sports</td>\n",
       "      <td>Wii</td>\n",
       "      <td>2006.0</td>\n",
       "      <td>Sports</td>\n",
       "      <td>Nintendo</td>\n",
       "      <td>41.36</td>\n",
       "      <td>28.96</td>\n",
       "      <td>3.77</td>\n",
       "      <td>8.45</td>\n",
       "      <td>82.53</td>\n",
       "      <td>76.0</td>\n",
       "      <td>51.0</td>\n",
       "      <td>8</td>\n",
       "      <td>322.0</td>\n",
       "      <td>Nintendo</td>\n",
       "      <td>E</td>\n",
       "    </tr>\n",
       "    <tr>\n",
       "      <th>1</th>\n",
       "      <td>Super Mario Bros.</td>\n",
       "      <td>NES</td>\n",
       "      <td>1985.0</td>\n",
       "      <td>Platform</td>\n",
       "      <td>Nintendo</td>\n",
       "      <td>29.08</td>\n",
       "      <td>3.58</td>\n",
       "      <td>6.81</td>\n",
       "      <td>0.77</td>\n",
       "      <td>40.24</td>\n",
       "      <td>NaN</td>\n",
       "      <td>NaN</td>\n",
       "      <td>NaN</td>\n",
       "      <td>NaN</td>\n",
       "      <td>NaN</td>\n",
       "      <td>NaN</td>\n",
       "    </tr>\n",
       "    <tr>\n",
       "      <th>2</th>\n",
       "      <td>Mario Kart Wii</td>\n",
       "      <td>Wii</td>\n",
       "      <td>2008.0</td>\n",
       "      <td>Racing</td>\n",
       "      <td>Nintendo</td>\n",
       "      <td>15.68</td>\n",
       "      <td>12.76</td>\n",
       "      <td>3.79</td>\n",
       "      <td>3.29</td>\n",
       "      <td>35.52</td>\n",
       "      <td>82.0</td>\n",
       "      <td>73.0</td>\n",
       "      <td>8.3</td>\n",
       "      <td>709.0</td>\n",
       "      <td>Nintendo</td>\n",
       "      <td>E</td>\n",
       "    </tr>\n",
       "    <tr>\n",
       "      <th>3</th>\n",
       "      <td>Wii Sports Resort</td>\n",
       "      <td>Wii</td>\n",
       "      <td>2009.0</td>\n",
       "      <td>Sports</td>\n",
       "      <td>Nintendo</td>\n",
       "      <td>15.61</td>\n",
       "      <td>10.93</td>\n",
       "      <td>3.28</td>\n",
       "      <td>2.95</td>\n",
       "      <td>32.77</td>\n",
       "      <td>80.0</td>\n",
       "      <td>73.0</td>\n",
       "      <td>8</td>\n",
       "      <td>192.0</td>\n",
       "      <td>Nintendo</td>\n",
       "      <td>E</td>\n",
       "    </tr>\n",
       "    <tr>\n",
       "      <th>4</th>\n",
       "      <td>Pokemon Red/Pokemon Blue</td>\n",
       "      <td>GB</td>\n",
       "      <td>1996.0</td>\n",
       "      <td>Role-Playing</td>\n",
       "      <td>Nintendo</td>\n",
       "      <td>11.27</td>\n",
       "      <td>8.89</td>\n",
       "      <td>10.22</td>\n",
       "      <td>1.00</td>\n",
       "      <td>31.37</td>\n",
       "      <td>NaN</td>\n",
       "      <td>NaN</td>\n",
       "      <td>NaN</td>\n",
       "      <td>NaN</td>\n",
       "      <td>NaN</td>\n",
       "      <td>NaN</td>\n",
       "    </tr>\n",
       "  </tbody>\n",
       "</table>\n",
       "</div>"
      ],
      "text/plain": [
       "                       Name Platform  Year_of_Release         Genre Publisher  \\\n",
       "0                Wii Sports      Wii           2006.0        Sports  Nintendo   \n",
       "1         Super Mario Bros.      NES           1985.0      Platform  Nintendo   \n",
       "2            Mario Kart Wii      Wii           2008.0        Racing  Nintendo   \n",
       "3         Wii Sports Resort      Wii           2009.0        Sports  Nintendo   \n",
       "4  Pokemon Red/Pokemon Blue       GB           1996.0  Role-Playing  Nintendo   \n",
       "\n",
       "   NA_Sales  EU_Sales  JP_Sales  Other_Sales  Global_Sales  Critic_Score  \\\n",
       "0     41.36     28.96      3.77         8.45         82.53          76.0   \n",
       "1     29.08      3.58      6.81         0.77         40.24           NaN   \n",
       "2     15.68     12.76      3.79         3.29         35.52          82.0   \n",
       "3     15.61     10.93      3.28         2.95         32.77          80.0   \n",
       "4     11.27      8.89     10.22         1.00         31.37           NaN   \n",
       "\n",
       "   Critic_Count User_Score  User_Count Developer Rating  \n",
       "0          51.0          8       322.0  Nintendo      E  \n",
       "1           NaN        NaN         NaN       NaN    NaN  \n",
       "2          73.0        8.3       709.0  Nintendo      E  \n",
       "3          73.0          8       192.0  Nintendo      E  \n",
       "4           NaN        NaN         NaN       NaN    NaN  "
      ]
     },
     "execution_count": 95,
     "metadata": {},
     "output_type": "execute_result"
    }
   ],
   "source": [
    "df = pd.read_csv('data/video_games_sales.csv')\n",
    "df.head()"
   ]
  },
  {
   "cell_type": "code",
   "execution_count": 96,
   "metadata": {},
   "outputs": [
    {
     "name": "stdout",
     "output_type": "stream",
     "text": [
      "Dimension of dataset: (16719, 16)\n"
     ]
    },
    {
     "data": {
      "text/plain": [
       "Name                object\n",
       "Platform            object\n",
       "Year_of_Release    float64\n",
       "Genre               object\n",
       "Publisher           object\n",
       "NA_Sales           float64\n",
       "EU_Sales           float64\n",
       "JP_Sales           float64\n",
       "Other_Sales        float64\n",
       "Global_Sales       float64\n",
       "Critic_Score       float64\n",
       "Critic_Count       float64\n",
       "User_Score          object\n",
       "User_Count         float64\n",
       "Developer           object\n",
       "Rating              object\n",
       "dtype: object"
      ]
     },
     "execution_count": 96,
     "metadata": {},
     "output_type": "execute_result"
    }
   ],
   "source": [
    "print('Dimension of dataset: {}'.format(df.shape))\n",
    "df.dtypes"
   ]
  },
  {
   "cell_type": "code",
   "execution_count": 17,
   "metadata": {},
   "outputs": [
    {
     "data": {
      "text/plain": [
       "Name                  2\n",
       "Platform              0\n",
       "Year_of_Release     269\n",
       "Genre                 2\n",
       "Publisher            54\n",
       "NA_Sales              0\n",
       "EU_Sales              0\n",
       "JP_Sales              0\n",
       "Other_Sales           0\n",
       "Global_Sales          0\n",
       "Critic_Score       8582\n",
       "Critic_Count       8582\n",
       "User_Score         6704\n",
       "User_Count         9129\n",
       "Developer          6623\n",
       "Rating             6769\n",
       "dtype: int64"
      ]
     },
     "execution_count": 17,
     "metadata": {},
     "output_type": "execute_result"
    }
   ],
   "source": [
    "df.isna().sum()"
   ]
  },
  {
   "cell_type": "code",
   "execution_count": 18,
   "metadata": {},
   "outputs": [
    {
     "data": {
      "text/html": [
       "<div>\n",
       "<style scoped>\n",
       "    .dataframe tbody tr th:only-of-type {\n",
       "        vertical-align: middle;\n",
       "    }\n",
       "\n",
       "    .dataframe tbody tr th {\n",
       "        vertical-align: top;\n",
       "    }\n",
       "\n",
       "    .dataframe thead th {\n",
       "        text-align: right;\n",
       "    }\n",
       "</style>\n",
       "<table border=\"1\" class=\"dataframe\">\n",
       "  <thead>\n",
       "    <tr style=\"text-align: right;\">\n",
       "      <th></th>\n",
       "      <th>Year_of_Release</th>\n",
       "      <th>NA_Sales</th>\n",
       "      <th>EU_Sales</th>\n",
       "      <th>JP_Sales</th>\n",
       "      <th>Other_Sales</th>\n",
       "      <th>Global_Sales</th>\n",
       "      <th>Critic_Score</th>\n",
       "      <th>Critic_Count</th>\n",
       "      <th>User_Count</th>\n",
       "    </tr>\n",
       "  </thead>\n",
       "  <tbody>\n",
       "    <tr>\n",
       "      <th>count</th>\n",
       "      <td>16450.000000</td>\n",
       "      <td>16719.000000</td>\n",
       "      <td>16719.000000</td>\n",
       "      <td>16719.000000</td>\n",
       "      <td>16719.000000</td>\n",
       "      <td>16719.000000</td>\n",
       "      <td>8137.000000</td>\n",
       "      <td>8137.000000</td>\n",
       "      <td>7590.000000</td>\n",
       "    </tr>\n",
       "    <tr>\n",
       "      <th>mean</th>\n",
       "      <td>2006.487356</td>\n",
       "      <td>0.263330</td>\n",
       "      <td>0.145025</td>\n",
       "      <td>0.077602</td>\n",
       "      <td>0.047332</td>\n",
       "      <td>0.533543</td>\n",
       "      <td>68.967679</td>\n",
       "      <td>26.360821</td>\n",
       "      <td>162.229908</td>\n",
       "    </tr>\n",
       "    <tr>\n",
       "      <th>std</th>\n",
       "      <td>5.878995</td>\n",
       "      <td>0.813514</td>\n",
       "      <td>0.503283</td>\n",
       "      <td>0.308818</td>\n",
       "      <td>0.186710</td>\n",
       "      <td>1.547935</td>\n",
       "      <td>13.938165</td>\n",
       "      <td>18.980495</td>\n",
       "      <td>561.282326</td>\n",
       "    </tr>\n",
       "    <tr>\n",
       "      <th>min</th>\n",
       "      <td>1980.000000</td>\n",
       "      <td>0.000000</td>\n",
       "      <td>0.000000</td>\n",
       "      <td>0.000000</td>\n",
       "      <td>0.000000</td>\n",
       "      <td>0.010000</td>\n",
       "      <td>13.000000</td>\n",
       "      <td>3.000000</td>\n",
       "      <td>4.000000</td>\n",
       "    </tr>\n",
       "    <tr>\n",
       "      <th>25%</th>\n",
       "      <td>2003.000000</td>\n",
       "      <td>0.000000</td>\n",
       "      <td>0.000000</td>\n",
       "      <td>0.000000</td>\n",
       "      <td>0.000000</td>\n",
       "      <td>0.060000</td>\n",
       "      <td>60.000000</td>\n",
       "      <td>12.000000</td>\n",
       "      <td>10.000000</td>\n",
       "    </tr>\n",
       "    <tr>\n",
       "      <th>50%</th>\n",
       "      <td>2007.000000</td>\n",
       "      <td>0.080000</td>\n",
       "      <td>0.020000</td>\n",
       "      <td>0.000000</td>\n",
       "      <td>0.010000</td>\n",
       "      <td>0.170000</td>\n",
       "      <td>71.000000</td>\n",
       "      <td>21.000000</td>\n",
       "      <td>24.000000</td>\n",
       "    </tr>\n",
       "    <tr>\n",
       "      <th>75%</th>\n",
       "      <td>2010.000000</td>\n",
       "      <td>0.240000</td>\n",
       "      <td>0.110000</td>\n",
       "      <td>0.040000</td>\n",
       "      <td>0.030000</td>\n",
       "      <td>0.470000</td>\n",
       "      <td>79.000000</td>\n",
       "      <td>36.000000</td>\n",
       "      <td>81.000000</td>\n",
       "    </tr>\n",
       "    <tr>\n",
       "      <th>max</th>\n",
       "      <td>2020.000000</td>\n",
       "      <td>41.360000</td>\n",
       "      <td>28.960000</td>\n",
       "      <td>10.220000</td>\n",
       "      <td>10.570000</td>\n",
       "      <td>82.530000</td>\n",
       "      <td>98.000000</td>\n",
       "      <td>113.000000</td>\n",
       "      <td>10665.000000</td>\n",
       "    </tr>\n",
       "  </tbody>\n",
       "</table>\n",
       "</div>"
      ],
      "text/plain": [
       "       Year_of_Release      NA_Sales      EU_Sales      JP_Sales  \\\n",
       "count     16450.000000  16719.000000  16719.000000  16719.000000   \n",
       "mean       2006.487356      0.263330      0.145025      0.077602   \n",
       "std           5.878995      0.813514      0.503283      0.308818   \n",
       "min        1980.000000      0.000000      0.000000      0.000000   \n",
       "25%        2003.000000      0.000000      0.000000      0.000000   \n",
       "50%        2007.000000      0.080000      0.020000      0.000000   \n",
       "75%        2010.000000      0.240000      0.110000      0.040000   \n",
       "max        2020.000000     41.360000     28.960000     10.220000   \n",
       "\n",
       "        Other_Sales  Global_Sales  Critic_Score  Critic_Count    User_Count  \n",
       "count  16719.000000  16719.000000   8137.000000   8137.000000   7590.000000  \n",
       "mean       0.047332      0.533543     68.967679     26.360821    162.229908  \n",
       "std        0.186710      1.547935     13.938165     18.980495    561.282326  \n",
       "min        0.000000      0.010000     13.000000      3.000000      4.000000  \n",
       "25%        0.000000      0.060000     60.000000     12.000000     10.000000  \n",
       "50%        0.010000      0.170000     71.000000     21.000000     24.000000  \n",
       "75%        0.030000      0.470000     79.000000     36.000000     81.000000  \n",
       "max       10.570000     82.530000     98.000000    113.000000  10665.000000  "
      ]
     },
     "execution_count": 18,
     "metadata": {},
     "output_type": "execute_result"
    }
   ],
   "source": [
    "df.describe()"
   ]
  },
  {
   "cell_type": "code",
   "execution_count": 19,
   "metadata": {},
   "outputs": [],
   "source": [
    "df.dropna(inplace=True)"
   ]
  },
  {
   "cell_type": "code",
   "execution_count": 20,
   "metadata": {},
   "outputs": [
    {
     "data": {
      "text/plain": [
       "<matplotlib.axes._subplots.AxesSubplot at 0x105b68b50>"
      ]
     },
     "execution_count": 20,
     "metadata": {},
     "output_type": "execute_result"
    },
    {
     "data": {
      "image/png": "[encoded data removed]",
      "text/plain": [
       "<Figure size 432x288 with 2 Axes>"
      ]
     },
     "metadata": {
      "needs_background": "light"
     },
     "output_type": "display_data"
    }
   ],
   "source": [
    "data = df[['NA_Sales', 'EU_Sales', 'JP_Sales', 'Other_Sales', 'Global_Sales', 'Critic_Score', 'Critic_Count', 'User_Count']]\n",
    "cor = data.corr()\n",
    "sns.heatmap(data.corr(), square = True, cmap='OrRd')"
   ]
  },
  {
   "cell_type": "code",
   "execution_count": 21,
   "metadata": {},
   "outputs": [],
   "source": [
    "data = data[['NA_Sales', 'EU_Sales', 'JP_Sales', 'Other_Sales', 'Global_Sales']]"
   ]
  },
  {
   "cell_type": "code",
   "execution_count": 22,
   "metadata": {},
   "outputs": [
    {
     "data": {
      "text/plain": [
       "array([[42.34974137, 41.79363059, 12.88771102, 31.00717562, 41.6403271 ],\n",
       "       [15.80201412, 18.22243848, 12.95726451, 11.88552527, 17.69593487],\n",
       "       [15.72964882, 15.55976677, 11.18365057, 10.62557157, 16.29523122],\n",
       "       ...,\n",
       "       [-0.40781312, -0.32896273, -0.22312148, -0.30637969, -0.39096937],\n",
       "       [-0.39747522, -0.34351284, -0.22312148, -0.30637969, -0.39096937],\n",
       "       [-0.40781312, -0.32896273, -0.22312148, -0.30637969, -0.39096937]])"
      ]
     },
     "execution_count": 22,
     "metadata": {},
     "output_type": "execute_result"
    }
   ],
   "source": [
    "ss = StandardScaler()\n",
    "scaled = ss.fit_transform(data)\n",
    "scaled"
   ]
  },
  {
   "cell_type": "code",
   "execution_count": 23,
   "metadata": {},
   "outputs": [],
   "source": [
    "kmeans = KMeans(n_clusters=3)"
   ]
  },
  {
   "cell_type": "code",
   "execution_count": 24,
   "metadata": {},
   "outputs": [
    {
     "data": {
      "text/plain": [
       "KMeans(algorithm='auto', copy_x=True, init='k-means++', max_iter=300,\n",
       "       n_clusters=3, n_init=10, n_jobs=None, precompute_distances='auto',\n",
       "       random_state=None, tol=0.0001, verbose=0)"
      ]
     },
     "execution_count": 24,
     "metadata": {},
     "output_type": "execute_result"
    }
   ],
   "source": [
    "kmeans.fit(scaled)"
   ]
  },
  {
   "cell_type": "code",
   "execution_count": 25,
   "metadata": {},
   "outputs": [
    {
     "data": {
      "text/plain": [
       "array([[ 2.18652213,  2.29745373,  1.60053425,  1.96647797,  2.38592877],\n",
       "       [12.17685718, 12.3480706 , 10.77560344, 13.39005823, 13.74068732],\n",
       "       [-0.12988613, -0.13544637, -0.09936928, -0.12243641, -0.14277651]])"
      ]
     },
     "execution_count": 25,
     "metadata": {},
     "output_type": "execute_result"
    }
   ],
   "source": [
    "kmeans.cluster_centers_"
   ]
  },
  {
   "cell_type": "code",
   "execution_count": 26,
   "metadata": {},
   "outputs": [],
   "source": [
    "y = kmeans.fit_predict(scaled)"
   ]
  },
  {
   "cell_type": "code",
   "execution_count": 27,
   "metadata": {},
   "outputs": [
    {
     "data": {
      "text/html": [
       "<div>\n",
       "<style scoped>\n",
       "    .dataframe tbody tr th:only-of-type {\n",
       "        vertical-align: middle;\n",
       "    }\n",
       "\n",
       "    .dataframe tbody tr th {\n",
       "        vertical-align: top;\n",
       "    }\n",
       "\n",
       "    .dataframe thead th {\n",
       "        text-align: right;\n",
       "    }\n",
       "</style>\n",
       "<table border=\"1\" class=\"dataframe\">\n",
       "  <thead>\n",
       "    <tr style=\"text-align: right;\">\n",
       "      <th></th>\n",
       "      <th>NA_Sales</th>\n",
       "      <th>EU_Sales</th>\n",
       "      <th>JP_Sales</th>\n",
       "      <th>Other_Sales</th>\n",
       "      <th>Global_Sales</th>\n",
       "      <th>kmeans</th>\n",
       "    </tr>\n",
       "  </thead>\n",
       "  <tbody>\n",
       "    <tr>\n",
       "      <th>0</th>\n",
       "      <td>41.36</td>\n",
       "      <td>28.96</td>\n",
       "      <td>3.77</td>\n",
       "      <td>8.45</td>\n",
       "      <td>82.53</td>\n",
       "      <td>2</td>\n",
       "    </tr>\n",
       "    <tr>\n",
       "      <th>2</th>\n",
       "      <td>15.68</td>\n",
       "      <td>12.76</td>\n",
       "      <td>3.79</td>\n",
       "      <td>3.29</td>\n",
       "      <td>35.52</td>\n",
       "      <td>2</td>\n",
       "    </tr>\n",
       "    <tr>\n",
       "      <th>3</th>\n",
       "      <td>15.61</td>\n",
       "      <td>10.93</td>\n",
       "      <td>3.28</td>\n",
       "      <td>2.95</td>\n",
       "      <td>32.77</td>\n",
       "      <td>2</td>\n",
       "    </tr>\n",
       "    <tr>\n",
       "      <th>6</th>\n",
       "      <td>11.28</td>\n",
       "      <td>9.14</td>\n",
       "      <td>6.50</td>\n",
       "      <td>2.88</td>\n",
       "      <td>29.80</td>\n",
       "      <td>2</td>\n",
       "    </tr>\n",
       "    <tr>\n",
       "      <th>7</th>\n",
       "      <td>13.96</td>\n",
       "      <td>9.18</td>\n",
       "      <td>2.93</td>\n",
       "      <td>2.84</td>\n",
       "      <td>28.92</td>\n",
       "      <td>2</td>\n",
       "    </tr>\n",
       "  </tbody>\n",
       "</table>\n",
       "</div>"
      ],
      "text/plain": [
       "   NA_Sales  EU_Sales  JP_Sales  Other_Sales  Global_Sales  kmeans\n",
       "0     41.36     28.96      3.77         8.45         82.53       2\n",
       "2     15.68     12.76      3.79         3.29         35.52       2\n",
       "3     15.61     10.93      3.28         2.95         32.77       2\n",
       "6     11.28      9.14      6.50         2.88         29.80       2\n",
       "7     13.96      9.18      2.93         2.84         28.92       2"
      ]
     },
     "execution_count": 27,
     "metadata": {},
     "output_type": "execute_result"
    }
   ],
   "source": [
    "data['kmeans'] = y\n",
    "data.head()"
   ]
  },
  {
   "cell_type": "code",
   "execution_count": 28,
   "metadata": {
    "scrolled": false
   },
   "outputs": [
    {
     "name": "stdout",
     "output_type": "stream",
     "text": [
      "K=2\n",
      "        NA_Sales   EU_Sales   JP_Sales  Other_Sales  Global_Sales  kmeans\n",
      "count  15.000000  15.000000  15.000000    15.000000     15.000000    15.0\n",
      "mean   12.173333   8.722667   3.162667     3.696000     27.754667     2.0\n",
      "std     9.139770   6.589985   1.825324     2.819364     16.419336     0.0\n",
      "min     3.010000   0.010000   0.240000     1.180000     11.660000     2.0\n",
      "25%     7.970000   6.145000   1.815000     1.970000     20.925000     2.0\n",
      "50%     9.710000   8.490000   3.600000     2.840000     22.700000     2.0\n",
      "75%    14.720000   9.190000   4.145000     3.625000     29.360000     2.0\n",
      "max    41.360000  28.960000   6.500000    10.570000     82.530000     2.0\n",
      "================================\n",
      "K=0\n",
      "         NA_Sales    EU_Sales    JP_Sales  Other_Sales  Global_Sales  kmeans\n",
      "count  303.000000  303.000000  303.000000   303.000000    303.000000   303.0\n",
      "mean     2.509538    1.815083    0.524389     0.613333      5.461881     0.0\n",
      "std      1.701621    1.188990    0.844732     0.444749      2.729743     0.0\n",
      "min      0.050000    0.000000    0.000000     0.000000      2.280000     0.0\n",
      "25%      1.385000    1.090000    0.040000     0.330000      3.610000     0.0\n",
      "50%      2.150000    1.570000    0.120000     0.500000      4.490000     0.0\n",
      "75%      3.090000    2.185000    0.750000     0.755000      6.370000     0.0\n",
      "max      9.700000    6.420000    5.330000     2.930000     16.270000     0.0\n",
      "================================\n",
      "K=1\n",
      "          NA_Sales     EU_Sales     JP_Sales  Other_Sales  Global_Sales  \\\n",
      "count  6507.000000  6507.000000  6507.000000  6507.000000   6507.000000   \n",
      "mean      0.268843     0.143000     0.035585     0.049637      0.497277   \n",
      "std       0.351296     0.213559     0.116744     0.076129      0.582331   \n",
      "min       0.000000     0.000000     0.000000     0.000000      0.010000   \n",
      "25%       0.060000     0.020000     0.000000     0.010000      0.110000   \n",
      "50%       0.140000     0.050000     0.000000     0.020000      0.270000   \n",
      "75%       0.340000     0.180000     0.010000     0.060000      0.650000   \n",
      "max       2.850000     2.050000     1.490000     1.180000      3.490000   \n",
      "\n",
      "       kmeans  \n",
      "count  6507.0  \n",
      "mean      1.0  \n",
      "std       0.0  \n",
      "min       1.0  \n",
      "25%       1.0  \n",
      "50%       1.0  \n",
      "75%       1.0  \n",
      "max       1.0  \n",
      "================================\n"
     ]
    }
   ],
   "source": [
    "for k in data.kmeans.unique():\n",
    "    print('K={}'.format(k))\n",
    "    print(data[data.kmeans == k].describe())\n",
    "    print('================================')"
   ]
  }
 ],
 "metadata": {
  "kernelspec": {
   "display_name": "Python 3",
   "language": "python",
   "name": "python3"
  },
  "language_info": {
   "codemirror_mode": {
    "name": "ipython",
    "version": 3
   },
   "file_extension": ".py",
   "mimetype": "text/x-python",
   "name": "python",
   "nbconvert_exporter": "python",
   "pygments_lexer": "ipython3",
   "version": "3.7.6"
  }
 },
 "nbformat": 4,
 "nbformat_minor": 4
}
