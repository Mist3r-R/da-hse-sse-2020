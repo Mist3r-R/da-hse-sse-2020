{
 "cells": [
  {
   "attachments": {},
   "cell_type": "markdown",
   "metadata": {},
   "source": [
    "# 15.02.20\n",
    "\n",
    "**Author:** Miron Rogovets\n",
    "\n",
    "---\n",
    "\n",
    "### Task 1. Open Worldbank_data.dta file.\n",
    "\n",
    "Do the cluster analysis using hierarchical clustering algorithm. Select not less than 4 interval variables for the analysis. Don’t forget to standardize the values of variables if needed.\n",
    "\n",
    "1. Define the number of clusters. Explain your decision.\n",
    "2. Create a dendrogram.\n",
    "3. Describe the clusters using descriptive statistics.\n",
    "4. Try to name the obtained clusters.\n",
    "5. Save cluster membership variable in the file."
   ]
  },
  {
   "cell_type": "code",
   "execution_count": 1,
   "metadata": {},
   "outputs": [],
   "source": [
    "import pandas as pd\n",
    "import numpy as np\n",
    "import matplotlib.pyplot as plt\n",
    "import seaborn as sns\n",
    "from sklearn.preprocessing import StandardScaler\n",
    "import scipy.cluster.hierarchy as sch\n",
    "from sklearn.cluster import KMeans, AgglomerativeClustering"
   ]
  },
  {
   "cell_type": "code",
   "execution_count": 2,
   "metadata": {},
   "outputs": [
    {
     "data": {
      "text/html": [
       "<div>\n",
       "<style scoped>\n",
       "    .dataframe tbody tr th:only-of-type {\n",
       "        vertical-align: middle;\n",
       "    }\n",
       "\n",
       "    .dataframe tbody tr th {\n",
       "        vertical-align: top;\n",
       "    }\n",
       "\n",
       "    .dataframe thead th {\n",
       "        text-align: right;\n",
       "    }\n",
       "</style>\n",
       "<table border=\"1\" class=\"dataframe\">\n",
       "  <thead>\n",
       "    <tr style=\"text-align: right;\">\n",
       "      <th></th>\n",
       "      <th>year</th>\n",
       "      <th>groups</th>\n",
       "      <th>country_name</th>\n",
       "      <th>country_code</th>\n",
       "      <th>internet</th>\n",
       "      <th>secure</th>\n",
       "      <th>export</th>\n",
       "      <th>import</th>\n",
       "      <th>telephone</th>\n",
       "      <th>hightech</th>\n",
       "      <th>mobile</th>\n",
       "    </tr>\n",
       "  </thead>\n",
       "  <tbody>\n",
       "    <tr>\n",
       "      <th>0</th>\n",
       "      <td>2015.0</td>\n",
       "      <td>3.0</td>\n",
       "      <td>Afghanistan</td>\n",
       "      <td>AFG</td>\n",
       "      <td>8.260000</td>\n",
       "      <td>1.414229</td>\n",
       "      <td>72.652794</td>\n",
       "      <td>9.053154</td>\n",
       "      <td>0.343677</td>\n",
       "      <td>NaN</td>\n",
       "      <td>61.577619</td>\n",
       "    </tr>\n",
       "    <tr>\n",
       "      <th>1</th>\n",
       "      <td>2015.0</td>\n",
       "      <td>2.0</td>\n",
       "      <td>Albania</td>\n",
       "      <td>ALB</td>\n",
       "      <td>63.252933</td>\n",
       "      <td>37.727137</td>\n",
       "      <td>25.303169</td>\n",
       "      <td>11.124101</td>\n",
       "      <td>7.091628</td>\n",
       "      <td>15123662.0</td>\n",
       "      <td>106.380207</td>\n",
       "    </tr>\n",
       "    <tr>\n",
       "      <th>2</th>\n",
       "      <td>2015.0</td>\n",
       "      <td>2.0</td>\n",
       "      <td>Algeria</td>\n",
       "      <td>DZA</td>\n",
       "      <td>38.200000</td>\n",
       "      <td>2.546228</td>\n",
       "      <td>59.256825</td>\n",
       "      <td>58.012028</td>\n",
       "      <td>8.041628</td>\n",
       "      <td>2449466.0</td>\n",
       "      <td>113.031094</td>\n",
       "    </tr>\n",
       "    <tr>\n",
       "      <th>3</th>\n",
       "      <td>2015.0</td>\n",
       "      <td>3.0</td>\n",
       "      <td>American Samoa</td>\n",
       "      <td>ASM</td>\n",
       "      <td>NaN</td>\n",
       "      <td>72.022759</td>\n",
       "      <td>NaN</td>\n",
       "      <td>NaN</td>\n",
       "      <td>18.005690</td>\n",
       "      <td>NaN</td>\n",
       "      <td>NaN</td>\n",
       "    </tr>\n",
       "    <tr>\n",
       "      <th>4</th>\n",
       "      <td>2015.0</td>\n",
       "      <td>1.0</td>\n",
       "      <td>Andorra</td>\n",
       "      <td>ADO</td>\n",
       "      <td>96.910000</td>\n",
       "      <td>1631.830630</td>\n",
       "      <td>NaN</td>\n",
       "      <td>NaN</td>\n",
       "      <td>47.992588</td>\n",
       "      <td>NaN</td>\n",
       "      <td>88.123533</td>\n",
       "    </tr>\n",
       "  </tbody>\n",
       "</table>\n",
       "</div>"
      ],
      "text/plain": [
       "     year  groups    country_name country_code   internet       secure  \\\n",
       "0  2015.0     3.0     Afghanistan          AFG   8.260000     1.414229   \n",
       "1  2015.0     2.0         Albania          ALB  63.252933    37.727137   \n",
       "2  2015.0     2.0         Algeria          DZA  38.200000     2.546228   \n",
       "3  2015.0     3.0  American Samoa          ASM        NaN    72.022759   \n",
       "4  2015.0     1.0         Andorra          ADO  96.910000  1631.830630   \n",
       "\n",
       "      export     import  telephone    hightech      mobile  \n",
       "0  72.652794   9.053154   0.343677         NaN   61.577619  \n",
       "1  25.303169  11.124101   7.091628  15123662.0  106.380207  \n",
       "2  59.256825  58.012028   8.041628   2449466.0  113.031094  \n",
       "3        NaN        NaN  18.005690         NaN         NaN  \n",
       "4        NaN        NaN  47.992588         NaN   88.123533  "
      ]
     },
     "execution_count": 2,
     "metadata": {},
     "output_type": "execute_result"
    }
   ],
   "source": [
    "df = pd.read_stata('data/Worldbank_data.dta')\n",
    "df.head()"
   ]
  },
  {
   "cell_type": "code",
   "execution_count": 3,
   "metadata": {},
   "outputs": [
    {
     "name": "stdout",
     "output_type": "stream",
     "text": [
      "Dimension of dataset: (217, 11)\n"
     ]
    },
    {
     "data": {
      "text/plain": [
       "year            float64\n",
       "groups          float64\n",
       "country_name     object\n",
       "country_code     object\n",
       "internet        float64\n",
       "secure          float64\n",
       "export          float64\n",
       "import          float64\n",
       "telephone       float64\n",
       "hightech        float64\n",
       "mobile          float64\n",
       "dtype: object"
      ]
     },
     "execution_count": 3,
     "metadata": {},
     "output_type": "execute_result"
    }
   ],
   "source": [
    "print('Dimension of dataset: {}'.format(df.shape))\n",
    "df.dtypes"
   ]
  },
  {
   "cell_type": "code",
   "execution_count": 4,
   "metadata": {},
   "outputs": [
    {
     "data": {
      "text/plain": [
       "array([3., 2., 1.])"
      ]
     },
     "execution_count": 4,
     "metadata": {},
     "output_type": "execute_result"
    }
   ],
   "source": [
    "df.groups.unique()"
   ]
  },
  {
   "cell_type": "code",
   "execution_count": 5,
   "metadata": {},
   "outputs": [
    {
     "data": {
      "text/plain": [
       "year             0\n",
       "groups           0\n",
       "country_name     0\n",
       "country_code     0\n",
       "internet        15\n",
       "secure          10\n",
       "export          73\n",
       "import          94\n",
       "telephone        8\n",
       "hightech        82\n",
       "mobile          13\n",
       "dtype: int64"
      ]
     },
     "execution_count": 5,
     "metadata": {},
     "output_type": "execute_result"
    }
   ],
   "source": [
    "df.isna().sum()"
   ]
  },
  {
   "cell_type": "code",
   "execution_count": 6,
   "metadata": {},
   "outputs": [
    {
     "data": {
      "text/html": [
       "<div>\n",
       "<style scoped>\n",
       "    .dataframe tbody tr th:only-of-type {\n",
       "        vertical-align: middle;\n",
       "    }\n",
       "\n",
       "    .dataframe tbody tr th {\n",
       "        vertical-align: top;\n",
       "    }\n",
       "\n",
       "    .dataframe thead th {\n",
       "        text-align: right;\n",
       "    }\n",
       "</style>\n",
       "<table border=\"1\" class=\"dataframe\">\n",
       "  <thead>\n",
       "    <tr style=\"text-align: right;\">\n",
       "      <th></th>\n",
       "      <th>year</th>\n",
       "      <th>groups</th>\n",
       "      <th>internet</th>\n",
       "      <th>secure</th>\n",
       "      <th>export</th>\n",
       "      <th>import</th>\n",
       "      <th>telephone</th>\n",
       "      <th>hightech</th>\n",
       "      <th>mobile</th>\n",
       "    </tr>\n",
       "  </thead>\n",
       "  <tbody>\n",
       "    <tr>\n",
       "      <th>count</th>\n",
       "      <td>217.0</td>\n",
       "      <td>217.000000</td>\n",
       "      <td>202.000000</td>\n",
       "      <td>207.000000</td>\n",
       "      <td>144.000000</td>\n",
       "      <td>123.000000</td>\n",
       "      <td>209.000000</td>\n",
       "      <td>1.350000e+02</td>\n",
       "      <td>204.000000</td>\n",
       "    </tr>\n",
       "    <tr>\n",
       "      <th>mean</th>\n",
       "      <td>2015.0</td>\n",
       "      <td>2.110599</td>\n",
       "      <td>48.573173</td>\n",
       "      <td>462.902665</td>\n",
       "      <td>35.117770</td>\n",
       "      <td>37.832033</td>\n",
       "      <td>18.336921</td>\n",
       "      <td>1.490164e+10</td>\n",
       "      <td>107.722941</td>\n",
       "    </tr>\n",
       "    <tr>\n",
       "      <th>std</th>\n",
       "      <td>0.0</td>\n",
       "      <td>0.808936</td>\n",
       "      <td>29.032396</td>\n",
       "      <td>1140.454338</td>\n",
       "      <td>21.362562</td>\n",
       "      <td>16.288464</td>\n",
       "      <td>18.339808</td>\n",
       "      <td>5.546809e+10</td>\n",
       "      <td>42.329588</td>\n",
       "    </tr>\n",
       "    <tr>\n",
       "      <th>min</th>\n",
       "      <td>2015.0</td>\n",
       "      <td>1.000000</td>\n",
       "      <td>1.083733</td>\n",
       "      <td>0.039753</td>\n",
       "      <td>1.661690</td>\n",
       "      <td>4.637094</td>\n",
       "      <td>0.000000</td>\n",
       "      <td>0.000000e+00</td>\n",
       "      <td>7.049953</td>\n",
       "    </tr>\n",
       "    <tr>\n",
       "      <th>25%</th>\n",
       "      <td>2015.0</td>\n",
       "      <td>1.000000</td>\n",
       "      <td>21.000000</td>\n",
       "      <td>5.499596</td>\n",
       "      <td>17.865648</td>\n",
       "      <td>25.473076</td>\n",
       "      <td>2.977923</td>\n",
       "      <td>7.652986e+06</td>\n",
       "      <td>80.555543</td>\n",
       "    </tr>\n",
       "    <tr>\n",
       "      <th>50%</th>\n",
       "      <td>2015.0</td>\n",
       "      <td>2.000000</td>\n",
       "      <td>50.219659</td>\n",
       "      <td>51.873000</td>\n",
       "      <td>31.909565</td>\n",
       "      <td>37.910044</td>\n",
       "      <td>13.395103</td>\n",
       "      <td>1.101963e+08</td>\n",
       "      <td>109.340703</td>\n",
       "    </tr>\n",
       "    <tr>\n",
       "      <th>75%</th>\n",
       "      <td>2015.0</td>\n",
       "      <td>3.000000</td>\n",
       "      <td>73.129675</td>\n",
       "      <td>326.749504</td>\n",
       "      <td>49.747775</td>\n",
       "      <td>48.733326</td>\n",
       "      <td>29.921121</td>\n",
       "      <td>3.190229e+09</td>\n",
       "      <td>130.444475</td>\n",
       "    </tr>\n",
       "    <tr>\n",
       "      <th>max</th>\n",
       "      <td>2015.0</td>\n",
       "      <td>3.000000</td>\n",
       "      <td>98.323610</td>\n",
       "      <td>10231.541925</td>\n",
       "      <td>86.376427</td>\n",
       "      <td>84.684010</td>\n",
       "      <td>128.092380</td>\n",
       "      <td>5.542729e+11</td>\n",
       "      <td>324.440813</td>\n",
       "    </tr>\n",
       "  </tbody>\n",
       "</table>\n",
       "</div>"
      ],
      "text/plain": [
       "         year      groups    internet        secure      export      import  \\\n",
       "count   217.0  217.000000  202.000000    207.000000  144.000000  123.000000   \n",
       "mean   2015.0    2.110599   48.573173    462.902665   35.117770   37.832033   \n",
       "std       0.0    0.808936   29.032396   1140.454338   21.362562   16.288464   \n",
       "min    2015.0    1.000000    1.083733      0.039753    1.661690    4.637094   \n",
       "25%    2015.0    1.000000   21.000000      5.499596   17.865648   25.473076   \n",
       "50%    2015.0    2.000000   50.219659     51.873000   31.909565   37.910044   \n",
       "75%    2015.0    3.000000   73.129675    326.749504   49.747775   48.733326   \n",
       "max    2015.0    3.000000   98.323610  10231.541925   86.376427   84.684010   \n",
       "\n",
       "        telephone      hightech      mobile  \n",
       "count  209.000000  1.350000e+02  204.000000  \n",
       "mean    18.336921  1.490164e+10  107.722941  \n",
       "std     18.339808  5.546809e+10   42.329588  \n",
       "min      0.000000  0.000000e+00    7.049953  \n",
       "25%      2.977923  7.652986e+06   80.555543  \n",
       "50%     13.395103  1.101963e+08  109.340703  \n",
       "75%     29.921121  3.190229e+09  130.444475  \n",
       "max    128.092380  5.542729e+11  324.440813  "
      ]
     },
     "execution_count": 6,
     "metadata": {},
     "output_type": "execute_result"
    }
   ],
   "source": [
    "df.describe()"
   ]
  },
  {
   "cell_type": "markdown",
   "metadata": {},
   "source": [
    "Our dataset is pretty small, so we should fill <code>nan</code> values. We will use <code>mean</code> values to fill <code>nan</code>"
   ]
  },
  {
   "cell_type": "code",
   "execution_count": 7,
   "metadata": {},
   "outputs": [
    {
     "name": "stdout",
     "output_type": "stream",
     "text": [
      "year            0\n",
      "groups          0\n",
      "country_name    0\n",
      "country_code    0\n",
      "internet        0\n",
      "secure          0\n",
      "export          0\n",
      "import          0\n",
      "telephone       0\n",
      "hightech        0\n",
      "mobile          0\n",
      "dtype: int64\n"
     ]
    },
    {
     "data": {
      "text/html": [
       "<div>\n",
       "<style scoped>\n",
       "    .dataframe tbody tr th:only-of-type {\n",
       "        vertical-align: middle;\n",
       "    }\n",
       "\n",
       "    .dataframe tbody tr th {\n",
       "        vertical-align: top;\n",
       "    }\n",
       "\n",
       "    .dataframe thead th {\n",
       "        text-align: right;\n",
       "    }\n",
       "</style>\n",
       "<table border=\"1\" class=\"dataframe\">\n",
       "  <thead>\n",
       "    <tr style=\"text-align: right;\">\n",
       "      <th></th>\n",
       "      <th>year</th>\n",
       "      <th>groups</th>\n",
       "      <th>country_name</th>\n",
       "      <th>country_code</th>\n",
       "      <th>internet</th>\n",
       "      <th>secure</th>\n",
       "      <th>export</th>\n",
       "      <th>import</th>\n",
       "      <th>telephone</th>\n",
       "      <th>hightech</th>\n",
       "      <th>mobile</th>\n",
       "    </tr>\n",
       "  </thead>\n",
       "  <tbody>\n",
       "    <tr>\n",
       "      <th>0</th>\n",
       "      <td>2015.0</td>\n",
       "      <td>3.0</td>\n",
       "      <td>Afghanistan</td>\n",
       "      <td>AFG</td>\n",
       "      <td>8.260000</td>\n",
       "      <td>1.414229</td>\n",
       "      <td>72.652794</td>\n",
       "      <td>9.053154</td>\n",
       "      <td>0.343677</td>\n",
       "      <td>1.490164e+10</td>\n",
       "      <td>61.577619</td>\n",
       "    </tr>\n",
       "    <tr>\n",
       "      <th>1</th>\n",
       "      <td>2015.0</td>\n",
       "      <td>2.0</td>\n",
       "      <td>Albania</td>\n",
       "      <td>ALB</td>\n",
       "      <td>63.252933</td>\n",
       "      <td>37.727137</td>\n",
       "      <td>25.303169</td>\n",
       "      <td>11.124101</td>\n",
       "      <td>7.091628</td>\n",
       "      <td>1.512366e+07</td>\n",
       "      <td>106.380207</td>\n",
       "    </tr>\n",
       "    <tr>\n",
       "      <th>2</th>\n",
       "      <td>2015.0</td>\n",
       "      <td>2.0</td>\n",
       "      <td>Algeria</td>\n",
       "      <td>DZA</td>\n",
       "      <td>38.200000</td>\n",
       "      <td>2.546228</td>\n",
       "      <td>59.256825</td>\n",
       "      <td>58.012028</td>\n",
       "      <td>8.041628</td>\n",
       "      <td>2.449466e+06</td>\n",
       "      <td>113.031094</td>\n",
       "    </tr>\n",
       "    <tr>\n",
       "      <th>3</th>\n",
       "      <td>2015.0</td>\n",
       "      <td>3.0</td>\n",
       "      <td>American Samoa</td>\n",
       "      <td>ASM</td>\n",
       "      <td>48.573173</td>\n",
       "      <td>72.022759</td>\n",
       "      <td>35.117770</td>\n",
       "      <td>37.832033</td>\n",
       "      <td>18.005690</td>\n",
       "      <td>1.490164e+10</td>\n",
       "      <td>107.722941</td>\n",
       "    </tr>\n",
       "    <tr>\n",
       "      <th>4</th>\n",
       "      <td>2015.0</td>\n",
       "      <td>1.0</td>\n",
       "      <td>Andorra</td>\n",
       "      <td>ADO</td>\n",
       "      <td>96.910000</td>\n",
       "      <td>1631.830630</td>\n",
       "      <td>35.117770</td>\n",
       "      <td>37.832033</td>\n",
       "      <td>47.992588</td>\n",
       "      <td>1.490164e+10</td>\n",
       "      <td>88.123533</td>\n",
       "    </tr>\n",
       "  </tbody>\n",
       "</table>\n",
       "</div>"
      ],
      "text/plain": [
       "     year  groups    country_name country_code   internet       secure  \\\n",
       "0  2015.0     3.0     Afghanistan          AFG   8.260000     1.414229   \n",
       "1  2015.0     2.0         Albania          ALB  63.252933    37.727137   \n",
       "2  2015.0     2.0         Algeria          DZA  38.200000     2.546228   \n",
       "3  2015.0     3.0  American Samoa          ASM  48.573173    72.022759   \n",
       "4  2015.0     1.0         Andorra          ADO  96.910000  1631.830630   \n",
       "\n",
       "      export     import  telephone      hightech      mobile  \n",
       "0  72.652794   9.053154   0.343677  1.490164e+10   61.577619  \n",
       "1  25.303169  11.124101   7.091628  1.512366e+07  106.380207  \n",
       "2  59.256825  58.012028   8.041628  2.449466e+06  113.031094  \n",
       "3  35.117770  37.832033  18.005690  1.490164e+10  107.722941  \n",
       "4  35.117770  37.832033  47.992588  1.490164e+10   88.123533  "
      ]
     },
     "execution_count": 7,
     "metadata": {},
     "output_type": "execute_result"
    }
   ],
   "source": [
    "df.fillna(df.mean(), inplace=True)\n",
    "print(df.isna().sum())\n",
    "df.head()"
   ]
  },
  {
   "cell_type": "code",
   "execution_count": 8,
   "metadata": {},
   "outputs": [
    {
     "data": {
      "text/plain": [
       "<matplotlib.axes._subplots.AxesSubplot at 0x119a5f4d0>"
      ]
     },
     "execution_count": 8,
     "metadata": {},
     "output_type": "execute_result"
    },
    {
     "data": {
      "image/png": "[encoded data removed]",
      "text/plain": [
       "<Figure size 432x288 with 2 Axes>"
      ]
     },
     "metadata": {
      "needs_background": "light"
     },
     "output_type": "display_data"
    }
   ],
   "source": [
    "data = df[['internet', 'secure', 'export', 'import', 'telephone', 'hightech', 'mobile']]\n",
    "cor = data.corr()\n",
    "sns.heatmap(data.corr(), square = True, cmap='OrRd')"
   ]
  },
  {
   "cell_type": "markdown",
   "metadata": {},
   "source": [
    "We aslo should scale the data before proceeding, since the clustering is sensitive to range of data."
   ]
  },
  {
   "cell_type": "code",
   "execution_count": 9,
   "metadata": {},
   "outputs": [
    {
     "data": {
      "text/plain": [
       "array([[-1.44276617, -0.41531649,  2.16443827, ..., -1.00210416,\n",
       "         0.        , -1.1271079 ],\n",
       "       [ 0.52537319, -0.38263669, -0.56595408, ..., -0.62628811,\n",
       "        -0.3415289 , -0.03279654],\n",
       "       [-0.37124498, -0.41429775,  1.39196645, ..., -0.57337943,\n",
       "        -0.34181967,  0.1296526 ],\n",
       "       ...,\n",
       "       [-0.84009762, -0.41601905,  1.23080611, ..., -0.76060894,\n",
       "        -0.34180826, -0.97070481],\n",
       "       [-0.98681493, -0.41270338, -1.53202292, ..., -0.97955794,\n",
       "        -0.34103841, -0.81216573],\n",
       "       [-1.15287567, -0.4106483 , -0.19869951, ..., -0.89772443,\n",
       "        -0.34164478, -0.56017047]])"
      ]
     },
     "execution_count": 9,
     "metadata": {},
     "output_type": "execute_result"
    }
   ],
   "source": [
    "ss = StandardScaler()\n",
    "scaled = ss.fit_transform(data)\n",
    "scaled"
   ]
  },
  {
   "cell_type": "code",
   "execution_count": 10,
   "metadata": {},
   "outputs": [
    {
     "data": {
      "image/png": "[encoded data removed]",
      "text/plain": [
       "<Figure size 1800x720 with 1 Axes>"
      ]
     },
     "metadata": {
      "needs_background": "light"
     },
     "output_type": "display_data"
    }
   ],
   "source": [
    "plt.figure(figsize=(25, 10))\n",
    "plt.title('Hierarchical Clustering Dendrogram')\n",
    "dendrogram = sch.dendrogram(sch.linkage(scaled, method='ward'))\n",
    "plt.ylabel('distance')\n",
    "plt.show()"
   ]
  },
  {
   "cell_type": "code",
   "execution_count": 11,
   "metadata": {},
   "outputs": [],
   "source": [
    "hc = AgglomerativeClustering(n_clusters=3, affinity = 'euclidean', linkage = 'ward')\n",
    "predicted = hc.fit_predict(scaled)"
   ]
  },
  {
   "cell_type": "code",
   "execution_count": 12,
   "metadata": {},
   "outputs": [
    {
     "data": {
      "text/html": [
       "<div>\n",
       "<style scoped>\n",
       "    .dataframe tbody tr th:only-of-type {\n",
       "        vertical-align: middle;\n",
       "    }\n",
       "\n",
       "    .dataframe tbody tr th {\n",
       "        vertical-align: top;\n",
       "    }\n",
       "\n",
       "    .dataframe thead th {\n",
       "        text-align: right;\n",
       "    }\n",
       "</style>\n",
       "<table border=\"1\" class=\"dataframe\">\n",
       "  <thead>\n",
       "    <tr style=\"text-align: right;\">\n",
       "      <th></th>\n",
       "      <th>internet</th>\n",
       "      <th>secure</th>\n",
       "      <th>export</th>\n",
       "      <th>import</th>\n",
       "      <th>telephone</th>\n",
       "      <th>hightech</th>\n",
       "      <th>mobile</th>\n",
       "      <th>hierarchial</th>\n",
       "    </tr>\n",
       "  </thead>\n",
       "  <tbody>\n",
       "    <tr>\n",
       "      <th>0</th>\n",
       "      <td>8.260000</td>\n",
       "      <td>1.414229</td>\n",
       "      <td>72.652794</td>\n",
       "      <td>9.053154</td>\n",
       "      <td>0.343677</td>\n",
       "      <td>1.490164e+10</td>\n",
       "      <td>61.577619</td>\n",
       "      <td>1</td>\n",
       "    </tr>\n",
       "    <tr>\n",
       "      <th>1</th>\n",
       "      <td>63.252933</td>\n",
       "      <td>37.727137</td>\n",
       "      <td>25.303169</td>\n",
       "      <td>11.124101</td>\n",
       "      <td>7.091628</td>\n",
       "      <td>1.512366e+07</td>\n",
       "      <td>106.380207</td>\n",
       "      <td>1</td>\n",
       "    </tr>\n",
       "    <tr>\n",
       "      <th>2</th>\n",
       "      <td>38.200000</td>\n",
       "      <td>2.546228</td>\n",
       "      <td>59.256825</td>\n",
       "      <td>58.012028</td>\n",
       "      <td>8.041628</td>\n",
       "      <td>2.449466e+06</td>\n",
       "      <td>113.031094</td>\n",
       "      <td>1</td>\n",
       "    </tr>\n",
       "    <tr>\n",
       "      <th>3</th>\n",
       "      <td>48.573173</td>\n",
       "      <td>72.022759</td>\n",
       "      <td>35.117770</td>\n",
       "      <td>37.832033</td>\n",
       "      <td>18.005690</td>\n",
       "      <td>1.490164e+10</td>\n",
       "      <td>107.722941</td>\n",
       "      <td>2</td>\n",
       "    </tr>\n",
       "    <tr>\n",
       "      <th>4</th>\n",
       "      <td>96.910000</td>\n",
       "      <td>1631.830630</td>\n",
       "      <td>35.117770</td>\n",
       "      <td>37.832033</td>\n",
       "      <td>47.992588</td>\n",
       "      <td>1.490164e+10</td>\n",
       "      <td>88.123533</td>\n",
       "      <td>2</td>\n",
       "    </tr>\n",
       "  </tbody>\n",
       "</table>\n",
       "</div>"
      ],
      "text/plain": [
       "    internet       secure     export     import  telephone      hightech  \\\n",
       "0   8.260000     1.414229  72.652794   9.053154   0.343677  1.490164e+10   \n",
       "1  63.252933    37.727137  25.303169  11.124101   7.091628  1.512366e+07   \n",
       "2  38.200000     2.546228  59.256825  58.012028   8.041628  2.449466e+06   \n",
       "3  48.573173    72.022759  35.117770  37.832033  18.005690  1.490164e+10   \n",
       "4  96.910000  1631.830630  35.117770  37.832033  47.992588  1.490164e+10   \n",
       "\n",
       "       mobile  hierarchial  \n",
       "0   61.577619            1  \n",
       "1  106.380207            1  \n",
       "2  113.031094            1  \n",
       "3  107.722941            2  \n",
       "4   88.123533            2  "
      ]
     },
     "execution_count": 12,
     "metadata": {},
     "output_type": "execute_result"
    }
   ],
   "source": [
    "hierarchial = pd.DataFrame(predicted)\n",
    "data.insert((data.shape[1]),'hierarchial',hierarchial)\n",
    "data.head()"
   ]
  },
  {
   "cell_type": "code",
   "execution_count": 13,
   "metadata": {
    "scrolled": false
   },
   "outputs": [
    {
     "name": "stdout",
     "output_type": "stream",
     "text": [
      "Num_clust=1\n",
      "         internet      secure      export      import   telephone  \\\n",
      "count  103.000000  103.000000  103.000000  103.000000  103.000000   \n",
      "mean    25.565106   53.255241   34.131114   33.645366    5.922029   \n",
      "std     17.137012  130.777282   19.883735   11.260278    7.250118   \n",
      "min      1.083733    0.039753    1.661690    4.637094    0.000000   \n",
      "25%     12.060099    1.979996   20.589396   27.979006    0.859650   \n",
      "50%     21.320000    5.525073   35.117770   37.832033    2.977923   \n",
      "75%     40.250000   29.272596   35.117770   37.832033    8.749972   \n",
      "max     71.715900  677.078864   86.376427   73.088709   46.532156   \n",
      "\n",
      "           hightech      mobile  hierarchial  \n",
      "count  1.030000e+02  103.000000        103.0  \n",
      "mean   8.313556e+09   83.131255          1.0  \n",
      "std    8.819453e+09   32.386939          0.0  \n",
      "min    0.000000e+00    7.049953          1.0  \n",
      "25%    1.037042e+07   63.697434          1.0  \n",
      "50%    1.490164e+10   81.093582          1.0  \n",
      "75%    1.490164e+10  107.722941          1.0  \n",
      "max    4.578091e+10  168.917525          1.0  \n",
      "====================================\n",
      "Num_clust=2\n",
      "        internet       secure     export     import  telephone      hightech  \\\n",
      "count  85.000000    85.000000  85.000000  85.000000  85.000000  8.500000e+01   \n",
      "mean   65.507583   363.341922  31.314071  38.823191  25.253501  7.453669e+09   \n",
      "std    16.962461   460.818447  11.953656   9.844149  13.269418  9.326993e+09   \n",
      "min    13.400000     3.212813   1.983901   8.120046   0.231950  0.000000e+00   \n",
      "25%    51.770000    63.536814  24.133141  37.832033  18.005690  9.604257e+07   \n",
      "50%    65.571600   187.331592  35.117770  37.832033  22.094924  1.776964e+09   \n",
      "75%    77.000000   457.400208  35.117770  41.662095  34.346210  1.490164e+10   \n",
      "max    96.910000  2030.438877  54.761670  73.699393  71.090491  5.725770e+10   \n",
      "\n",
      "           mobile  hierarchial  \n",
      "count   85.000000         85.0  \n",
      "mean   133.079311          2.0  \n",
      "std     38.113653          0.0  \n",
      "min     80.293073          2.0  \n",
      "25%    107.722941          2.0  \n",
      "50%    126.974526          2.0  \n",
      "75%    150.662051          2.0  \n",
      "max    324.440813          2.0  \n",
      "====================================\n",
      "Num_clust=0\n",
      "        internet        secure     export     import   telephone  \\\n",
      "count  29.000000     29.000000  29.000000  29.000000   29.000000   \n",
      "mean   80.656144   2209.673278  49.770874  49.796801   42.158455   \n",
      "std    15.287325   2249.894854  13.852317  13.699203   21.884669   \n",
      "min    48.573173     10.117268  23.724812  19.004245    9.834099   \n",
      "25%    74.550000    850.733176  36.349167  37.832033   31.218892   \n",
      "50%    84.694500   1755.406312  49.973166  49.472334   41.666667   \n",
      "75%    92.651300   2913.937045  58.892572  57.721244   50.969976   \n",
      "max    98.323610  10231.541925  75.998162  84.684010  128.092380   \n",
      "\n",
      "           hightech      mobile  hierarchial  \n",
      "count  2.900000e+01   29.000000         29.0  \n",
      "mean   6.013099e+10  120.745434          0.0  \n",
      "std    1.083195e+11   21.434810          0.0  \n",
      "min    1.013119e+06   57.946262          0.0  \n",
      "25%    8.848310e+09  107.722941          0.0  \n",
      "50%    1.490164e+10  118.911665          0.0  \n",
      "75%    6.941727e+10  133.467550          0.0  \n",
      "max    5.542729e+11  157.408264          0.0  \n",
      "====================================\n"
     ]
    }
   ],
   "source": [
    "for p in data.hierarchial.unique():\n",
    "    print('Num_clust={}'.format(p))\n",
    "    print(data[data.hierarchial == p].describe())\n",
    "    print('====================================')"
   ]
  },
  {
   "cell_type": "code",
   "execution_count": 14,
   "metadata": {},
   "outputs": [
    {
     "data": {
      "text/plain": [
       "<matplotlib.colorbar.Colorbar at 0x11c496f90>"
      ]
     },
     "execution_count": 14,
     "metadata": {},
     "output_type": "execute_result"
    },
    {
     "data": {
      "image/png": "[encoded data removed]",
      "text/plain": [
       "<Figure size 432x288 with 2 Axes>"
      ]
     },
     "metadata": {
      "needs_background": "light"
     },
     "output_type": "display_data"
    }
   ],
   "source": [
    "fig = plt.figure()\n",
    "ax = fig.add_subplot(111)\n",
    "scatter = ax.scatter(data['internet'], data['telephone'],c=hierarchial[0],s=50)\n",
    "ax.set_title('Hierarchial Clustering')\n",
    "ax.set_xlabel('Internet')\n",
    "ax.set_ylabel('Telephone')\n",
    "plt.colorbar(scatter)"
   ]
  },
  {
   "attachments": {},
   "cell_type": "markdown",
   "metadata": {},
   "source": [
    "### Task 2. Open video_games_sales file.\n",
    "\n",
    "Do the cluster analysis using k-means algorithm. Select not less than 4 interval variables for the analysis. Don’t forget to standardize the values of variables if needed.\n",
    "\n",
    "1. Define the number of clusters. Explain your decision.\n",
    "2. Describe the clusters using descriptive statistics.\n",
    "3. Try to name the obtained clusters.\n",
    "4. Save cluster membership variable in the file."
   ]
  },
  {
   "cell_type": "code",
   "execution_count": 15,
   "metadata": {},
   "outputs": [
    {
     "data": {
      "text/html": [
       "<div>\n",
       "<style scoped>\n",
       "    .dataframe tbody tr th:only-of-type {\n",
       "        vertical-align: middle;\n",
       "    }\n",
       "\n",
       "    .dataframe tbody tr th {\n",
       "        vertical-align: top;\n",
       "    }\n",
       "\n",
       "    .dataframe thead th {\n",
       "        text-align: right;\n",
       "    }\n",
       "</style>\n",
       "<table border=\"1\" class=\"dataframe\">\n",
       "  <thead>\n",
       "    <tr style=\"text-align: right;\">\n",
       "      <th></th>\n",
       "      <th>Name</th>\n",
       "      <th>Platform</th>\n",
       "      <th>Year_of_Release</th>\n",
       "      <th>Genre</th>\n",
       "      <th>Publisher</th>\n",
       "      <th>NA_Sales</th>\n",
       "      <th>EU_Sales</th>\n",
       "      <th>JP_Sales</th>\n",
       "      <th>Other_Sales</th>\n",
       "      <th>Global_Sales</th>\n",
       "      <th>Critic_Score</th>\n",
       "      <th>Critic_Count</th>\n",
       "      <th>User_Score</th>\n",
       "      <th>User_Count</th>\n",
       "      <th>Developer</th>\n",
       "      <th>Rating</th>\n",
       "    </tr>\n",
       "  </thead>\n",
       "  <tbody>\n",
       "    <tr>\n",
       "      <th>0</th>\n",
       "      <td>Wii Sports</td>\n",
       "      <td>Wii</td>\n",
       "      <td>2006.0</td>\n",
       "      <td>Sports</td>\n",
       "      <td>Nintendo</td>\n",
       "      <td>41.36</td>\n",
       "      <td>28.96</td>\n",
       "      <td>3.77</td>\n",
       "      <td>8.45</td>\n",
       "      <td>82.53</td>\n",
       "      <td>76.0</td>\n",
       "      <td>51.0</td>\n",
       "      <td>8</td>\n",
       "      <td>322.0</td>\n",
       "      <td>Nintendo</td>\n",
       "      <td>E</td>\n",
       "    </tr>\n",
       "    <tr>\n",
       "      <th>1</th>\n",
       "      <td>Super Mario Bros.</td>\n",
       "      <td>NES</td>\n",
       "      <td>1985.0</td>\n",
       "      <td>Platform</td>\n",
       "      <td>Nintendo</td>\n",
       "      <td>29.08</td>\n",
       "      <td>3.58</td>\n",
       "      <td>6.81</td>\n",
       "      <td>0.77</td>\n",
       "      <td>40.24</td>\n",
       "      <td>NaN</td>\n",
       "      <td>NaN</td>\n",
       "      <td>NaN</td>\n",
       "      <td>NaN</td>\n",
       "      <td>NaN</td>\n",
       "      <td>NaN</td>\n",
       "    </tr>\n",
       "    <tr>\n",
       "      <th>2</th>\n",
       "      <td>Mario Kart Wii</td>\n",
       "      <td>Wii</td>\n",
       "      <td>2008.0</td>\n",
       "      <td>Racing</td>\n",
       "      <td>Nintendo</td>\n",
       "      <td>15.68</td>\n",
       "      <td>12.76</td>\n",
       "      <td>3.79</td>\n",
       "      <td>3.29</td>\n",
       "      <td>35.52</td>\n",
       "      <td>82.0</td>\n",
       "      <td>73.0</td>\n",
       "      <td>8.3</td>\n",
       "      <td>709.0</td>\n",
       "      <td>Nintendo</td>\n",
       "      <td>E</td>\n",
       "    </tr>\n",
       "    <tr>\n",
       "      <th>3</th>\n",
       "      <td>Wii Sports Resort</td>\n",
       "      <td>Wii</td>\n",
       "      <td>2009.0</td>\n",
       "      <td>Sports</td>\n",
       "      <td>Nintendo</td>\n",
       "      <td>15.61</td>\n",
       "      <td>10.93</td>\n",
       "      <td>3.28</td>\n",
       "      <td>2.95</td>\n",
       "      <td>32.77</td>\n",
       "      <td>80.0</td>\n",
       "      <td>73.0</td>\n",
       "      <td>8</td>\n",
       "      <td>192.0</td>\n",
       "      <td>Nintendo</td>\n",
       "      <td>E</td>\n",
       "    </tr>\n",
       "    <tr>\n",
       "      <th>4</th>\n",
       "      <td>Pokemon Red/Pokemon Blue</td>\n",
       "      <td>GB</td>\n",
       "      <td>1996.0</td>\n",
       "      <td>Role-Playing</td>\n",
       "      <td>Nintendo</td>\n",
       "      <td>11.27</td>\n",
       "      <td>8.89</td>\n",
       "      <td>10.22</td>\n",
       "      <td>1.00</td>\n",
       "      <td>31.37</td>\n",
       "      <td>NaN</td>\n",
       "      <td>NaN</td>\n",
       "      <td>NaN</td>\n",
       "      <td>NaN</td>\n",
       "      <td>NaN</td>\n",
       "      <td>NaN</td>\n",
       "    </tr>\n",
       "  </tbody>\n",
       "</table>\n",
       "</div>"
      ],
      "text/plain": [
       "                       Name Platform  Year_of_Release         Genre Publisher  \\\n",
       "0                Wii Sports      Wii           2006.0        Sports  Nintendo   \n",
       "1         Super Mario Bros.      NES           1985.0      Platform  Nintendo   \n",
       "2            Mario Kart Wii      Wii           2008.0        Racing  Nintendo   \n",
       "3         Wii Sports Resort      Wii           2009.0        Sports  Nintendo   \n",
       "4  Pokemon Red/Pokemon Blue       GB           1996.0  Role-Playing  Nintendo   \n",
       "\n",
       "   NA_Sales  EU_Sales  JP_Sales  Other_Sales  Global_Sales  Critic_Score  \\\n",
       "0     41.36     28.96      3.77         8.45         82.53          76.0   \n",
       "1     29.08      3.58      6.81         0.77         40.24           NaN   \n",
       "2     15.68     12.76      3.79         3.29         35.52          82.0   \n",
       "3     15.61     10.93      3.28         2.95         32.77          80.0   \n",
       "4     11.27      8.89     10.22         1.00         31.37           NaN   \n",
       "\n",
       "   Critic_Count User_Score  User_Count Developer Rating  \n",
       "0          51.0          8       322.0  Nintendo      E  \n",
       "1           NaN        NaN         NaN       NaN    NaN  \n",
       "2          73.0        8.3       709.0  Nintendo      E  \n",
       "3          73.0          8       192.0  Nintendo      E  \n",
       "4           NaN        NaN         NaN       NaN    NaN  "
      ]
     },
     "execution_count": 15,
     "metadata": {},
     "output_type": "execute_result"
    }
   ],
   "source": [
    "df = pd.read_csv('data/video_games_sales.csv')\n",
    "df.head()"
   ]
  },
  {
   "cell_type": "code",
   "execution_count": 16,
   "metadata": {},
   "outputs": [
    {
     "name": "stdout",
     "output_type": "stream",
     "text": [
      "Dimension of dataset: (16719, 16)\n"
     ]
    },
    {
     "data": {
      "text/plain": [
       "Name                object\n",
       "Platform            object\n",
       "Year_of_Release    float64\n",
       "Genre               object\n",
       "Publisher           object\n",
       "NA_Sales           float64\n",
       "EU_Sales           float64\n",
       "JP_Sales           float64\n",
       "Other_Sales        float64\n",
       "Global_Sales       float64\n",
       "Critic_Score       float64\n",
       "Critic_Count       float64\n",
       "User_Score          object\n",
       "User_Count         float64\n",
       "Developer           object\n",
       "Rating              object\n",
       "dtype: object"
      ]
     },
     "execution_count": 16,
     "metadata": {},
     "output_type": "execute_result"
    }
   ],
   "source": [
    "print('Dimension of dataset: {}'.format(df.shape))\n",
    "df.dtypes"
   ]
  },
  {
   "cell_type": "code",
   "execution_count": 17,
   "metadata": {},
   "outputs": [
    {
     "data": {
      "text/plain": [
       "Name                  2\n",
       "Platform              0\n",
       "Year_of_Release     269\n",
       "Genre                 2\n",
       "Publisher            54\n",
       "NA_Sales              0\n",
       "EU_Sales              0\n",
       "JP_Sales              0\n",
       "Other_Sales           0\n",
       "Global_Sales          0\n",
       "Critic_Score       8582\n",
       "Critic_Count       8582\n",
       "User_Score         6704\n",
       "User_Count         9129\n",
       "Developer          6623\n",
       "Rating             6769\n",
       "dtype: int64"
      ]
     },
     "execution_count": 17,
     "metadata": {},
     "output_type": "execute_result"
    }
   ],
   "source": [
    "df.isna().sum()"
   ]
  },
  {
   "cell_type": "code",
   "execution_count": 18,
   "metadata": {},
   "outputs": [
    {
     "data": {
      "text/html": [
       "<div>\n",
       "<style scoped>\n",
       "    .dataframe tbody tr th:only-of-type {\n",
       "        vertical-align: middle;\n",
       "    }\n",
       "\n",
       "    .dataframe tbody tr th {\n",
       "        vertical-align: top;\n",
       "    }\n",
       "\n",
       "    .dataframe thead th {\n",
       "        text-align: right;\n",
       "    }\n",
       "</style>\n",
       "<table border=\"1\" class=\"dataframe\">\n",
       "  <thead>\n",
       "    <tr style=\"text-align: right;\">\n",
       "      <th></th>\n",
       "      <th>Year_of_Release</th>\n",
       "      <th>NA_Sales</th>\n",
       "      <th>EU_Sales</th>\n",
       "      <th>JP_Sales</th>\n",
       "      <th>Other_Sales</th>\n",
       "      <th>Global_Sales</th>\n",
       "      <th>Critic_Score</th>\n",
       "      <th>Critic_Count</th>\n",
       "      <th>User_Count</th>\n",
       "    </tr>\n",
       "  </thead>\n",
       "  <tbody>\n",
       "    <tr>\n",
       "      <th>count</th>\n",
       "      <td>16450.000000</td>\n",
       "      <td>16719.000000</td>\n",
       "      <td>16719.000000</td>\n",
       "      <td>16719.000000</td>\n",
       "      <td>16719.000000</td>\n",
       "      <td>16719.000000</td>\n",
       "      <td>8137.000000</td>\n",
       "      <td>8137.000000</td>\n",
       "      <td>7590.000000</td>\n",
       "    </tr>\n",
       "    <tr>\n",
       "      <th>mean</th>\n",
       "      <td>2006.487356</td>\n",
       "      <td>0.263330</td>\n",
       "      <td>0.145025</td>\n",
       "      <td>0.077602</td>\n",
       "      <td>0.047332</td>\n",
       "      <td>0.533543</td>\n",
       "      <td>68.967679</td>\n",
       "      <td>26.360821</td>\n",
       "      <td>162.229908</td>\n",
       "    </tr>\n",
       "    <tr>\n",
       "      <th>std</th>\n",
       "      <td>5.878995</td>\n",
       "      <td>0.813514</td>\n",
       "      <td>0.503283</td>\n",
       "      <td>0.308818</td>\n",
       "      <td>0.186710</td>\n",
       "      <td>1.547935</td>\n",
       "      <td>13.938165</td>\n",
       "      <td>18.980495</td>\n",
       "      <td>561.282326</td>\n",
       "    </tr>\n",
       "    <tr>\n",
       "      <th>min</th>\n",
       "      <td>1980.000000</td>\n",
       "      <td>0.000000</td>\n",
       "      <td>0.000000</td>\n",
       "      <td>0.000000</td>\n",
       "      <td>0.000000</td>\n",
       "      <td>0.010000</td>\n",
       "      <td>13.000000</td>\n",
       "      <td>3.000000</td>\n",
       "      <td>4.000000</td>\n",
       "    </tr>\n",
       "    <tr>\n",
       "      <th>25%</th>\n",
       "      <td>2003.000000</td>\n",
       "      <td>0.000000</td>\n",
       "      <td>0.000000</td>\n",
       "      <td>0.000000</td>\n",
       "      <td>0.000000</td>\n",
       "      <td>0.060000</td>\n",
       "      <td>60.000000</td>\n",
       "      <td>12.000000</td>\n",
       "      <td>10.000000</td>\n",
       "    </tr>\n",
       "    <tr>\n",
       "      <th>50%</th>\n",
       "      <td>2007.000000</td>\n",
       "      <td>0.080000</td>\n",
       "      <td>0.020000</td>\n",
       "      <td>0.000000</td>\n",
       "      <td>0.010000</td>\n",
       "      <td>0.170000</td>\n",
       "      <td>71.000000</td>\n",
       "      <td>21.000000</td>\n",
       "      <td>24.000000</td>\n",
       "    </tr>\n",
       "    <tr>\n",
       "      <th>75%</th>\n",
       "      <td>2010.000000</td>\n",
       "      <td>0.240000</td>\n",
       "      <td>0.110000</td>\n",
       "      <td>0.040000</td>\n",
       "      <td>0.030000</td>\n",
       "      <td>0.470000</td>\n",
       "      <td>79.000000</td>\n",
       "      <td>36.000000</td>\n",
       "      <td>81.000000</td>\n",
       "    </tr>\n",
       "    <tr>\n",
       "      <th>max</th>\n",
       "      <td>2020.000000</td>\n",
       "      <td>41.360000</td>\n",
       "      <td>28.960000</td>\n",
       "      <td>10.220000</td>\n",
       "      <td>10.570000</td>\n",
       "      <td>82.530000</td>\n",
       "      <td>98.000000</td>\n",
       "      <td>113.000000</td>\n",
       "      <td>10665.000000</td>\n",
       "    </tr>\n",
       "  </tbody>\n",
       "</table>\n",
       "</div>"
      ],
      "text/plain": [
       "       Year_of_Release      NA_Sales      EU_Sales      JP_Sales  \\\n",
       "count     16450.000000  16719.000000  16719.000000  16719.000000   \n",
       "mean       2006.487356      0.263330      0.145025      0.077602   \n",
       "std           5.878995      0.813514      0.503283      0.308818   \n",
       "min        1980.000000      0.000000      0.000000      0.000000   \n",
       "25%        2003.000000      0.000000      0.000000      0.000000   \n",
       "50%        2007.000000      0.080000      0.020000      0.000000   \n",
       "75%        2010.000000      0.240000      0.110000      0.040000   \n",
       "max        2020.000000     41.360000     28.960000     10.220000   \n",
       "\n",
       "        Other_Sales  Global_Sales  Critic_Score  Critic_Count    User_Count  \n",
       "count  16719.000000  16719.000000   8137.000000   8137.000000   7590.000000  \n",
       "mean       0.047332      0.533543     68.967679     26.360821    162.229908  \n",
       "std        0.186710      1.547935     13.938165     18.980495    561.282326  \n",
       "min        0.000000      0.010000     13.000000      3.000000      4.000000  \n",
       "25%        0.000000      0.060000     60.000000     12.000000     10.000000  \n",
       "50%        0.010000      0.170000     71.000000     21.000000     24.000000  \n",
       "75%        0.030000      0.470000     79.000000     36.000000     81.000000  \n",
       "max       10.570000     82.530000     98.000000    113.000000  10665.000000  "
      ]
     },
     "execution_count": 18,
     "metadata": {},
     "output_type": "execute_result"
    }
   ],
   "source": [
    "df.describe()"
   ]
  },
  {
   "cell_type": "code",
   "execution_count": 19,
   "metadata": {},
   "outputs": [],
   "source": [
    "df.dropna(inplace=True)"
   ]
  },
  {
   "cell_type": "code",
   "execution_count": 20,
   "metadata": {},
   "outputs": [
    {
     "data": {
      "text/plain": [
       "<matplotlib.axes._subplots.AxesSubplot at 0x105b68b50>"
      ]
     },
     "execution_count": 20,
     "metadata": {},
     "output_type": "execute_result"
    },
    {
     "data": {
      "image/png": "[encoded data removed]",
      "text/plain": [
       "<Figure size 432x288 with 2 Axes>"
      ]
     },
     "metadata": {
      "needs_background": "light"
     },
     "output_type": "display_data"
    }
   ],
   "source": [
    "data = df[['NA_Sales', 'EU_Sales', 'JP_Sales', 'Other_Sales', 'Global_Sales', 'Critic_Score', 'Critic_Count', 'User_Count']]\n",
    "cor = data.corr()\n",
    "sns.heatmap(data.corr(), square = True, cmap='OrRd')"
   ]
  },
  {
   "cell_type": "code",
   "execution_count": 21,
   "metadata": {},
   "outputs": [],
   "source": [
    "data = data[['NA_Sales', 'EU_Sales', 'JP_Sales', 'Other_Sales', 'Global_Sales']]"
   ]
  },
  {
   "cell_type": "code",
   "execution_count": 22,
   "metadata": {},
   "outputs": [
    {
     "data": {
      "text/plain": [
       "array([[42.34974137, 41.79363059, 12.88771102, 31.00717562, 41.6403271 ],\n",
       "       [15.80201412, 18.22243848, 12.95726451, 11.88552527, 17.69593487],\n",
       "       [15.72964882, 15.55976677, 11.18365057, 10.62557157, 16.29523122],\n",
       "       ...,\n",
       "       [-0.40781312, -0.32896273, -0.22312148, -0.30637969, -0.39096937],\n",
       "       [-0.39747522, -0.34351284, -0.22312148, -0.30637969, -0.39096937],\n",
       "       [-0.40781312, -0.32896273, -0.22312148, -0.30637969, -0.39096937]])"
      ]
     },
     "execution_count": 22,
     "metadata": {},
     "output_type": "execute_result"
    }
   ],
   "source": [
    "ss = StandardScaler()\n",
    "scaled = ss.fit_transform(data)\n",
    "scaled"
   ]
  },
  {
   "cell_type": "code",
   "execution_count": 23,
   "metadata": {},
   "outputs": [],
   "source": [
    "kmeans = KMeans(n_clusters=3)"
   ]
  },
  {
   "cell_type": "code",
   "execution_count": 24,
   "metadata": {},
   "outputs": [
    {
     "data": {
      "text/plain": [
       "KMeans(algorithm='auto', copy_x=True, init='k-means++', max_iter=300,\n",
       "       n_clusters=3, n_init=10, n_jobs=None, precompute_distances='auto',\n",
       "       random_state=None, tol=0.0001, verbose=0)"
      ]
     },
     "execution_count": 24,
     "metadata": {},
     "output_type": "execute_result"
    }
   ],
   "source": [
    "kmeans.fit(scaled)"
   ]
  },
  {
   "cell_type": "code",
   "execution_count": 25,
   "metadata": {},
   "outputs": [
    {
     "data": {
      "text/plain": [
       "array([[ 2.18652213,  2.29745373,  1.60053425,  1.96647797,  2.38592877],\n",
       "       [12.17685718, 12.3480706 , 10.77560344, 13.39005823, 13.74068732],\n",
       "       [-0.12988613, -0.13544637, -0.09936928, -0.12243641, -0.14277651]])"
      ]
     },
     "execution_count": 25,
     "metadata": {},
     "output_type": "execute_result"
    }
   ],
   "source": [
    "kmeans.cluster_centers_"
   ]
  },
  {
   "cell_type": "code",
   "execution_count": 26,
   "metadata": {},
   "outputs": [],
   "source": [
    "y = kmeans.fit_predict(scaled)"
   ]
  },
  {
   "cell_type": "code",
   "execution_count": 27,
   "metadata": {},
   "outputs": [
    {
     "data": {
      "text/html": [
       "<div>\n",
       "<style scoped>\n",
       "    .dataframe tbody tr th:only-of-type {\n",
       "        vertical-align: middle;\n",
       "    }\n",
       "\n",
       "    .dataframe tbody tr th {\n",
       "        vertical-align: top;\n",
       "    }\n",
       "\n",
       "    .dataframe thead th {\n",
       "        text-align: right;\n",
       "    }\n",
       "</style>\n",
       "<table border=\"1\" class=\"dataframe\">\n",
       "  <thead>\n",
       "    <tr style=\"text-align: right;\">\n",
       "      <th></th>\n",
       "      <th>NA_Sales</th>\n",
       "      <th>EU_Sales</th>\n",
       "      <th>JP_Sales</th>\n",
       "      <th>Other_Sales</th>\n",
       "      <th>Global_Sales</th>\n",
       "      <th>kmeans</th>\n",
       "    </tr>\n",
       "  </thead>\n",
       "  <tbody>\n",
       "    <tr>\n",
       "      <th>0</th>\n",
       "      <td>41.36</td>\n",
       "      <td>28.96</td>\n",
       "      <td>3.77</td>\n",
       "      <td>8.45</td>\n",
       "      <td>82.53</td>\n",
       "      <td>2</td>\n",
       "    </tr>\n",
       "    <tr>\n",
       "      <th>2</th>\n",
       "      <td>15.68</td>\n",
       "      <td>12.76</td>\n",
       "      <td>3.79</td>\n",
       "      <td>3.29</td>\n",
       "      <td>35.52</td>\n",
       "      <td>2</td>\n",
       "    </tr>\n",
       "    <tr>\n",
       "      <th>3</th>\n",
       "      <td>15.61</td>\n",
       "      <td>10.93</td>\n",
       "      <td>3.28</td>\n",
       "      <td>2.95</td>\n",
       "      <td>32.77</td>\n",
       "      <td>2</td>\n",
       "    </tr>\n",
       "    <tr>\n",
       "      <th>6</th>\n",
       "      <td>11.28</td>\n",
       "      <td>9.14</td>\n",
       "      <td>6.50</td>\n",
       "      <td>2.88</td>\n",
       "      <td>29.80</td>\n",
       "      <td>2</td>\n",
       "    </tr>\n",
       "    <tr>\n",
       "      <th>7</th>\n",
       "      <td>13.96</td>\n",
       "      <td>9.18</td>\n",
       "      <td>2.93</td>\n",
       "      <td>2.84</td>\n",
       "      <td>28.92</td>\n",
       "      <td>2</td>\n",
       "    </tr>\n",
       "  </tbody>\n",
       "</table>\n",
       "</div>"
      ],
      "text/plain": [
       "   NA_Sales  EU_Sales  JP_Sales  Other_Sales  Global_Sales  kmeans\n",
       "0     41.36     28.96      3.77         8.45         82.53       2\n",
       "2     15.68     12.76      3.79         3.29         35.52       2\n",
       "3     15.61     10.93      3.28         2.95         32.77       2\n",
       "6     11.28      9.14      6.50         2.88         29.80       2\n",
       "7     13.96      9.18      2.93         2.84         28.92       2"
      ]
     },
     "execution_count": 27,
     "metadata": {},
     "output_type": "execute_result"
    }
   ],
   "source": [
    "data['kmeans'] = y\n",
    "data.head()"
   ]
  },
  {
   "cell_type": "code",
   "execution_count": 28,
   "metadata": {
    "scrolled": false
   },
   "outputs": [
    {
     "name": "stdout",
     "output_type": "stream",
     "text": [
      "K=2\n",
      "        NA_Sales   EU_Sales   JP_Sales  Other_Sales  Global_Sales  kmeans\n",
      "count  15.000000  15.000000  15.000000    15.000000     15.000000    15.0\n",
      "mean   12.173333   8.722667   3.162667     3.696000     27.754667     2.0\n",
      "std     9.139770   6.589985   1.825324     2.819364     16.419336     0.0\n",
      "min     3.010000   0.010000   0.240000     1.180000     11.660000     2.0\n",
      "25%     7.970000   6.145000   1.815000     1.970000     20.925000     2.0\n",
      "50%     9.710000   8.490000   3.600000     2.840000     22.700000     2.0\n",
      "75%    14.720000   9.190000   4.145000     3.625000     29.360000     2.0\n",
      "max    41.360000  28.960000   6.500000    10.570000     82.530000     2.0\n",
      "================================\n",
      "K=0\n",
      "         NA_Sales    EU_Sales    JP_Sales  Other_Sales  Global_Sales  kmeans\n",
      "count  303.000000  303.000000  303.000000   303.000000    303.000000   303.0\n",
      "mean     2.509538    1.815083    0.524389     0.613333      5.461881     0.0\n",
      "std      1.701621    1.188990    0.844732     0.444749      2.729743     0.0\n",
      "min      0.050000    0.000000    0.000000     0.000000      2.280000     0.0\n",
      "25%      1.385000    1.090000    0.040000     0.330000      3.610000     0.0\n",
      "50%      2.150000    1.570000    0.120000     0.500000      4.490000     0.0\n",
      "75%      3.090000    2.185000    0.750000     0.755000      6.370000     0.0\n",
      "max      9.700000    6.420000    5.330000     2.930000     16.270000     0.0\n",
      "================================\n",
      "K=1\n",
      "          NA_Sales     EU_Sales     JP_Sales  Other_Sales  Global_Sales  \\\n",
      "count  6507.000000  6507.000000  6507.000000  6507.000000   6507.000000   \n",
      "mean      0.268843     0.143000     0.035585     0.049637      0.497277   \n",
      "std       0.351296     0.213559     0.116744     0.076129      0.582331   \n",
      "min       0.000000     0.000000     0.000000     0.000000      0.010000   \n",
      "25%       0.060000     0.020000     0.000000     0.010000      0.110000   \n",
      "50%       0.140000     0.050000     0.000000     0.020000      0.270000   \n",
      "75%       0.340000     0.180000     0.010000     0.060000      0.650000   \n",
      "max       2.850000     2.050000     1.490000     1.180000      3.490000   \n",
      "\n",
      "       kmeans  \n",
      "count  6507.0  \n",
      "mean      1.0  \n",
      "std       0.0  \n",
      "min       1.0  \n",
      "25%       1.0  \n",
      "50%       1.0  \n",
      "75%       1.0  \n",
      "max       1.0  \n",
      "================================\n"
     ]
    }
   ],
   "source": [
    "for k in data.kmeans.unique():\n",
    "    print('K={}'.format(k))\n",
    "    print(data[data.kmeans == k].describe())\n",
    "    print('================================')"
   ]
  }
 ],
 "metadata": {
  "kernelspec": {
   "display_name": "Python 3",
   "language": "python",
   "name": "python3"
  },
  "language_info": {
   "codemirror_mode": {
    "name": "ipython",
    "version": 3
   },
   "file_extension": ".py",
   "mimetype": "text/x-python",
   "name": "python",
   "nbconvert_exporter": "python",
   "pygments_lexer": "ipython3",
   "version": "3.7.6"
  }
 },
 "nbformat": 4,
 "nbformat_minor": 4
}
